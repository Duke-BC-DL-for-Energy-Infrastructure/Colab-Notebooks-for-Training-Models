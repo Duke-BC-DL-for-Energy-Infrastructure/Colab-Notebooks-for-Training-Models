{
  "nbformat": 4,
  "nbformat_minor": 0,
  "metadata": {
    "accelerator": "GPU",
    "colab": {
      "name": "Train EM Validate NW New Background Imagery and Synthetic Generation.ipynb",
      "provenance": [],
      "collapsed_sections": [],
      "include_colab_link": true
    },
    "kernelspec": {
      "display_name": "Python 3",
      "language": "python",
      "name": "python3"
    },
    "language_info": {
      "codemirror_mode": {
        "name": "ipython",
        "version": 3
      },
      "file_extension": ".py",
      "mimetype": "text/x-python",
      "name": "python",
      "nbconvert_exporter": "python",
      "pygments_lexer": "ipython3",
      "version": "3.7.9"
    }
  },
  "cells": [
    {
      "cell_type": "markdown",
      "metadata": {
        "id": "view-in-github",
        "colab_type": "text"
      },
      "source": [
        "<a href=\"https://colab.research.google.com/github/Duke-BC-DL-for-Energy-Infrastructure/Colab-Notebooks-for-Training-Models/blob/main/Transmission-Towers/ALL_Domains.ipynb\" target=\"_parent\"><img src=\"https://colab.research.google.com/assets/colab-badge.svg\" alt=\"Open In Colab\"/></a>"
      ]
    },
    {
      "cell_type": "code",
      "metadata": {
        "id": "e5ylFIvlCEym"
      },
      "source": [
        "import time\n",
        "import glob\n",
        "import torch\n",
        "import os\n",
        "\n",
        "from IPython.display import Image, clear_output \n",
        "print('PyTorch %s %s' % (torch.__version__, torch.cuda.get_device_properties(0) if torch.cuda.is_available() else 'CPU'))"
      ],
      "execution_count": null,
      "outputs": []
    },
    {
      "cell_type": "code",
      "metadata": {
        "id": "pV5YkKaY2Kty"
      },
      "source": [
        "!git clone https://github.com/Duke-BC-DL-for-Energy-Infrastructure/yolov3.git  # clone our fork of the ultralytics repo"
      ],
      "execution_count": null,
      "outputs": []
    },
    {
      "cell_type": "code",
      "metadata": {
        "id": "tIFv0p1TCEyj"
      },
      "source": [
        "!mkdir -p data/\n",
        "\n",
        "# get our data and unzip it\n",
        "!wget -nc -O data/images.zip https://duke.box.com/shared/static/c319qsyg9ohzetpens2091t8b9ikc4nv.zip\n",
        "!wget -nc -O data/labels.zip https://duke.box.com/shared/static/on1ntto9kkljh24dla15gsavi0fnszem.zip\n",
        "\n",
        "!unzip -n -q data/images.zip -d data\n",
        "!unzip -n -q data/labels.zip -d data"
      ],
      "execution_count": null,
      "outputs": []
    },
    {
      "cell_type": "code",
      "metadata": {
        "id": "WbROV33RkX4w"
      },
      "source": [
        "# get modified cfg file that works for 1 class\n",
        "!rm -rf yolov3/cfg \n",
        "\n",
        "!wget -nc -O yolov3/cfg.zip https://duke.box.com/shared/static/pq52dolw5lo5ds8fd7g9v72ekzlngekz.zip\n",
        "!unzip -n -q yolov3/cfg.zip -d yolov3"
      ],
      "execution_count": null,
      "outputs": []
    },
    {
      "cell_type": "code",
      "metadata": {
        "id": "22N_5bxDlf9R"
      },
      "source": [
        "!rm -rf yolov3/data\n",
        "\n",
        "# load in the data.zip file from the box\n",
        "!wget -nc -O yolov3/baseline.zip https://duke.box.com/shared/static/x8uptj03kr36k5hwggjwga3vpjqaau9p.zip\n",
        "!unzip -n -q yolov3/baseline.zip -d yolov3"
      ],
      "execution_count": null,
      "outputs": []
    },
    {
      "cell_type": "code",
      "metadata": {
        "id": "lMTNw1F7shGy"
      },
      "source": [
        "%pwd"
      ],
      "execution_count": null,
      "outputs": []
    },
    {
      "cell_type": "code",
      "metadata": {
        "id": "s0Q7WZXVkJ5A"
      },
      "source": [
        "%cd yolov3"
      ],
      "execution_count": null,
      "outputs": []
    },
    {
      "cell_type": "code",
      "metadata": {
        "id": "7AXYHvkvQt_3"
      },
      "source": [
        "!python3 train.py --cfg cfg/yolov3-spp.cfg --data baseline/baseline.data --img-size 608 --epochs 300 --batch-size 10 --device 0"
      ],
      "execution_count": 11,
      "outputs": []
    },
    {
      "cell_type": "code",
      "metadata": {
        "id": "3RPZJORuRKub"
      },
      "source": [
        "!python3 test.py --cfg cfg/yolov3-spp.cfg --data baseline/baseline.data --img-size 608 --weights weights/last.pt --conf-thres 0.0001"
      ],
      "execution_count": null,
      "outputs": []
    },
    {
      "cell_type": "code",
      "metadata": {
        "id": "4DSdiNm680qB"
      },
      "source": [
        "# Create folder for validation dataset, so that we can run detect.py on it\n",
        "\n",
        "VAL_PATH = 'baseline/val_img_paths.txt' # Provide path to .txt file for validation set\n",
        "\n",
        "from shutil import copyfile\n",
        "%mkdir ../data/val\n",
        "\n",
        "with open(VAL_PATH, 'r') as f:\n",
        "  val_imgs =  [path.replace('\\n', '') for path in f.readlines()]\n",
        "\n",
        "for img in val_imgs:\n",
        "  # copy image to val folder\n",
        "  copyfile(img, img.replace('images', 'val'))"
      ],
      "execution_count": 9,
      "outputs": []
    },
    {
      "cell_type": "code",
      "metadata": {
        "id": "Vnjgge8PvUM4"
      },
      "source": [
        "# DETECT using last.pt\n",
        "!python3 detect.py --names baseline/wnd.names --weights weights/last.pt --source ../data/val --img-size 608"
      ],
      "execution_count": null,
      "outputs": []
    }
  ]
}