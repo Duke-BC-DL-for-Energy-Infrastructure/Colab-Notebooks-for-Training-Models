{
  "nbformat": 4,
  "nbformat_minor": 0,
  "metadata": {
    "accelerator": "GPU",
    "colab": {
      "name": "Train EM Validate EM New Background Imagery and Synthetic Generation.ipynb",
      "provenance": [],
      "collapsed_sections": [],
      "include_colab_link": true
    },
    "kernelspec": {
      "display_name": "Python 3",
      "language": "python",
      "name": "python3"
    },
    "language_info": {
      "codemirror_mode": {
        "name": "ipython",
        "version": 3
      },
      "file_extension": ".py",
      "mimetype": "text/x-python",
      "name": "python",
      "nbconvert_exporter": "python",
      "pygments_lexer": "ipython3",
      "version": "3.7.9"
    }
  },
  "cells": [
    {
      "cell_type": "markdown",
      "metadata": {
        "id": "view-in-github",
        "colab_type": "text"
      },
      "source": [
        "<a href=\"https://colab.research.google.com/github/Duke-BC-DL-for-Energy-Infrastructure/Colab-Notebooks-for-Training-Models/blob/main/Ratio%20Test%20New%20Background%20Imagery%20%2B%20New%20Syn%20Gen/Train_EM_Val_EM.ipynb\" target=\"_parent\"><img src=\"https://colab.research.google.com/assets/colab-badge.svg\" alt=\"Open In Colab\"/></a>"
      ]
    },
    {
      "cell_type": "code",
      "metadata": {
        "id": "e5ylFIvlCEym",
        "outputId": "f0f477c8-4660-4c92-86f2-64b798d90c92",
        "colab": {
          "base_uri": "https://localhost:8080/"
        }
      },
      "source": [
        "import time\n",
        "import glob\n",
        "import torch\n",
        "import os\n",
        "\n",
        "from IPython.display import Image, clear_output \n",
        "print('PyTorch %s %s' % (torch.__version__, torch.cuda.get_device_properties(0) if torch.cuda.is_available() else 'CPU'))"
      ],
      "execution_count": 1,
      "outputs": [
        {
          "output_type": "stream",
          "text": [
            "PyTorch 1.8.1+cu101 _CudaDeviceProperties(name='Tesla T4', major=7, minor=5, total_memory=15109MB, multi_processor_count=40)\n"
          ],
          "name": "stdout"
        }
      ]
    },
    {
      "cell_type": "code",
      "metadata": {
        "id": "pV5YkKaY2Kty",
        "outputId": "51b50c47-fea3-4988-b18a-c3ef51636ba9",
        "colab": {
          "base_uri": "https://localhost:8080/"
        }
      },
      "source": [
        "!git clone https://github.com/Duke-BC-DL-for-Energy-Infrastructure/yolov3.git  # clone our fork of the ultralytics repo"
      ],
      "execution_count": 2,
      "outputs": [
        {
          "output_type": "stream",
          "text": [
            "Cloning into 'yolov3'...\n",
            "remote: Enumerating objects: 9659, done.\u001b[K\n",
            "remote: Total 9659 (delta 0), reused 0 (delta 0), pack-reused 9659\u001b[K\n",
            "Receiving objects: 100% (9659/9659), 8.21 MiB | 31.25 MiB/s, done.\n",
            "Resolving deltas: 100% (6586/6586), done.\n"
          ],
          "name": "stdout"
        }
      ]
    },
    {
      "cell_type": "code",
      "metadata": {
        "id": "tIFv0p1TCEyj",
        "outputId": "9b609f7c-d566-4455-ad49-440d82b51999",
        "colab": {
          "base_uri": "https://localhost:8080/"
        }
      },
      "source": [
        "!mkdir -p data/\n",
        "\n",
        "# get our data and unzip it\n",
        "!wget -nc -O data/images.zip https://duke.box.com/shared/static/rttn4ujt4h9sbuba4poibdvtlqr7fhvz.zip\n",
        "!wget -nc -O data/labels.zip https://duke.box.com/shared/static/psea4em0oh1ng99neowslj9hfz79sckn.zip\n",
        "\n",
        "!unzip -n -q data/images.zip -d data\n",
        "!unzip -n -q data/labels.zip -d data\n",
        "\n",
        "# get the synthetic images and labels and unzip those into the same directory\n",
        "!wget -nc -O data/synthetic_images.zip https://duke.box.com/shared/static/xtjkln8gb3zlt4qefhkjp8lv5q4m6u4a.zip\n",
        "!wget -nc -O data/synthetic_labels.zip https://duke.box.com/shared/static/ks0epms14ql3f3ix318vsa5rn8hwh1hx.zip\n",
        "\n",
        "!unzip -n -q data/synthetic_images.zip -d data\n",
        "!unzip -n -q data/synthetic_labels.zip -d data"
      ],
      "execution_count": 3,
      "outputs": [
        {
          "output_type": "stream",
          "text": [
            "--2021-04-01 01:26:10--  https://duke.box.com/shared/static/rttn4ujt4h9sbuba4poibdvtlqr7fhvz.zip\n",
            "Resolving duke.box.com (duke.box.com)... 107.152.27.197\n",
            "Connecting to duke.box.com (duke.box.com)|107.152.27.197|:443... connected.\n",
            "HTTP request sent, awaiting response... 301 Moved Permanently\n",
            "Location: /public/static/rttn4ujt4h9sbuba4poibdvtlqr7fhvz.zip [following]\n",
            "--2021-04-01 01:26:10--  https://duke.box.com/public/static/rttn4ujt4h9sbuba4poibdvtlqr7fhvz.zip\n",
            "Reusing existing connection to duke.box.com:443.\n",
            "HTTP request sent, awaiting response... 301 Moved Permanently\n",
            "Location: https://duke.app.box.com/public/static/rttn4ujt4h9sbuba4poibdvtlqr7fhvz.zip [following]\n",
            "--2021-04-01 01:26:10--  https://duke.app.box.com/public/static/rttn4ujt4h9sbuba4poibdvtlqr7fhvz.zip\n",
            "Resolving duke.app.box.com (duke.app.box.com)... 107.152.27.201\n",
            "Connecting to duke.app.box.com (duke.app.box.com)|107.152.27.201|:443... connected.\n",
            "HTTP request sent, awaiting response... 302 Found\n",
            "Location: https://public.boxcloud.com/d/1/b1!IWE0Y_KzC4Mhd_Hhtm6ZxbDE-8ChBna6p7y24L5loiyujsc8y7lpIEiZkvmtn9tzMLIIG8DBuNJqM-zhJfWH7pO2qYv-Z23G5APKe7ETxVD9NG4awoDljzAGAxcVscYywW5PEGCuTBEgRgSxw-QAUbwqC6MzwZZOmLwdQXJOgbtzsU4KzGGpiz5Rn_w-jJ_EfadnQZ63OuLsCSvIz-tLUuQAZc39Rm7WwKB6btS-nKKc7rvlwwI6edjaJ0eUddO6CBA4cF5IohY9nbW-lIJZUAz17GobVfuzYKdrGQ7Y3-FE0_5no_bR16TC1bv80a5K1yuLiyEHc5vcg9-dAY8ZqteS3Hsxtu2a_yRcldfZxZAGc_a_llh6nFrl6k7EQV4xx2bs2Po56GujoeApCMGpXbi0In5owuEP_dhYrkcc3W7EcObDl6BgJhG-hP3xdfLL3vq6PZVev-jAilJj9O1lKg9pG6Yk50UdRstAA0_C4bNMTCWeOmEj0l5JsRAsstJXnAEHS1RV4pwXPlvDrdZhVzq41IrQpkacumHh4z8vZA48-1GO3imiSknCg1-hDoy63mlJzfWL99dK0ZHek-vBE37X_enqXXe-wSk_WmR7hcjKHCR7WlN1FGfXXEw3c48n12cYZBaEP43F31u5gcM5OIYURGypF_ncmvKr2lhQb2g7CO-XeENVnBBVuWkrJWMM9uB-514cTd74bpTwWHq3Bex07PFZBzxwfSL6L_Oa7XG0yApqqPwrrfPJ_V3gJugkrC2m8LO4ytf_5ah0dvjbFADYNUuY55dqvtem6DvD-VugVqBp7Lkr08GQ7AMYBSpys4BcEnvHXYG3UsuLSCqjIvnfNRfx3O17z9fSj2gdNks-WhxSueJc-sR4-UgFkk_qJhPjeg-HHwYRNWmuokKOtmQQ9tXnK0nAO0ai9XY8Ix6YZMfEyqy0BeIujYOxJW-KxkhbKTuqqbUNFJloea7YFIehjTAoLuIC_8zqhRpW64VBhY1Qmgqy7IpVasNg6pSURncqDNritPV5FsHf3Pdkfn6chzehnytplw05pwhq-kOCnkQ8pRGWbeenNb3xF_AtZQL8vN7Rjat8zRmJNVLvHXR6OVc-cgiJDfd1hGB3VaDI2RU9_rtUC5HLfIlTfDu3wTWWSe41V7i2VoeIZ1U2TplJUkCakSYjkY7mSoU1bACBN2Gis5j6dhdHHMemdMaudwPWeRuyC_GJ128kFZhcZgOWaXbbYYR1bkUIATriebGTuWfE7HMGtp9xv5ZTunKl3upVGKlNWQZ8SFNv5JqvQtauGsEcUzhQr5Zs328fzGQTJXvOXRaUQn-jXMDFSf75cpHq2aPHDAOMzPi-54xKTVImRCpw7ioAH5mE4jH6lrgHYcCVIT0a/download [following]\n",
            "--2021-04-01 01:26:10--  https://public.boxcloud.com/d/1/b1!IWE0Y_KzC4Mhd_Hhtm6ZxbDE-8ChBna6p7y24L5loiyujsc8y7lpIEiZkvmtn9tzMLIIG8DBuNJqM-zhJfWH7pO2qYv-Z23G5APKe7ETxVD9NG4awoDljzAGAxcVscYywW5PEGCuTBEgRgSxw-QAUbwqC6MzwZZOmLwdQXJOgbtzsU4KzGGpiz5Rn_w-jJ_EfadnQZ63OuLsCSvIz-tLUuQAZc39Rm7WwKB6btS-nKKc7rvlwwI6edjaJ0eUddO6CBA4cF5IohY9nbW-lIJZUAz17GobVfuzYKdrGQ7Y3-FE0_5no_bR16TC1bv80a5K1yuLiyEHc5vcg9-dAY8ZqteS3Hsxtu2a_yRcldfZxZAGc_a_llh6nFrl6k7EQV4xx2bs2Po56GujoeApCMGpXbi0In5owuEP_dhYrkcc3W7EcObDl6BgJhG-hP3xdfLL3vq6PZVev-jAilJj9O1lKg9pG6Yk50UdRstAA0_C4bNMTCWeOmEj0l5JsRAsstJXnAEHS1RV4pwXPlvDrdZhVzq41IrQpkacumHh4z8vZA48-1GO3imiSknCg1-hDoy63mlJzfWL99dK0ZHek-vBE37X_enqXXe-wSk_WmR7hcjKHCR7WlN1FGfXXEw3c48n12cYZBaEP43F31u5gcM5OIYURGypF_ncmvKr2lhQb2g7CO-XeENVnBBVuWkrJWMM9uB-514cTd74bpTwWHq3Bex07PFZBzxwfSL6L_Oa7XG0yApqqPwrrfPJ_V3gJugkrC2m8LO4ytf_5ah0dvjbFADYNUuY55dqvtem6DvD-VugVqBp7Lkr08GQ7AMYBSpys4BcEnvHXYG3UsuLSCqjIvnfNRfx3O17z9fSj2gdNks-WhxSueJc-sR4-UgFkk_qJhPjeg-HHwYRNWmuokKOtmQQ9tXnK0nAO0ai9XY8Ix6YZMfEyqy0BeIujYOxJW-KxkhbKTuqqbUNFJloea7YFIehjTAoLuIC_8zqhRpW64VBhY1Qmgqy7IpVasNg6pSURncqDNritPV5FsHf3Pdkfn6chzehnytplw05pwhq-kOCnkQ8pRGWbeenNb3xF_AtZQL8vN7Rjat8zRmJNVLvHXR6OVc-cgiJDfd1hGB3VaDI2RU9_rtUC5HLfIlTfDu3wTWWSe41V7i2VoeIZ1U2TplJUkCakSYjkY7mSoU1bACBN2Gis5j6dhdHHMemdMaudwPWeRuyC_GJ128kFZhcZgOWaXbbYYR1bkUIATriebGTuWfE7HMGtp9xv5ZTunKl3upVGKlNWQZ8SFNv5JqvQtauGsEcUzhQr5Zs328fzGQTJXvOXRaUQn-jXMDFSf75cpHq2aPHDAOMzPi-54xKTVImRCpw7ioAH5mE4jH6lrgHYcCVIT0a/download\n",
            "Resolving public.boxcloud.com (public.boxcloud.com)... 107.152.27.200\n",
            "Connecting to public.boxcloud.com (public.boxcloud.com)|107.152.27.200|:443... connected.\n",
            "HTTP request sent, awaiting response... 200 OK\n",
            "Length: 115413164 (110M) [application/zip]\n",
            "Saving to: ‘data/images.zip’\n",
            "\n",
            "data/images.zip     100%[===================>] 110.07M  29.5MB/s    in 3.9s    \n",
            "\n",
            "2021-04-01 01:26:15 (28.5 MB/s) - ‘data/images.zip’ saved [115413164/115413164]\n",
            "\n",
            "--2021-04-01 01:26:15--  https://duke.box.com/shared/static/psea4em0oh1ng99neowslj9hfz79sckn.zip\n",
            "Resolving duke.box.com (duke.box.com)... 107.152.27.197\n",
            "Connecting to duke.box.com (duke.box.com)|107.152.27.197|:443... connected.\n",
            "HTTP request sent, awaiting response... 301 Moved Permanently\n",
            "Location: /public/static/psea4em0oh1ng99neowslj9hfz79sckn.zip [following]\n",
            "--2021-04-01 01:26:15--  https://duke.box.com/public/static/psea4em0oh1ng99neowslj9hfz79sckn.zip\n",
            "Reusing existing connection to duke.box.com:443.\n",
            "HTTP request sent, awaiting response... 301 Moved Permanently\n",
            "Location: https://duke.app.box.com/public/static/psea4em0oh1ng99neowslj9hfz79sckn.zip [following]\n",
            "--2021-04-01 01:26:15--  https://duke.app.box.com/public/static/psea4em0oh1ng99neowslj9hfz79sckn.zip\n",
            "Resolving duke.app.box.com (duke.app.box.com)... 107.152.27.201\n",
            "Connecting to duke.app.box.com (duke.app.box.com)|107.152.27.201|:443... connected.\n",
            "HTTP request sent, awaiting response... 302 Found\n",
            "Location: https://public.boxcloud.com/d/1/b1!oYN7bJIK8GljZUBX9qBwsDRHDPSti00mIXiqZhzAXmE0zKRaPQN2Va-4dFRtnC-hnbBPbJEXobw7CJ7Q7qQbTSHyPkXJ4mcpwqSiJmxmWa5yuJOjugeIMpue_62FageEEFyjSjQPLXW8zwY9xxklkAHh6A70s9lmG00_4zxK_5zWP5orSvbshsXRml1nIpfPiCZhy8Z-toI6dmoqahUlfKCqid1MsJiaVNeOjwXmRrx2VTHM-olTyIMoFoyaWIvq43Pb3k75eDghMl08frk3hqHJtLDG5MjZq8Q7yP6xpw8RNQJoVykMCKsEWzlRtuL3hjeQafcLMLIYO3o2ahkqouNqN-h8_VzCsxt4tVw7zPuEi6V5S512-_9luYpehzjPdcd5GRrIVu7W2bMJ3EW-5G2PnmRubVzqXrxjQhBAROLv4OEl8nhavj_rNrGg8eHq8-xkGo0Tft37HELqWgQUWv4-1dURm95u5jNwcbzHzGPL7gVPX6SvMQu54YhmDJZz9ldIOycclWKoqlddACxD-QxrN3H60_GQveFh72ltoi1LEJpfQf9A7LQjvSGNR1rv0tBWCIKXaMOuKAFADQmZ9re6LFst72BtY1Wa9PKDPNWb-7cc2J3xnl-DPB-1ESmeQHnMO_SlmhfbOU5D-JGmzfuFjf-nsGOASzJaWOUlQfLH0QfodJCEeOoG3JSkaqDv12baxpLEWgi67beHY2_3OhNGJ3VFk0qjbvyV33vslwyByt_s5uipq1JKaZpC3xIFIRsaqZA3YvIwvho9iIii6EgIYpYaguQfDAck4KGmwjjHFuuKeyd5h34lbrshmnRsAGwxMgQ47H0QBo4ptGI_uS9jjLVQgQbAI6GzehkvHQW1FGBSogZhD_VT0hu7e9R8lgfeUUuizrP3gJy2juoz_HiWZ-WsdVGhQgU3iwBwTpoOQBO0hsKUY6oikHSV8XpqW13zglGk77N4EFZQPdOQhMGok_TjLcxxhlyx6pe3PP9uujwExT7gxqFSP7gXMebxvKnAiKTNLpkIXGbxjXPsyrqMFwTOjzSuzQy_TnYRf7P1YqzxGByJv6cSl-ry1ixXIa0dTq4rYqQZpqZURpqbXMrl4231XgvA_A-W6z73mTDqbWupOo0IIBIlv8TJrm_wXNOyv-KtPd3jAtAPnt8OgqFOFuCPmiwJhnkRMApUSTGlDhZqJLQ66H_gPOuYOwIveTRrXHi1PXhxT-wY2ouuFW2bS9DpjQd3oYu3J3252UhyEM-lXRfQsM0UQl-rCA75uBG4Ey3F5ggUTM5W4rvSVzIDjz7JnG4XYqIcizK32HgWikf_H9txTLIjOyZCJTVGt_rVEqZKpBdxz_Qaj-EsUuLTVqX5llzrqa75n8liYi5ZiiMT/download [following]\n",
            "--2021-04-01 01:26:16--  https://public.boxcloud.com/d/1/b1!oYN7bJIK8GljZUBX9qBwsDRHDPSti00mIXiqZhzAXmE0zKRaPQN2Va-4dFRtnC-hnbBPbJEXobw7CJ7Q7qQbTSHyPkXJ4mcpwqSiJmxmWa5yuJOjugeIMpue_62FageEEFyjSjQPLXW8zwY9xxklkAHh6A70s9lmG00_4zxK_5zWP5orSvbshsXRml1nIpfPiCZhy8Z-toI6dmoqahUlfKCqid1MsJiaVNeOjwXmRrx2VTHM-olTyIMoFoyaWIvq43Pb3k75eDghMl08frk3hqHJtLDG5MjZq8Q7yP6xpw8RNQJoVykMCKsEWzlRtuL3hjeQafcLMLIYO3o2ahkqouNqN-h8_VzCsxt4tVw7zPuEi6V5S512-_9luYpehzjPdcd5GRrIVu7W2bMJ3EW-5G2PnmRubVzqXrxjQhBAROLv4OEl8nhavj_rNrGg8eHq8-xkGo0Tft37HELqWgQUWv4-1dURm95u5jNwcbzHzGPL7gVPX6SvMQu54YhmDJZz9ldIOycclWKoqlddACxD-QxrN3H60_GQveFh72ltoi1LEJpfQf9A7LQjvSGNR1rv0tBWCIKXaMOuKAFADQmZ9re6LFst72BtY1Wa9PKDPNWb-7cc2J3xnl-DPB-1ESmeQHnMO_SlmhfbOU5D-JGmzfuFjf-nsGOASzJaWOUlQfLH0QfodJCEeOoG3JSkaqDv12baxpLEWgi67beHY2_3OhNGJ3VFk0qjbvyV33vslwyByt_s5uipq1JKaZpC3xIFIRsaqZA3YvIwvho9iIii6EgIYpYaguQfDAck4KGmwjjHFuuKeyd5h34lbrshmnRsAGwxMgQ47H0QBo4ptGI_uS9jjLVQgQbAI6GzehkvHQW1FGBSogZhD_VT0hu7e9R8lgfeUUuizrP3gJy2juoz_HiWZ-WsdVGhQgU3iwBwTpoOQBO0hsKUY6oikHSV8XpqW13zglGk77N4EFZQPdOQhMGok_TjLcxxhlyx6pe3PP9uujwExT7gxqFSP7gXMebxvKnAiKTNLpkIXGbxjXPsyrqMFwTOjzSuzQy_TnYRf7P1YqzxGByJv6cSl-ry1ixXIa0dTq4rYqQZpqZURpqbXMrl4231XgvA_A-W6z73mTDqbWupOo0IIBIlv8TJrm_wXNOyv-KtPd3jAtAPnt8OgqFOFuCPmiwJhnkRMApUSTGlDhZqJLQ66H_gPOuYOwIveTRrXHi1PXhxT-wY2ouuFW2bS9DpjQd3oYu3J3252UhyEM-lXRfQsM0UQl-rCA75uBG4Ey3F5ggUTM5W4rvSVzIDjz7JnG4XYqIcizK32HgWikf_H9txTLIjOyZCJTVGt_rVEqZKpBdxz_Qaj-EsUuLTVqX5llzrqa75n8liYi5ZiiMT/download\n",
            "Resolving public.boxcloud.com (public.boxcloud.com)... 107.152.27.200\n",
            "Connecting to public.boxcloud.com (public.boxcloud.com)|107.152.27.200|:443... connected.\n",
            "HTTP request sent, awaiting response... 200 OK\n",
            "Length: 224119 (219K) [application/zip]\n",
            "Saving to: ‘data/labels.zip’\n",
            "\n",
            "data/labels.zip     100%[===================>] 218.87K  --.-KB/s    in 0.09s   \n",
            "\n",
            "2021-04-01 01:26:16 (2.40 MB/s) - ‘data/labels.zip’ saved [224119/224119]\n",
            "\n",
            "--2021-04-01 01:26:18--  https://duke.box.com/shared/static/xtjkln8gb3zlt4qefhkjp8lv5q4m6u4a.zip\n",
            "Resolving duke.box.com (duke.box.com)... 107.152.27.197\n",
            "Connecting to duke.box.com (duke.box.com)|107.152.27.197|:443... connected.\n",
            "HTTP request sent, awaiting response... 301 Moved Permanently\n",
            "Location: /public/static/xtjkln8gb3zlt4qefhkjp8lv5q4m6u4a.zip [following]\n",
            "--2021-04-01 01:26:18--  https://duke.box.com/public/static/xtjkln8gb3zlt4qefhkjp8lv5q4m6u4a.zip\n",
            "Reusing existing connection to duke.box.com:443.\n",
            "HTTP request sent, awaiting response... 301 Moved Permanently\n",
            "Location: https://duke.app.box.com/public/static/xtjkln8gb3zlt4qefhkjp8lv5q4m6u4a.zip [following]\n",
            "--2021-04-01 01:26:18--  https://duke.app.box.com/public/static/xtjkln8gb3zlt4qefhkjp8lv5q4m6u4a.zip\n",
            "Resolving duke.app.box.com (duke.app.box.com)... 107.152.27.201\n",
            "Connecting to duke.app.box.com (duke.app.box.com)|107.152.27.201|:443... connected.\n",
            "HTTP request sent, awaiting response... 302 Found\n",
            "Location: https://public.boxcloud.com/d/1/b1!199IsAdhQdaw-F-QTnEk03cpPTudLxo2-Ud5xLsJqLqRjckZAEvzGvg2Xi-revQUcqYJBuyUfaUQ1NvweLR1nyLYPNkcZRl6gjkP5moTyZHmesXiHhA6XzJwml11JzygwHz83ZOmotY9jclfy74BeobiGxdkdZRFCW5Y2LDkuw6xmUrBcA2TYbKScGp4H2d4fBasX6_n_mdlwjip0I-I-XXH8Bb-KLPBhQJ8FnXhL8ZFDQMXwLSOVgTqsdHy-HKyI-FPX88uZz9UFcJKY3Htb6RQ1XLoHqUcPy-gYpJyQTYLTXqE1_MBOpOVkmhwBCazrEKhu4JkTVP8xqb2DhivnkaGyQD1u7Xx7SEOLbPr4fff4OXFQzKXRPbrKfpXxDLEfIzLmhe_Z-JbeKSErDGhvohFwmeFFgqS9z5_MR-eoBtKJLmrHCSp7uF_UfdVSRAUzxnv490MOcC40qjGASbuAv8-bMHUVnABPXf3ttOv4V0v-hTtPx09re2pzt42f7jVJizHdbpvVdzO88HOLzCqSM_T-cs4IGMUHp5G7UtwbCgEvCH8suhkmnQ-2FFS0-AYhTrycmoutoIEQNyKLVziitbr2FQl_iWQDbnko6YDm3mb_5xSXbB27hpKkx908tyutYB6EM298stj0t1sLQH3V9daMayKDlbt7AJLT21t0f84_l-3dA6mrvvBw5XBavde9FDbdYNG-PX8hHxWBhRm3jy-jtfNfaa-fDGwKQnOQ6YlwyhvStKJ1CpSeFcjOJs9J173QyGvdjVhAQ8wHsNGHb1IctbeybC6b7WU1LJP8NRjRh8sqlIyDWnO827YnS543FssDVddd9yCMtH1L0NXJlBI6ixsbZhXtDtopVPtGf4D7P-25SAQssXhrRWmGAwUF-YQM2pzxPqe5xlX0UyCxRKP1Sz-n3Lq3zz8Hu02L3g2gHsq2ZRHkmhMCVhg_sxp9eraAwt7p748ngAiYHvuE7EUGIloWQ70KS0Yr1c1cElDUEjh4vA1vO-DTKnJ5JkwYKThhmVrsJtpOJd6igEDOvsrQ5Peu8NNFBokUJW447d2bRL_6HlRXGm3HEd-rhkDf_UHzy-AGKS_2rs_RL19K5sp4BAKsuGjnQUqIxAterz1oxn_CwBvQ6TD4LgGdI_5crswHsRhviAS74-8Ks7RsyP1BlUwVxQsnMaHiec9YixEdxLQcLjNuuCG7PtG29MC0cBN-9jRPZe8mIcwCtHcnXyLhvXVy2tpJx9IpgZdtcRt-4Sp7_ccD2oLvtVaTtyAGYKQ5FL6ZPpkUQo-lobQpjynNJDeDdpJpKay1hGO60qIE7QDnkKuTfkxop6T6ip0jUvXyOVHK5h2IYy1zuWGTfdhOgH09mxdLcZOGWqnyoekFikvAEmZcRgrWDkbHNJhmjA-CKC-EYVw-NxL82OZ30-xlmWfdTRGHNdF/download [following]\n",
            "--2021-04-01 01:26:18--  https://public.boxcloud.com/d/1/b1!199IsAdhQdaw-F-QTnEk03cpPTudLxo2-Ud5xLsJqLqRjckZAEvzGvg2Xi-revQUcqYJBuyUfaUQ1NvweLR1nyLYPNkcZRl6gjkP5moTyZHmesXiHhA6XzJwml11JzygwHz83ZOmotY9jclfy74BeobiGxdkdZRFCW5Y2LDkuw6xmUrBcA2TYbKScGp4H2d4fBasX6_n_mdlwjip0I-I-XXH8Bb-KLPBhQJ8FnXhL8ZFDQMXwLSOVgTqsdHy-HKyI-FPX88uZz9UFcJKY3Htb6RQ1XLoHqUcPy-gYpJyQTYLTXqE1_MBOpOVkmhwBCazrEKhu4JkTVP8xqb2DhivnkaGyQD1u7Xx7SEOLbPr4fff4OXFQzKXRPbrKfpXxDLEfIzLmhe_Z-JbeKSErDGhvohFwmeFFgqS9z5_MR-eoBtKJLmrHCSp7uF_UfdVSRAUzxnv490MOcC40qjGASbuAv8-bMHUVnABPXf3ttOv4V0v-hTtPx09re2pzt42f7jVJizHdbpvVdzO88HOLzCqSM_T-cs4IGMUHp5G7UtwbCgEvCH8suhkmnQ-2FFS0-AYhTrycmoutoIEQNyKLVziitbr2FQl_iWQDbnko6YDm3mb_5xSXbB27hpKkx908tyutYB6EM298stj0t1sLQH3V9daMayKDlbt7AJLT21t0f84_l-3dA6mrvvBw5XBavde9FDbdYNG-PX8hHxWBhRm3jy-jtfNfaa-fDGwKQnOQ6YlwyhvStKJ1CpSeFcjOJs9J173QyGvdjVhAQ8wHsNGHb1IctbeybC6b7WU1LJP8NRjRh8sqlIyDWnO827YnS543FssDVddd9yCMtH1L0NXJlBI6ixsbZhXtDtopVPtGf4D7P-25SAQssXhrRWmGAwUF-YQM2pzxPqe5xlX0UyCxRKP1Sz-n3Lq3zz8Hu02L3g2gHsq2ZRHkmhMCVhg_sxp9eraAwt7p748ngAiYHvuE7EUGIloWQ70KS0Yr1c1cElDUEjh4vA1vO-DTKnJ5JkwYKThhmVrsJtpOJd6igEDOvsrQ5Peu8NNFBokUJW447d2bRL_6HlRXGm3HEd-rhkDf_UHzy-AGKS_2rs_RL19K5sp4BAKsuGjnQUqIxAterz1oxn_CwBvQ6TD4LgGdI_5crswHsRhviAS74-8Ks7RsyP1BlUwVxQsnMaHiec9YixEdxLQcLjNuuCG7PtG29MC0cBN-9jRPZe8mIcwCtHcnXyLhvXVy2tpJx9IpgZdtcRt-4Sp7_ccD2oLvtVaTtyAGYKQ5FL6ZPpkUQo-lobQpjynNJDeDdpJpKay1hGO60qIE7QDnkKuTfkxop6T6ip0jUvXyOVHK5h2IYy1zuWGTfdhOgH09mxdLcZOGWqnyoekFikvAEmZcRgrWDkbHNJhmjA-CKC-EYVw-NxL82OZ30-xlmWfdTRGHNdF/download\n",
            "Resolving public.boxcloud.com (public.boxcloud.com)... 107.152.27.200\n",
            "Connecting to public.boxcloud.com (public.boxcloud.com)|107.152.27.200|:443... connected.\n",
            "HTTP request sent, awaiting response... 200 OK\n",
            "Length: 571730174 (545M) [application/zip]\n",
            "Saving to: ‘data/synthetic_images.zip’\n",
            "\n",
            "data/synthetic_imag 100%[===================>] 545.24M  22.2MB/s    in 27s     \n",
            "\n",
            "2021-04-01 01:26:46 (20.2 MB/s) - ‘data/synthetic_images.zip’ saved [571730174/571730174]\n",
            "\n",
            "--2021-04-01 01:26:46--  https://duke.box.com/shared/static/ks0epms14ql3f3ix318vsa5rn8hwh1hx.zip\n",
            "Resolving duke.box.com (duke.box.com)... 107.152.27.197\n",
            "Connecting to duke.box.com (duke.box.com)|107.152.27.197|:443... connected.\n",
            "HTTP request sent, awaiting response... 301 Moved Permanently\n",
            "Location: /public/static/ks0epms14ql3f3ix318vsa5rn8hwh1hx.zip [following]\n",
            "--2021-04-01 01:26:46--  https://duke.box.com/public/static/ks0epms14ql3f3ix318vsa5rn8hwh1hx.zip\n",
            "Reusing existing connection to duke.box.com:443.\n",
            "HTTP request sent, awaiting response... 301 Moved Permanently\n",
            "Location: https://duke.app.box.com/public/static/ks0epms14ql3f3ix318vsa5rn8hwh1hx.zip [following]\n",
            "--2021-04-01 01:26:46--  https://duke.app.box.com/public/static/ks0epms14ql3f3ix318vsa5rn8hwh1hx.zip\n",
            "Resolving duke.app.box.com (duke.app.box.com)... 107.152.27.201\n",
            "Connecting to duke.app.box.com (duke.app.box.com)|107.152.27.201|:443... connected.\n",
            "HTTP request sent, awaiting response... 302 Found\n",
            "Location: https://public.boxcloud.com/d/1/b1!5xtujBKjHl-V6iok12z_sAaeLJAVxz9rz_ox8_uzVFz4C9nttEoaonrzW7v9IM_wpsuPJxtagzpR7WUPjNHI09GuZXC6m0pdYIPOfqeCWQuvqL_kFE3Onpb6PEvd0N1Hy8000eFNCrflQCmJNEg76LddvjBIIsSROlNce42mHRVPBQTt5zNg9C1V4V7oXLPHzcSi2II27DmEKTN8E1ebLup6k0KmeNJdMUxyRyn3XzXU8rorm-lgcyQe6q1K5_RQ-nfXoi5EdxtrCha9M6ox5SQMtIAd0w64tP1ep8AYSci6vW2AIMecYrnUZwVqnPQDZ7zdwCm4NNqFIzHUY2BA8cB_opfnhICBuY8579hUeMAvrArIy_Blr5QaQMgC2SrJ3nPN4vGoB2P_NP-kq9sY77Z5R7E4RVSBoTSyyfKjlEuD6-C0Us64D4EEeaOgt09Q50wSrDVWvp9_lICipFPbKQ9pCt3gqwXJqQV_Hj7oZxLBo0r7WIfMLGRPjqzXaZ2soAoDdc2ltZ2IKVF8aqwKxe_ql44f26PGW7aHJBa0wKlKlVGs1i7LnyN2-89F_Upm7ifYdrHfmEGl1Ssf6waOAN82g8SSj7ZoR6u_g5U19vC2iJsVq7caGSGj0C_obsUXBx55gYreQcpq6ekk2wng0gBSM_4nzUZMudJzYXcGoGbrTvLAtzPTNlIn_6riubN6uaHIe1OLDpLe7jHPEGldH_jnmWsoViUt1TyT5hZOERScxqXbEMiwx5V5BzIAOq4chQeh4MzHdk1FkafJLNAAafJ36c0_sF0oQOS6WMSHezGxyal3h8boBXnGcGrm3W64qx6awHlrUAgLJIsFlAPNul2anl588V02fefXAqVDuuLv6hBHK07Qyv9deVKb_9iAF9SosiT6_KCOy39AspDtKqhEJ9j7WiNq3f0WaFtkkoQN0kvFsZDcocYr6FkzcsmvH2mHsLavWfPEOYOJMeYUqcrjFucu0KLqXSTrjr6JdlVvBts3xvCqcMAoI8lsW3XpSsQCTmp7gqNXTBRR-kF4oljmZ7MKKUOMZSOUQugSe4I2nMRrK2fyPkqb_U-SLCNJKww8jAynGnXpAnRanF578ogsg5zvYtXdOz9J5lZAYUfrpfxXvkKFR1S20Zh5pRPNOrYrd44v8GCtJ6IPMIUdzJO8zgmpVTRKYxRy0GdTxM3FPfpZOPl9NbtKqRssJdsIABRbdMnRvhw3Kd62yD2AKCgK8qzXW3KgEwXiQkTF7w06NwgOarjF1s8bWelIzBXVfCKAmQncbZzrCmekeOlqJmLKs3F9vdMy3_rylComxqV5lwO1sipRuIC17feIhjlnILqxKig64t5tOT5tfm_QatTRkOBi22LD0ttCfz99UP77l1lvrf-ZFoSS2lH1KQ../download [following]\n",
            "--2021-04-01 01:26:47--  https://public.boxcloud.com/d/1/b1!5xtujBKjHl-V6iok12z_sAaeLJAVxz9rz_ox8_uzVFz4C9nttEoaonrzW7v9IM_wpsuPJxtagzpR7WUPjNHI09GuZXC6m0pdYIPOfqeCWQuvqL_kFE3Onpb6PEvd0N1Hy8000eFNCrflQCmJNEg76LddvjBIIsSROlNce42mHRVPBQTt5zNg9C1V4V7oXLPHzcSi2II27DmEKTN8E1ebLup6k0KmeNJdMUxyRyn3XzXU8rorm-lgcyQe6q1K5_RQ-nfXoi5EdxtrCha9M6ox5SQMtIAd0w64tP1ep8AYSci6vW2AIMecYrnUZwVqnPQDZ7zdwCm4NNqFIzHUY2BA8cB_opfnhICBuY8579hUeMAvrArIy_Blr5QaQMgC2SrJ3nPN4vGoB2P_NP-kq9sY77Z5R7E4RVSBoTSyyfKjlEuD6-C0Us64D4EEeaOgt09Q50wSrDVWvp9_lICipFPbKQ9pCt3gqwXJqQV_Hj7oZxLBo0r7WIfMLGRPjqzXaZ2soAoDdc2ltZ2IKVF8aqwKxe_ql44f26PGW7aHJBa0wKlKlVGs1i7LnyN2-89F_Upm7ifYdrHfmEGl1Ssf6waOAN82g8SSj7ZoR6u_g5U19vC2iJsVq7caGSGj0C_obsUXBx55gYreQcpq6ekk2wng0gBSM_4nzUZMudJzYXcGoGbrTvLAtzPTNlIn_6riubN6uaHIe1OLDpLe7jHPEGldH_jnmWsoViUt1TyT5hZOERScxqXbEMiwx5V5BzIAOq4chQeh4MzHdk1FkafJLNAAafJ36c0_sF0oQOS6WMSHezGxyal3h8boBXnGcGrm3W64qx6awHlrUAgLJIsFlAPNul2anl588V02fefXAqVDuuLv6hBHK07Qyv9deVKb_9iAF9SosiT6_KCOy39AspDtKqhEJ9j7WiNq3f0WaFtkkoQN0kvFsZDcocYr6FkzcsmvH2mHsLavWfPEOYOJMeYUqcrjFucu0KLqXSTrjr6JdlVvBts3xvCqcMAoI8lsW3XpSsQCTmp7gqNXTBRR-kF4oljmZ7MKKUOMZSOUQugSe4I2nMRrK2fyPkqb_U-SLCNJKww8jAynGnXpAnRanF578ogsg5zvYtXdOz9J5lZAYUfrpfxXvkKFR1S20Zh5pRPNOrYrd44v8GCtJ6IPMIUdzJO8zgmpVTRKYxRy0GdTxM3FPfpZOPl9NbtKqRssJdsIABRbdMnRvhw3Kd62yD2AKCgK8qzXW3KgEwXiQkTF7w06NwgOarjF1s8bWelIzBXVfCKAmQncbZzrCmekeOlqJmLKs3F9vdMy3_rylComxqV5lwO1sipRuIC17feIhjlnILqxKig64t5tOT5tfm_QatTRkOBi22LD0ttCfz99UP77l1lvrf-ZFoSS2lH1KQ../download\n",
            "Resolving public.boxcloud.com (public.boxcloud.com)... 107.152.29.200\n",
            "Connecting to public.boxcloud.com (public.boxcloud.com)|107.152.29.200|:443... connected.\n",
            "HTTP request sent, awaiting response... 200 OK\n",
            "Length: 160157 (156K) [application/zip]\n",
            "Saving to: ‘data/synthetic_labels.zip’\n",
            "\n",
            "data/synthetic_labe 100%[===================>] 156.40K  --.-KB/s    in 0.06s   \n",
            "\n",
            "2021-04-01 01:26:47 (2.68 MB/s) - ‘data/synthetic_labels.zip’ saved [160157/160157]\n",
            "\n"
          ],
          "name": "stdout"
        }
      ]
    },
    {
      "cell_type": "code",
      "metadata": {
        "id": "WbROV33RkX4w",
        "outputId": "8ef6914a-83c3-4b6d-dcb0-1f2f365184ae",
        "colab": {
          "base_uri": "https://localhost:8080/"
        }
      },
      "source": [
        "# get modified cfg file that works for 1 class\n",
        "!rm -rf yolov3/cfg \n",
        "\n",
        "!wget -nc -O yolov3/cfg.zip https://duke.box.com/shared/static/pq52dolw5lo5ds8fd7g9v72ekzlngekz.zip\n",
        "!unzip -n -q yolov3/cfg.zip -d yolov3"
      ],
      "execution_count": 4,
      "outputs": [
        {
          "output_type": "stream",
          "text": [
            "--2021-04-01 01:26:52--  https://duke.box.com/shared/static/pq52dolw5lo5ds8fd7g9v72ekzlngekz.zip\n",
            "Resolving duke.box.com (duke.box.com)... 107.152.27.197\n",
            "Connecting to duke.box.com (duke.box.com)|107.152.27.197|:443... connected.\n",
            "HTTP request sent, awaiting response... 301 Moved Permanently\n",
            "Location: /public/static/pq52dolw5lo5ds8fd7g9v72ekzlngekz.zip [following]\n",
            "--2021-04-01 01:26:52--  https://duke.box.com/public/static/pq52dolw5lo5ds8fd7g9v72ekzlngekz.zip\n",
            "Reusing existing connection to duke.box.com:443.\n",
            "HTTP request sent, awaiting response... 301 Moved Permanently\n",
            "Location: https://duke.app.box.com/public/static/pq52dolw5lo5ds8fd7g9v72ekzlngekz.zip [following]\n",
            "--2021-04-01 01:26:52--  https://duke.app.box.com/public/static/pq52dolw5lo5ds8fd7g9v72ekzlngekz.zip\n",
            "Resolving duke.app.box.com (duke.app.box.com)... 107.152.27.201\n",
            "Connecting to duke.app.box.com (duke.app.box.com)|107.152.27.201|:443... connected.\n",
            "HTTP request sent, awaiting response... 302 Found\n",
            "Location: https://public.boxcloud.com/d/1/b1!R8H1olkD-7OC8OT_dY6cZ4AqxOs2N0LYa0kOK2tZyy53Ruky2HArwUw3aRgx0JBlvlMgA3SbODdCkcqwbVdYQGsFtCY8U8wuNZ98QO2KmYFXCho6vvS8Sc-HEDZ3YrU7OKu3qnasPKnTPN8wY1HI-h57ieRP2yC5IzS53yNu2E_q6JIUxHlV1Ar-je7amtfY4uzlxBtgH14FEP0mQJPSBnUMw218c2aoVexC5lrZ43QmPOEuFk6PZ2U4cASDMyAZ7qFOw1wjlf0zVW0XiqKBmfw3YZduO_52_ekdpBUGDE-MWrJLNQ0zVXwKbrSiYBBVlZ-uft5W59t-znKQwJfDIRcavFz-ZyFsHvKj6DrDkAzn38Z4otOtc5j4rbX8_fneJh3XrQegG-JQzGg8TLpmAfmvhiIqtkhr7zOhf_5kz3u87cmjbtpnKV_Hq_LFyKlqY-yjvnqhuggvikqUFDGf0d_cE2HmpGlr039em2G1fHqvjEvt5qy4MgopAxk94-hTq0FWYPNFOkZGVoe0jgiXqh_YfoQnlbHd-Ce5AhTFsGAeIUw3V4My4zC5F4aE3wBFxc5X4leS5h6oft4_mEQw4P6IlkThXzxR6lBw__TYCCUBWCfV9aXSiK8GhO7H-WZLV8srSJfVYMPJloFfgMpqf0CumBFGpFpBzN7gP0iBcX20rPhV5FnG6RtCLKYzQ5Esce0vEjl3Ob07vVFGacwcjQLstMFNtotRof0lNXq7e1BE3TjjBFoi96FtNyY_TVPnjTOza8vQBeBTIHS_MtfYW8TdLKfmsB-vfaa9pABdk-u8uI10rW7ahd6g4_z6wMg0Y5P9G4vaQfE6ZXWNKiOezXE6Psco_VS_ShlOrj-8PQoi6NbLSnFzSuzheoLu1HmB1YiQqHUEdBEXjc79we8QlmEJpyPBj-4qfbyQv4WGn993jK49IAqh69epJPA8ZfJ2QhO-djFrhBIaKohP2p2NdxTRuEXYW49dMZjywvhs2zXjMMXJzv6Z7YL-EhLorZCV_OOx0yeyAzfHZd55iRE1ibNDDDCTOY2IuKDx4gnGY_UT2tk9dPUrllsX3SXYzblR0nzQhwa9rxPAb9S0wJjDGcQP_zwF3JDCWXXevFL7QtPLXVHi2jA1HTO_0Ks3U3-IOywqbs9ZF4YPUod9lxpmakrQEx7NzHLs_DcEV9sJcp2ZzF0ag0karN0M6DN4N51lDrcMCK4ZtcyCpzOjU9jTELZ97fV9MD8PM-_5ythcaVBSYvAf226a2KHCnPN2NEuZurIvpgm3h6WLA7LWGHw2RyJHW-EJE2eMbVZd2dmnP9t2_7Hm6KcjNZbd6guNvIA6r-FgC_Wn_z9OAdO1QZjSo7yyVZEFQ1QD1d-4cj3E/download [following]\n",
            "--2021-04-01 01:26:52--  https://public.boxcloud.com/d/1/b1!R8H1olkD-7OC8OT_dY6cZ4AqxOs2N0LYa0kOK2tZyy53Ruky2HArwUw3aRgx0JBlvlMgA3SbODdCkcqwbVdYQGsFtCY8U8wuNZ98QO2KmYFXCho6vvS8Sc-HEDZ3YrU7OKu3qnasPKnTPN8wY1HI-h57ieRP2yC5IzS53yNu2E_q6JIUxHlV1Ar-je7amtfY4uzlxBtgH14FEP0mQJPSBnUMw218c2aoVexC5lrZ43QmPOEuFk6PZ2U4cASDMyAZ7qFOw1wjlf0zVW0XiqKBmfw3YZduO_52_ekdpBUGDE-MWrJLNQ0zVXwKbrSiYBBVlZ-uft5W59t-znKQwJfDIRcavFz-ZyFsHvKj6DrDkAzn38Z4otOtc5j4rbX8_fneJh3XrQegG-JQzGg8TLpmAfmvhiIqtkhr7zOhf_5kz3u87cmjbtpnKV_Hq_LFyKlqY-yjvnqhuggvikqUFDGf0d_cE2HmpGlr039em2G1fHqvjEvt5qy4MgopAxk94-hTq0FWYPNFOkZGVoe0jgiXqh_YfoQnlbHd-Ce5AhTFsGAeIUw3V4My4zC5F4aE3wBFxc5X4leS5h6oft4_mEQw4P6IlkThXzxR6lBw__TYCCUBWCfV9aXSiK8GhO7H-WZLV8srSJfVYMPJloFfgMpqf0CumBFGpFpBzN7gP0iBcX20rPhV5FnG6RtCLKYzQ5Esce0vEjl3Ob07vVFGacwcjQLstMFNtotRof0lNXq7e1BE3TjjBFoi96FtNyY_TVPnjTOza8vQBeBTIHS_MtfYW8TdLKfmsB-vfaa9pABdk-u8uI10rW7ahd6g4_z6wMg0Y5P9G4vaQfE6ZXWNKiOezXE6Psco_VS_ShlOrj-8PQoi6NbLSnFzSuzheoLu1HmB1YiQqHUEdBEXjc79we8QlmEJpyPBj-4qfbyQv4WGn993jK49IAqh69epJPA8ZfJ2QhO-djFrhBIaKohP2p2NdxTRuEXYW49dMZjywvhs2zXjMMXJzv6Z7YL-EhLorZCV_OOx0yeyAzfHZd55iRE1ibNDDDCTOY2IuKDx4gnGY_UT2tk9dPUrllsX3SXYzblR0nzQhwa9rxPAb9S0wJjDGcQP_zwF3JDCWXXevFL7QtPLXVHi2jA1HTO_0Ks3U3-IOywqbs9ZF4YPUod9lxpmakrQEx7NzHLs_DcEV9sJcp2ZzF0ag0karN0M6DN4N51lDrcMCK4ZtcyCpzOjU9jTELZ97fV9MD8PM-_5ythcaVBSYvAf226a2KHCnPN2NEuZurIvpgm3h6WLA7LWGHw2RyJHW-EJE2eMbVZd2dmnP9t2_7Hm6KcjNZbd6guNvIA6r-FgC_Wn_z9OAdO1QZjSo7yyVZEFQ1QD1d-4cj3E/download\n",
            "Resolving public.boxcloud.com (public.boxcloud.com)... 107.152.27.200\n",
            "Connecting to public.boxcloud.com (public.boxcloud.com)|107.152.27.200|:443... connected.\n",
            "HTTP request sent, awaiting response... 200 OK\n",
            "Length: 891 [application/zip]\n",
            "Saving to: ‘yolov3/cfg.zip’\n",
            "\n",
            "yolov3/cfg.zip      100%[===================>]     891  --.-KB/s    in 0s      \n",
            "\n",
            "2021-04-01 01:26:53 (135 MB/s) - ‘yolov3/cfg.zip’ saved [891/891]\n",
            "\n"
          ],
          "name": "stdout"
        }
      ]
    },
    {
      "cell_type": "code",
      "metadata": {
        "id": "22N_5bxDlf9R"
      },
      "source": [
        "# GET CROSS DOMAIN DATA\n",
        "# delete the original data folder so we can unzip our own data folder with the wind turbine data\n",
        "!rm -rf yolov3/data\n",
        "\n",
        "# load in the data.zip file from the box\n",
        "!wget -nc -O yolov3/baseline.zip https://duke.box.com/shared/static/wtlmzldd7v1i7k1edea0pro99qwdzs1c.zip\n",
        "!unzip -n -q yolov3/baseline.zip -d yolov3\n",
        "\n",
        "# get the synthetic_data file from the box\n",
        "!wget -nc -O yolov3/adding_synthetic_50.zip https://duke.box.com/shared/static/bphlgqtb62wy803iifnurrfp2p5adiai.zip\n",
        "!unzip -n -q yolov3/adding_synthetic_50.zip -d yolov3\n",
        "\n",
        "!wget -nc -O yolov3/adding_synthetic_100.zip https://duke.box.com/shared/static/kz3y8fxpbhdpghc9ur2tec694o8njy4m.zip\n",
        "!unzip -n -q yolov3/adding_synthetic_100.zip -d yolov3\n",
        "\n",
        "!wget -nc -O yolov3/adding_synthetic_200.zip https://duke.box.com/shared/static/kkpzozewhdujms14ny5corlxlyzvy28d.zip\n",
        "!unzip -n -q yolov3/adding_synthetic_200.zip -d yolov3"
      ],
      "execution_count": null,
      "outputs": []
    },
    {
      "cell_type": "code",
      "metadata": {
        "id": "lMTNw1F7shGy",
        "outputId": "d52222b1-fa19-488b-c48c-3df9bd2ea875",
        "colab": {
          "base_uri": "https://localhost:8080/",
          "height": 35
        }
      },
      "source": [
        "%pwd"
      ],
      "execution_count": 6,
      "outputs": [
        {
          "output_type": "execute_result",
          "data": {
            "application/vnd.google.colaboratory.intrinsic+json": {
              "type": "string"
            },
            "text/plain": [
              "'/content'"
            ]
          },
          "metadata": {
            "tags": []
          },
          "execution_count": 6
        }
      ]
    },
    {
      "cell_type": "code",
      "metadata": {
        "id": "s0Q7WZXVkJ5A",
        "outputId": "05dba49f-7f4e-43e5-c064-0cad1c075e81",
        "colab": {
          "base_uri": "https://localhost:8080/"
        }
      },
      "source": [
        "%cd yolov3"
      ],
      "execution_count": 7,
      "outputs": [
        {
          "output_type": "stream",
          "text": [
            "/content/yolov3\n"
          ],
          "name": "stdout"
        }
      ]
    },
    {
      "cell_type": "code",
      "metadata": {
        "id": "596_VSWqAmSC"
      },
      "source": [
        "# Training on EM and validating on EM\n",
        "!python3 train.py --cfg cfg/yolov3-spp.cfg --data baseline/baseline.data --img-size 608 --epochs 300 --batch-size 10 --device 0"
      ],
      "execution_count": null,
      "outputs": []
    },
    {
      "cell_type": "code",
      "metadata": {
        "id": "ks4sl9UIAmSP"
      },
      "source": [
        "!python3 test.py --cfg cfg/yolov3-spp.cfg --data baseline/baseline.data --img-size 608 --weights weights/last.pt --conf-thres 0.0001"
      ],
      "execution_count": null,
      "outputs": []
    },
    {
      "cell_type": "code",
      "metadata": {
        "id": "0XRR2gnrAmSS"
      },
      "source": [
        "# Training on EM + 50 synthetic EM and validating on EM\n",
        "!python3 train.py --cfg cfg/yolov3-spp.cfg --data adding_synthetic_50/adding_synthetic.data --img-size 608 --epochs 300 --batch-size 10 --device 0"
      ],
      "execution_count": null,
      "outputs": []
    },
    {
      "cell_type": "code",
      "metadata": {
        "id": "EElYN9PgAmSU"
      },
      "source": [
        "!python3 test.py --cfg cfg/yolov3-spp.cfg --data adding_synthetic_50/adding_synthetic.data --img-size 608 --weights weights/last.pt --conf-thres 0.0001"
      ],
      "execution_count": null,
      "outputs": []
    },
    {
      "cell_type": "code",
      "metadata": {
        "id": "OY-cUgfB_XZJ"
      },
      "source": [
        "# Training on EM + 100 synthetic EM and validating on EM\n",
        "!python3 train.py --cfg cfg/yolov3-spp.cfg --data adding_synthetic_100/adding_synthetic.data --img-size 608 --epochs 300 --batch-size 10 --device 0"
      ],
      "execution_count": 8,
      "outputs": []
    },
    {
      "cell_type": "code",
      "metadata": {
        "id": "gxGfgDfM_XZq"
      },
      "source": [
        "!python3 test.py --cfg cfg/yolov3-spp.cfg --data adding_synthetic_100/adding_synthetic.data --img-size 608 --weights weights/last.pt --conf-thres 0.0001"
      ],
      "execution_count": null,
      "outputs": []
    },
    {
      "cell_type": "code",
      "metadata": {
        "id": "YvWT04Fr_X_G"
      },
      "source": [
        "# Training on EM + 200 synthetic EM and validating on EM\n",
        "!python3 train.py --cfg cfg/yolov3-spp.cfg --data adding_synthetic_200/adding_synthetic.data --img-size 608 --epochs 300 --batch-size 10 --device 0"
      ],
      "execution_count": null,
      "outputs": []
    },
    {
      "cell_type": "code",
      "metadata": {
        "id": "RPiQ4ckG_X_I"
      },
      "source": [
        "!python3 test.py --cfg cfg/yolov3-spp.cfg --data adding_synthetic_200/adding_synthetic.data --img-size 608 --weights weights/last.pt --conf-thres 0.0001"
      ],
      "execution_count": null,
      "outputs": []
    },
    {
      "cell_type": "code",
      "metadata": {
        "id": "4DSdiNm680qB"
      },
      "source": [
        "# Create folder for validation dataset, so that we can run detect.py on it\n",
        "\n",
        "VAL_PATH = 'baseline/val_img_paths.txt' # Provide path to .txt file for validation set\n",
        "\n",
        "from shutil import copyfile\n",
        "%mkdir ../data/val\n",
        "\n",
        "with open(VAL_PATH, 'r') as f:\n",
        "  val_imgs =  [path.replace('\\n', '') for path in f.readlines()]\n",
        "\n",
        "for img in val_imgs:\n",
        "  # copy image to val folder\n",
        "  copyfile(img, img.replace('images', 'val'))"
      ],
      "execution_count": null,
      "outputs": []
    },
    {
      "cell_type": "code",
      "metadata": {
        "id": "Vnjgge8PvUM4"
      },
      "source": [
        "# DETECT using last.pt\n",
        "!python3 detect.py --names baseline/wnd.names --weights weights/last.pt --source ../data/val --img-size 608"
      ],
      "execution_count": null,
      "outputs": []
    }
  ]
}
