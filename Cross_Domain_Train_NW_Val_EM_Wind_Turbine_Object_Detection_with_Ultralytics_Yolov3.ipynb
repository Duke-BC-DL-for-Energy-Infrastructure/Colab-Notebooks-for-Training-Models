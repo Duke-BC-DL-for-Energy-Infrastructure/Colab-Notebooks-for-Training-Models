{
  "nbformat": 4,
  "nbformat_minor": 0,
  "metadata": {
    "accelerator": "GPU",
    "colab": {
      "name": "Cross Domain Train NE Validate NW Wind Turbine Object Detection with Ultralytics Yolov3.ipynb",
      "provenance": [],
      "collapsed_sections": [],
      "include_colab_link": true
    },
    "kernelspec": {
      "display_name": "Python 3",
      "language": "python",
      "name": "python3"
    },
    "language_info": {
      "codemirror_mode": {
        "name": "ipython",
        "version": 3
      },
      "file_extension": ".py",
      "mimetype": "text/x-python",
      "name": "python",
      "nbconvert_exporter": "python",
      "pygments_lexer": "ipython3",
      "version": "3.7.9"
    }
  },
  "cells": [
    {
      "cell_type": "markdown",
      "metadata": {
        "id": "view-in-github",
        "colab_type": "text"
      },
      "source": [
        "<a href=\"https://colab.research.google.com/github/Duke-BC-DL-for-Energy-Infrastructure/Colab-Notebooks-for-Training-Models/blob/main/Cross_Domain_Train_NW_Val_EM_Wind_Turbine_Object_Detection_with_Ultralytics_Yolov3.ipynb\" target=\"_parent\"><img src=\"https://colab.research.google.com/assets/colab-badge.svg\" alt=\"Open In Colab\"/></a>"
      ]
    },
    {
      "cell_type": "code",
      "metadata": {
        "id": "e5ylFIvlCEym"
      },
      "source": [
        "import time\n",
        "import glob\n",
        "import torch\n",
        "import os\n",
        "\n",
        "from IPython.display import Image, clear_output \n",
        "print('PyTorch %s %s' % (torch.__version__, torch.cuda.get_device_properties(0) if torch.cuda.is_available() else 'CPU'))"
      ],
      "execution_count": null,
      "outputs": []
    },
    {
      "cell_type": "code",
      "metadata": {
        "id": "pV5YkKaY2Kty"
      },
      "source": [
        "!git clone https://github.com/Duke-BC-DL-for-Energy-Infrastructure/yolov3.git  # clone our fork of the ultralytics repo"
      ],
      "execution_count": null,
      "outputs": []
    },
    {
      "cell_type": "code",
      "metadata": {
        "id": "tIFv0p1TCEyj"
      },
      "source": [
        "!mkdir -p data/\n",
        "\n",
        "# get our data and unzip it\n",
        "!wget -nc -O data/images.zip https://duke.box.com/shared/static/gc6g6054alnjtp0isdcccuxdr5wl59xy.zip\n",
        "!wget -nc -O data/labels.zip https://duke.box.com/shared/static/nawqed2wofslp2dw5d9j17i35mmb0ul5.zip\n",
        "\n",
        "!unzip -n -q data/images.zip -d data\n",
        "!unzip -n -q data/labels.zip -d data\n",
        "\n",
        "'''\n",
        "# get the synthetic images and labels and unzip those into the same directory\n",
        "!wget -nc -O data/synthetic_images_NW.zip https://duke.box.com/shared/static/bz92fwwuxajvc17vhoclazucsz6p6uao.zip\n",
        "!wget -nc -O data/synthetic_labels_NW.zip https://duke.box.com/shared/static/mb6nev9x05xn6xip142f5v6lkth4vown.zip\n",
        "\n",
        "!unzip -n -q data/synthetic_images_NW.zip -d data\n",
        "!unzip -n -q data/synthetic_labels_NW.zip -d data'''"
      ],
      "execution_count": null,
      "outputs": []
    },
    {
      "cell_type": "code",
      "metadata": {
        "id": "WbROV33RkX4w"
      },
      "source": [
        "# get modified cfg file that works for 1 class\n",
        "!rm -rf yolov3/cfg \n",
        "\n",
        "!wget -nc -O yolov3/cfg.zip https://duke.box.com/shared/static/pq52dolw5lo5ds8fd7g9v72ekzlngekz.zip\n",
        "!unzip -n -q yolov3/cfg.zip -d yolov3"
      ],
      "execution_count": null,
      "outputs": []
    },
    {
      "cell_type": "code",
      "metadata": {
        "id": "22N_5bxDlf9R"
      },
      "source": [
        "# GET CROSS DOMAIN DATA\r\n",
        "# delete the original data folder so we can unzip our own data folder with the wind turbine data\r\n",
        "!rm -rf yolov3/data\r\n",
        "\r\n",
        "# load in the data.zip file from the box\r\n",
        "!wget -nc -O yolov3/data_cross_domain.zip https://duke.box.com/shared/static/ok7rqzrz1x7hkuwy94g284a6lvmp13ui.zip\r\n",
        "!unzip -n -q yolov3/data_cross_domain.zip -d yolov3\r\n",
        "\r\n",
        "'''\r\n",
        "# get the synthetic_data file from the box\r\n",
        "!wget -nc -O yolov3/data_cross_domain_adding_synthetic.zip https://duke.box.com/shared/static/mugg3l2t1nbam9i2ihyq5hs6y3pnk9gr.zip\r\n",
        "!unzip -n -q yolov3/data_cross_domain_adding_synthetic.zip -d yolov3'''"
      ],
      "execution_count": null,
      "outputs": []
    },
    {
      "cell_type": "code",
      "metadata": {
        "id": "lMTNw1F7shGy"
      },
      "source": [
        "%pwd"
      ],
      "execution_count": null,
      "outputs": []
    },
    {
      "cell_type": "code",
      "metadata": {
        "id": "s0Q7WZXVkJ5A"
      },
      "source": [
        "%cd yolov3"
      ],
      "execution_count": null,
      "outputs": []
    },
    {
      "cell_type": "code",
      "metadata": {
        "id": "7AXYHvkvQt_3"
      },
      "source": [
        "# Training on NW, Validating on EM\n",
        "!python3 train.py --cfg cfg/yolov3-spp.cfg --data data_cross_domain/wnd_px10_seed17.data --img-size 608 --epochs 300 --batch-size 10 --device 0"
      ],
      "execution_count": null,
      "outputs": []
    },
    {
      "cell_type": "code",
      "metadata": {
        "id": "3RPZJORuRKub"
      },
      "source": [
        "!python3 test.py --cfg cfg/yolov3-spp.cfg --data data_cross_domain/wnd_px10_seed17.data --img-size 608 --weights weights/last.pt"
      ],
      "execution_count": null,
      "outputs": []
    },
    {
      "cell_type": "code",
      "metadata": {
        "id": "Mupsoa0lzSPo"
      },
      "source": [
        "'''\r\n",
        "# Training on NW + synthetic NE/forest and validating on NE\r\n",
        "!python3 train.py --cfg cfg/yolov3-spp.cfg --data data_cross_domain_adding_synthetic/wnd_syn_real_seed17.data --img-size 608 --epochs 300 --batch-size 10 --device 0'''"
      ],
      "execution_count": null,
      "outputs": []
    },
    {
      "cell_type": "code",
      "metadata": {
        "id": "0v0RFtO-WG9o"
      },
      "source": [
        "'''\r\n",
        "!python3 test.py --cfg cfg/yolov3-spp.cfg --data data_cross_domain_adding_synthetic/wnd_syn_real_seed17.data --img-size 608 --weights weights/last.pt'''"
      ],
      "execution_count": null,
      "outputs": []
    },
    {
      "cell_type": "code",
      "metadata": {
        "id": "4DSdiNm680qB"
      },
      "source": [
        "# Create folder for validation dataset, so that we can run detect.py on it\r\n",
        "\r\n",
        "VAL_PATH = 'data_cross_domain/wnd_val_img_px10_seed17.txt' # Provide path to .txt file for validation set\r\n",
        "\r\n",
        "from shutil import copyfile\r\n",
        "%mkdir ../data/val\r\n",
        "\r\n",
        "with open(VAL_PATH, 'r') as f:\r\n",
        "  val_imgs =  [path.replace('\\n', '') for path in f.readlines()]\r\n",
        "\r\n",
        "for img in val_imgs:\r\n",
        "  # copy image to val folder\r\n",
        "  copyfile(img, img.replace('images', 'val'))"
      ],
      "execution_count": null,
      "outputs": []
    },
    {
      "cell_type": "code",
      "metadata": {
        "id": "Vnjgge8PvUM4"
      },
      "source": [
        "# DETECT using last.pt\r\n",
        "!python3 detect.py --names data_cross_domain/wnd.names --weights weights/last.pt --source ../data/val --img-size 608"
      ],
      "execution_count": null,
      "outputs": []
    }
  ]
}