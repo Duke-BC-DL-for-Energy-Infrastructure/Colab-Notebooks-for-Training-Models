{
  "nbformat": 4,
  "nbformat_minor": 0,
  "metadata": {
    "accelerator": "GPU",
    "colab": {
      "name": "Few Shot Learning Train NW Validate NW Wind Turbine Object Detection with Ultralytics Yolov3.ipynb",
      "provenance": [],
      "collapsed_sections": [],
      "include_colab_link": true
    },
    "kernelspec": {
      "display_name": "Python 3",
      "language": "python",
      "name": "python3"
    },
    "language_info": {
      "codemirror_mode": {
        "name": "ipython",
        "version": 3
      },
      "file_extension": ".py",
      "mimetype": "text/x-python",
      "name": "python",
      "nbconvert_exporter": "python",
      "pygments_lexer": "ipython3",
      "version": "3.7.9"
    }
  },
  "cells": [
    {
      "cell_type": "markdown",
      "metadata": {
        "id": "view-in-github",
        "colab_type": "text"
      },
      "source": [
        "<a href=\"https://colab.research.google.com/github/Duke-BC-DL-for-Energy-Infrastructure/Colab-Notebooks-for-Training-Models/blob/main/Few%20Shot%20Learning/Train_NE_Val_NE.ipynb\" target=\"_parent\"><img src=\"https://colab.research.google.com/assets/colab-badge.svg\" alt=\"Open In Colab\"/></a>"
      ]
    },
    {
      "cell_type": "code",
      "metadata": {
        "id": "e5ylFIvlCEym"
      },
      "source": [
        "import time\n",
        "import glob\n",
        "import torch\n",
        "import os\n",
        "\n",
        "from IPython.display import Image, clear_output \n",
        "print('PyTorch %s %s' % (torch.__version__, torch.cuda.get_device_properties(0) if torch.cuda.is_available() else 'CPU'))"
      ],
      "execution_count": null,
      "outputs": []
    },
    {
      "cell_type": "code",
      "metadata": {
        "id": "pV5YkKaY2Kty"
      },
      "source": [
        "!git clone https://github.com/Duke-BC-DL-for-Energy-Infrastructure/yolov3.git  # clone our fork of the ultralytics repo"
      ],
      "execution_count": null,
      "outputs": []
    },
    {
      "cell_type": "code",
      "metadata": {
        "id": "tIFv0p1TCEyj"
      },
      "source": [
        "!mkdir -p data/\n",
        "\n",
        "# get our data and unzip it\n",
        "!wget -nc -O data/images.zip https://duke.box.com/shared/static/rttn4ujt4h9sbuba4poibdvtlqr7fhvz.zip\n",
        "!wget -nc -O data/labels.zip https://duke.box.com/shared/static/psea4em0oh1ng99neowslj9hfz79sckn.zip\n",
        "\n",
        "!unzip -n -q data/images.zip -d data\n",
        "!unzip -n -q data/labels.zip -d data\n",
        "\n",
        "# get the synthetic images and labels and unzip those into the same directory\n",
        "!wget -nc -O data/synthetic_images.zip https://duke.box.com/shared/static/o82ap1y9h1tgm6dwy32wzqnz0y4fycee.zip\n",
        "!wget -nc -O data/synthetic_labels.zip https://duke.box.com/shared/static/1dbmv9qmof4gbxkm0pczgnm5uz90mkym.zip\n",
        "\n",
        "!unzip -n -q data/synthetic_images.zip -d data\n",
        "!unzip -n -q data/synthetic_labels.zip -d data"
      ],
      "execution_count": null,
      "outputs": []
    },
    {
      "cell_type": "code",
      "metadata": {
        "id": "WbROV33RkX4w"
      },
      "source": [
        "# get modified cfg file that works for 1 class\n",
        "!rm -rf yolov3/cfg \n",
        "\n",
        "!wget -nc -O yolov3/cfg.zip https://duke.box.com/shared/static/pq52dolw5lo5ds8fd7g9v72ekzlngekz.zip\n",
        "!unzip -n -q yolov3/cfg.zip -d yolov3"
      ],
      "execution_count": null,
      "outputs": []
    },
    {
      "cell_type": "code",
      "metadata": {
        "id": "22N_5bxDlf9R"
      },
      "source": [
        "# GET DATA\n",
        "# delete the original data folder so we can unzip our own data folder with the wind turbine data\n",
        "!rm -rf yolov3/data\n",
        "\n",
        "# load in the baseline data files from the box\n",
        "!wget -nc -O yolov3/baseline_10.zip https://duke.box.com/shared/static/1g33jvwi6t86zx81ihut83oe09phknke.zip\n",
        "!unzip -n -q yolov3/baseline_10.zip -d yolov3\n",
        "\n",
        "!wget -nc -O yolov3/baseline_20.zip https://duke.box.com/shared/static/5mqyzea5w6vom9rsguj26l0tra6q3rwn.zip\n",
        "!unzip -n -q yolov3/baseline_20.zip -d yolov3\n",
        "\n",
        "# get the synthetic data files from the box\n",
        "!wget -nc -O yolov3/adding_synthetic_0.zip https://duke.box.com/shared/static/o9l3u576qt32z9z5ysbalx7jsv9ajqvv.zip\n",
        "!unzip -n -q yolov3/adding_synthetic_0.zip -d yolov3\n",
        "\n",
        "!wget -nc -O yolov3/adding_synthetic_10.zip https://duke.box.com/shared/static/3pcvitn0b2rcwumfch0hglyywdtfbcm3.zip\n",
        "!unzip -n -q yolov3/adding_synthetic_10.zip -d yolov3\n",
        "\n",
        "!wget -nc -O yolov3/adding_synthetic_20.zip https://duke.box.com/shared/static/kckidwulzv63yuer6piyibftxswmqdx9.zip\n",
        "!unzip -n -q yolov3/adding_synthetic_20.zip -d yolov3"
      ],
      "execution_count": null,
      "outputs": []
    },
    {
      "cell_type": "code",
      "metadata": {
        "id": "lMTNw1F7shGy"
      },
      "source": [
        "%pwd"
      ],
      "execution_count": null,
      "outputs": []
    },
    {
      "cell_type": "code",
      "metadata": {
        "id": "s0Q7WZXVkJ5A"
      },
      "source": [
        "%cd yolov3"
      ],
      "execution_count": null,
      "outputs": []
    },
    {
      "cell_type": "code",
      "metadata": {
        "id": "7AXYHvkvQt_3"
      },
      "source": [
        "# Training on 10 NE real images, validating on 200 NE images\n",
        "!python3 train.py --cfg cfg/yolov3-spp.cfg --data baseline_10/baseline.data --img-size 608 --epochs 300 --batch-size 10 --device 0"
      ],
      "execution_count": null,
      "outputs": []
    },
    {
      "cell_type": "code",
      "metadata": {
        "id": "3RPZJORuRKub"
      },
      "source": [
        "!python3 test.py --cfg cfg/yolov3-spp.cfg --data baseline_10/baseline.data --img-size 608 --weights weights/last.pt --conf-thres 0.0001"
      ],
      "execution_count": null,
      "outputs": []
    },
    {
      "cell_type": "code",
      "metadata": {
        "id": "leQoYueXMQvP"
      },
      "source": [
        "# Training on 20 NE real images, validating on 200 NE images\n",
        "!python3 train.py --cfg cfg/yolov3-spp.cfg --data baseline_20/baseline.data --img-size 608 --epochs 300 --batch-size 10 --device 0"
      ],
      "execution_count": null,
      "outputs": []
    },
    {
      "cell_type": "code",
      "metadata": {
        "id": "FpBTp67oMQvc"
      },
      "source": [
        "!python3 test.py --cfg cfg/yolov3-spp.cfg --data baseline_20/baseline.data --img-size 608 --weights weights/last.pt --conf-thres 0.0001"
      ],
      "execution_count": null,
      "outputs": []
    },
    {
      "cell_type": "code",
      "metadata": {
        "id": "Mupsoa0lzSPo"
      },
      "source": [
        "# Training on 0 real NE and 100 synthetic NE, validating on 200 real NE images\n",
        "!python3 train.py --cfg cfg/yolov3-spp.cfg --data adding_synthetic_0/adding_synthetic.data --img-size 608 --epochs 300 --batch-size 10 --device 0"
      ],
      "execution_count": null,
      "outputs": []
    },
    {
      "cell_type": "code",
      "metadata": {
        "id": "0v0RFtO-WG9o"
      },
      "source": [
        "!python3 test.py --cfg cfg/yolov3-spp.cfg --data adding_synthetic_0/adding_synthetic.data --img-size 608 --weights weights/last.pt --conf-thres 0.0001"
      ],
      "execution_count": null,
      "outputs": []
    },
    {
      "cell_type": "code",
      "metadata": {
        "id": "jUaME_TLMal2"
      },
      "source": [
        "# Training on 10 real NE and 100 synthetic NE, validating on 200 real NE images\n",
        "!python3 train.py --cfg cfg/yolov3-spp.cfg --data adding_synthetic_10/adding_synthetic.data --img-size 608 --epochs 300 --batch-size 10 --device 0"
      ],
      "execution_count": null,
      "outputs": []
    },
    {
      "cell_type": "code",
      "metadata": {
        "id": "j4YL80_jMal4"
      },
      "source": [
        "!python3 test.py --cfg cfg/yolov3-spp.cfg --data adding_synthetic_10/adding_synthetic.data --img-size 608 --weights weights/last.pt --conf-thres 0.0001"
      ],
      "execution_count": null,
      "outputs": []
    },
    {
      "cell_type": "code",
      "metadata": {
        "id": "lX01zRTMMbQ2"
      },
      "source": [
        "# Training on 20 real NE and 100 synthetic NE, validating on 200 real NE images\n",
        "!python3 train.py --cfg cfg/yolov3-spp.cfg --data adding_synthetic_20/adding_synthetic.data --img-size 608 --epochs 300 --batch-size 10 --device 0"
      ],
      "execution_count": null,
      "outputs": []
    },
    {
      "cell_type": "code",
      "metadata": {
        "id": "8k7YR8O6MbQ4"
      },
      "source": [
        "!python3 test.py --cfg cfg/yolov3-spp.cfg --data adding_synthetic_20/adding_synthetic.data --img-size 608 --weights weights/last.pt --conf-thres 0.0001"
      ],
      "execution_count": null,
      "outputs": []
    },
    {
      "cell_type": "code",
      "metadata": {
        "id": "4DSdiNm680qB"
      },
      "source": [
        "# Create folder for validation dataset, so that we can run detect.py on it\n",
        "\n",
        "VAL_PATH = 'baseline_10/val_img_paths.txt' # Provide path to .txt file for validation set\n",
        "\n",
        "from shutil import copyfile\n",
        "%mkdir ../data/val\n",
        "\n",
        "with open(VAL_PATH, 'r') as f:\n",
        "  val_imgs =  [path.replace('\\n', '') for path in f.readlines()]\n",
        "\n",
        "for img in val_imgs:\n",
        "  # copy image to val folder\n",
        "  copyfile(img, img.replace('images', 'val'))"
      ],
      "execution_count": null,
      "outputs": []
    },
    {
      "cell_type": "code",
      "metadata": {
        "id": "Vnjgge8PvUM4"
      },
      "source": [
        "# DETECT using last.pt, the last weights that were trained\n",
        "!python3 detect.py --names baseline_10/wnd.names --weights weights/last.pt --source ../data/val --img-size 608"
      ],
      "execution_count": null,
      "outputs": []
    }
  ]
}