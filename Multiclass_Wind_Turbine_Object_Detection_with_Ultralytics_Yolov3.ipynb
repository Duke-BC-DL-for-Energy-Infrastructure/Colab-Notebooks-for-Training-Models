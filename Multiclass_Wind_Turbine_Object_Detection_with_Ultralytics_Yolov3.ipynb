{
  "nbformat": 4,
  "nbformat_minor": 0,
  "metadata": {
    "accelerator": "GPU",
    "colab": {
      "name": "Multiclass Wind Turbine Object Detection with Ultralytics Yolov3",
      "provenance": [],
      "collapsed_sections": []
    },
    "kernelspec": {
      "display_name": "Python 3",
      "language": "python",
      "name": "python3"
    },
    "language_info": {
      "codemirror_mode": {
        "name": "ipython",
        "version": 3
      },
      "file_extension": ".py",
      "mimetype": "text/x-python",
      "name": "python",
      "nbconvert_exporter": "python",
      "pygments_lexer": "ipython3",
      "version": "3.7.4"
    }
  },
  "cells": [
    {
      "cell_type": "code",
      "metadata": {
        "id": "e5ylFIvlCEym"
      },
      "source": [
        "import time\n",
        "import glob\n",
        "import torch\n",
        "import os\n",
        "\n",
        "from IPython.display import Image, clear_output \n",
        "print('PyTorch %s %s' % (torch.__version__, torch.cuda.get_device_properties(0) if torch.cuda.is_available() else 'CPU'))"
      ],
      "execution_count": null,
      "outputs": []
    },
    {
      "cell_type": "code",
      "metadata": {
        "id": "8_o07-Mw-MFR"
      },
      "source": [
        "!git clone https://github.com/Duke-BC-DL-for-Energy-Infrastructure/yolov3.git  # clone our fork of the ultralytics repo"
      ],
      "execution_count": null,
      "outputs": []
    },
    {
      "cell_type": "code",
      "metadata": {
        "id": "tIFv0p1TCEyj"
      },
      "source": [
        "!mkdir -p data/\n",
        "\n",
        "# get our data and unzip it\n",
        "!wget -nc -O data/images.zip https://duke.box.com/shared/static/gc6g6054alnjtp0isdcccuxdr5wl59xy.zip\n",
        "!wget -nc -O data/labels.zip https://duke.box.com/shared/static/6z108v0i01cba1sb6rko8jtqz9n87a3t.zip\n",
        "\n",
        "!unzip -n -q data/images.zip -d data\n",
        "!unzip -n -q data/labels.zip -d data\n",
        "\n",
        "\n",
        "# get the synthetic images and labels and unzip those into the same directory\n",
        "!wget -nc -O data/synthetic_images.zip https://duke.box.com/shared/static/bzvtcpzxr7xpfrfuen5w8i35wqb494z0.zip\n",
        "!wget -nc -O data/synthetic_labels.zip https://duke.box.com/shared/static/svq4b2xpl46qb7xjq6ylq6sozn5v2geu.zip\n",
        "\n",
        "!unzip -n -q data/synthetic_images.zip -d data\n",
        "!unzip -n -q data/synthetic_labels.zip -d data\n"
      ],
      "execution_count": null,
      "outputs": []
    },
    {
      "cell_type": "code",
      "metadata": {
        "id": "WbROV33RkX4w"
      },
      "source": [
        "# delete the original data folder so we can unzip our own data folder with the wind turbine data\n",
        "!rm -rf yolov3/data\n",
        "\n",
        "# load in the data.zip file from the box\n",
        "!wget -nc -O yolov3/data_multiclass.zip https://duke.box.com/shared/static/0hbo1y2lmzx1sr389yvf0viu1wd42a10.zip\n",
        "\n",
        "!unzip -n -q yolov3/data_multiclass.zip -d yolov3\n",
        "\n",
        "# Get correct cfg file (multiclass one)\n",
        "!rm -rf yolov3/cfg\n",
        "!wget -nc -O yolov3/cfg.zip https://duke.box.com/shared/static/sffuk5yvl6ewla894m001ceyj9qlebjt.zip\n",
        "!unzip -n -q yolov3/cfg.zip -d yolov3\n",
        "\n",
        "\n",
        "# get the multiclass syn + real data files from the box\n",
        "!wget -nc -O yolov3/data_multiclass_adding_synthetic.zip https://duke.box.com/shared/static/umq3nbidnfx8fyv7uui5i7swc5yd0vcq.zip\n",
        "\n",
        "!unzip -n -q yolov3/data_multiclass_adding_synthetic.zip -d yolov3\n"
      ],
      "execution_count": null,
      "outputs": []
    },
    {
      "cell_type": "code",
      "metadata": {
        "id": "lMTNw1F7shGy"
      },
      "source": [
        "%pwd"
      ],
      "execution_count": null,
      "outputs": []
    },
    {
      "cell_type": "code",
      "metadata": {
        "id": "s0Q7WZXVkJ5A"
      },
      "source": [
        "%cd yolov3"
      ],
      "execution_count": null,
      "outputs": []
    },
    {
      "cell_type": "code",
      "metadata": {
        "id": "7AXYHvkvQt_3"
      },
      "source": [
        "# BEFORE RUNNING train.py: edit the obj hyperparameter on line 29 of train.py to be 120\n",
        "\n",
        "# Train the model with real overhead images of wind turbines (with two classes: small and large)\n",
        "!python3 train.py --cfg cfg/yolov3-spp.cfg --data data_multiclass/wnd_px10_seed17.data --img-size 608 --epochs 300 --batch-size 10"
      ],
      "execution_count": null,
      "outputs": []
    },
    {
      "cell_type": "code",
      "metadata": {
        "id": "3RPZJORuRKub"
      },
      "source": [
        "# Test the model using validation set (this set is the same for both normal and for adding synthetic). Compute predictions with the very last set of weights from training\n",
        "!python3 test.py --cfg cfg/yolov3-spp.cfg --data data_multiclass/wnd_px10_seed17.data --img-size 608 --weights weights/last.pt"
      ],
      "execution_count": null,
      "outputs": []
    },
    {
      "cell_type": "code",
      "metadata": {
        "id": "TRFI6v_MeBlA"
      },
      "source": [
        "# BEFORE RUNNING train.py: edit the obj hyperparameter on line 29 of train.py to be 120\r\n",
        "\r\n",
        "# Train the model with real overhead images of wind turbines (with two classes: small and large)\r\n",
        "!python3 train.py --cfg cfg/yolov3-spp.cfg --data data_multiclass_adding_synthetic/wnd_syn_real_px10_seed17.data --img-size 608 --epochs 300 --batch-size 10"
      ],
      "execution_count": null,
      "outputs": []
    },
    {
      "cell_type": "code",
      "metadata": {
        "id": "1cSR99kueYM-"
      },
      "source": [
        "# Test the model using validation set (this set is the same for both normal and for adding synthetic). Compute predictions with the very last set of weights from training\r\n",
        "!python3 test.py --cfg cfg/yolov3-spp.cfg --data data_multiclass_adding_synthetic/wnd_syn_real_px10_seed17.data --img-size 608 --weights weights/last.pt"
      ],
      "execution_count": null,
      "outputs": []
    },
    {
      "cell_type": "code",
      "metadata": {
        "id": "Vnjgge8PvUM4"
      },
      "source": [
        "!python3 detect.py --names data_multiclass/wnd.names --weights weights/last.pt --source ../data/images --img-size 608"
      ],
      "execution_count": null,
      "outputs": []
    }
  ]
}