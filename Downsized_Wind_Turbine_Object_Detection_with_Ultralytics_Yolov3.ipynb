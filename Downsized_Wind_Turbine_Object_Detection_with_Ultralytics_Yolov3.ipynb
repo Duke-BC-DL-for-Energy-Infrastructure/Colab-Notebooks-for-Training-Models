{
  "nbformat": 4,
  "nbformat_minor": 0,
  "metadata": {
    "accelerator": "GPU",
    "colab": {
      "name": "Wind Turbine Object Detection with Ultralytics Yolov3.ipynb",
      "provenance": [],
      "collapsed_sections": []
    },
    "kernelspec": {
      "display_name": "Python 3",
      "language": "python",
      "name": "python3"
    },
    "language_info": {
      "codemirror_mode": {
        "name": "ipython",
        "version": 3
      },
      "file_extension": ".py",
      "mimetype": "text/x-python",
      "name": "python",
      "nbconvert_exporter": "python",
      "pygments_lexer": "ipython3",
      "version": "3.7.9"
    }
  },
  "cells": [
    {
      "cell_type": "code",
      "metadata": {
        "id": "e5ylFIvlCEym"
      },
      "source": [
        "import time\n",
        "import glob\n",
        "import torch\n",
        "import os\n",
        "\n",
        "from IPython.display import Image, clear_output \n",
        "print('PyTorch %s %s' % (torch.__version__, torch.cuda.get_device_properties(0) if torch.cuda.is_available() else 'CPU'))"
      ],
      "execution_count": null,
      "outputs": []
    },
    {
      "cell_type": "code",
      "metadata": {
        "id": "pV5YkKaY2Kty"
      },
      "source": [
        "!git clone https://github.com/Duke-BC-DL-for-Energy-Infrastructure/yolov3.git  # clone our fork of the ultralytics repo"
      ],
      "execution_count": null,
      "outputs": []
    },
    {
      "cell_type": "code",
      "metadata": {
        "id": "tIFv0p1TCEyj"
      },
      "source": [
        "!mkdir -p data/\n",
        "\n",
        "# get our data and unzip it\n",
        "!wget -nc -O data/images.zip https://duke.box.com/shared/static/gc6g6054alnjtp0isdcccuxdr5wl59xy.zip\n",
        "!wget -nc -O data/labels.zip https://duke.box.com/shared/static/nawqed2wofslp2dw5d9j17i35mmb0ul5.zip\n",
        "\n",
        "!unzip -n -q data/images.zip -d data\n",
        "!unzip -n -q data/labels.zip -d data\n",
        "\n",
        "# get the synthetic images and labels and unzip those into the same directory\n",
        "!wget -nc -O data/synthetic_images.zip https://duke.box.com/shared/static/bzvtcpzxr7xpfrfuen5w8i35wqb494z0.zip\n",
        "!wget -nc -O data/synthetic_labels.zip https://duke.box.com/shared/static/svq4b2xpl46qb7xjq6ylq6sozn5v2geu.zip\n",
        "\n",
        "!unzip -n -q data/synthetic_images.zip -d data\n",
        "!unzip -n -q data/synthetic_labels.zip -d data\n",
        "\n",
        "#get the new labelled images and labels and unzip them\n",
        "!wget -nc -O data/images_new.zip https://duke.box.com/shared/static/9hc0uqxric3gptb6j92fzswcuux4ou73.zip\n",
        "!wget -nc -O data/label_new.zip https://duke.box.com/shared/static/41r1grgakpjswnzu274xk8k1edo9xfkd.zip\n",
        "    \n",
        "!unzip -n -q data/images_new.zip -d data\n",
        "!unzip -n -q data/label_new.zip -d data"
      ],
      "execution_count": null,
      "outputs": []
    },
    {
      "cell_type": "code",
      "metadata": {
        "id": "WbROV33RkX4w"
      },
      "source": [
        "# get modified cfg file that works for 1 class\n",
        "!rm -rf yolov3/cfg \n",
        "\n",
        "!wget -nc -O yolov3/cfg.zip https://duke.box.com/shared/static/pq52dolw5lo5ds8fd7g9v72ekzlngekz.zip\n",
        "!unzip -n -q yolov3/cfg.zip -d yolov3"
      ],
      "execution_count": null,
      "outputs": []
    },
    {
      "cell_type": "code",
      "metadata": {
        "id": "22N_5bxDlf9R"
      },
      "source": [
        "# ONE EIGHTH\r\n",
        "!wget -nc -O yolov3/data_one_eighth.zip https://duke.box.com/shared/static/8ytdfru7ibw0jhoeu2eiclo7iy3yf32q.zip\r\n",
        "!unzip -n -q yolov3/data_one_eighth.zip -d yolov3\r\n",
        "\r\n",
        "!wget -nc -O yolov3/data_one_eighth_adding_synthetic.zip https://duke.box.com/shared/static/vwlew56nf1yf6bztziy0hq3txq04cy3d.zip\r\n",
        "!unzip -n -q yolov3/data_one_eighth_adding_synthetic.zip -d yolov3\r\n",
        "\r\n",
        "# ONE FOURTH\r\n",
        "!wget -nc -O yolov3/data_one_fourth.zip https://duke.box.com/shared/static/zsdjx7oulof719tuw5qf6hqtjggzo4gt.zip\r\n",
        "!unzip -n -q yolov3/data_one_fourth.zip -d yolov3\r\n",
        "\r\n",
        "!wget -nc -O yolov3/data_one_fourth_adding_synthetic.zip https://duke.box.com/shared/static/ysdqktfrcadoq04okve3b6ygszvxr1io.zip\r\n",
        "!unzip -n -q yolov3/data_one_fourth_adding_synthetic.zip -d yolov3\r\n",
        "\r\n",
        "# ONE HALF\r\n",
        "!wget -nc -O yolov3/data_one_half.zip https://duke.box.com/shared/static/wrb5538yuoritvpiihkcll0qooobfpw0.zip\r\n",
        "!unzip -n -q yolov3/data_one_half.zip -d yolov3\r\n",
        "\r\n",
        "!wget -nc -O yolov3/data_one_half_adding_synthetic.zip https://duke.box.com/shared/static/ogmkzah5hmlp6uyrn4ypknbc2z2q0yni.zip\r\n",
        "!unzip -n -q yolov3/data_one_half_adding_synthetic.zip -d yolov3\r\n",
        "\r\n",
        "# THREE FOURTHS\r\n",
        "!wget -nc -O yolov3/data_three_fourths.zip https://duke.box.com/shared/static/xqq8mmlwggifidk8vsei7jkv5d0ipqd7.zip\r\n",
        "!unzip -n -q yolov3/data_three_fourths.zip -d yolov3\r\n",
        "\r\n",
        "!wget -nc -O yolov3/data_three_fourths_adding_synthetic.zip https://duke.box.com/shared/static/mgj8qixs35loo6qmm2avodqulmdq2wy7.zip\r\n",
        "!unzip -n -q yolov3/data_three_fourths_adding_synthetic.zip -d yolov3\r\n",
        "\r\n",
        "# FULL DATASET\r\n",
        "# delete the original data folder so we can unzip our own data folder with the wind turbine data\r\n",
        "!rm -rf yolov3/data\r\n",
        "\r\n",
        "# load in the data.zip file from the box\r\n",
        "!wget -nc -O yolov3/data.zip https://duke.box.com/shared/static/mvr4grwy9ezlrlkj1fgjjtxa88iww3ew.zip\r\n",
        "!unzip -n -q yolov3/data.zip -d yolov3\r\n",
        "\r\n",
        "# get the synthetic_data file from the box\r\n",
        "!wget -nc -O yolov3/data_adding_synthetic.zip https://duke.box.com/shared/static/mphxkk3h4junnij1b3u60x4lvqgjoj7z.zip\r\n",
        "!unzip -n -q yolov3/data_adding_synthetic.zip -d yolov3"
      ],
      "execution_count": null,
      "outputs": []
    },
    {
      "cell_type": "code",
      "metadata": {
        "id": "lMTNw1F7shGy"
      },
      "source": [
        "%pwd"
      ],
      "execution_count": null,
      "outputs": []
    },
    {
      "cell_type": "code",
      "metadata": {
        "id": "s0Q7WZXVkJ5A"
      },
      "source": [
        "%cd yolov3"
      ],
      "execution_count": null,
      "outputs": []
    },
    {
      "cell_type": "code",
      "metadata": {
        "id": "ZD40FYJpjvv6"
      },
      "source": [
        "# ONE EIGHTH\r\n",
        "!python3 train.py --cfg cfg/yolov3-spp.cfg --data data_one_eighth/wnd_px10_seed17.data --img-size 608 --epochs 300 --batch-size 10 --device 0"
      ],
      "execution_count": 8,
      "outputs": []
    },
    {
      "cell_type": "code",
      "metadata": {
        "id": "m4v_6QndjvwC"
      },
      "source": [
        "!python3 test.py --cfg cfg/yolov3-spp.cfg --data data_one_eighth/wnd_px10_seed17.data --img-size 608 --weights weights/last.pt --conf-thres 0.3"
      ],
      "execution_count": null,
      "outputs": []
    },
    {
      "cell_type": "code",
      "metadata": {
        "id": "mW1vIBrDjvwD"
      },
      "source": [
        "!python3 train.py --cfg cfg/yolov3-spp.cfg --data data_one_eighth_adding_synthetic/wnd_syn_real_seed17.data --img-size 608 --epochs 300 --batch-size 10 --device 0"
      ],
      "execution_count": null,
      "outputs": []
    },
    {
      "cell_type": "code",
      "metadata": {
        "id": "5qOP5CksjvwD"
      },
      "source": [
        "!python3 test.py --cfg cfg/yolov3-spp.cfg --data data_one_eighth_adding_synthetic/wnd_syn_real_seed17.data --img-size 608 --weights weights/last.pt --conf-thres 0.3"
      ],
      "execution_count": null,
      "outputs": []
    },
    {
      "cell_type": "code",
      "metadata": {
        "id": "u6hqei1-r6oJ"
      },
      "source": [
        "# ONE FOURTH\r\n",
        "!python3 train.py --cfg cfg/yolov3-spp.cfg --data data_one_fourth/wnd_px10_seed17.data --img-size 608 --epochs 300 --batch-size 10 --device 0"
      ],
      "execution_count": null,
      "outputs": []
    },
    {
      "cell_type": "code",
      "metadata": {
        "id": "6fMOfbS6r6wS"
      },
      "source": [
        "!python3 test.py --cfg cfg/yolov3-spp.cfg --data data_one_fourth/wnd_px10_seed17.data --img-size 608 --weights weights/last.pt --conf-thres 0.3"
      ],
      "execution_count": null,
      "outputs": []
    },
    {
      "cell_type": "code",
      "metadata": {
        "id": "Ll9fHbIMr61Y"
      },
      "source": [
        "!python3 train.py --cfg cfg/yolov3-spp.cfg --data data_one_fourth_adding_synthetic/wnd_syn_real_seed17.data --img-size 608 --epochs 300 --batch-size 10 --device 0"
      ],
      "execution_count": null,
      "outputs": []
    },
    {
      "cell_type": "code",
      "metadata": {
        "id": "W_bFv37gr69S"
      },
      "source": [
        "!python3 test.py --cfg cfg/yolov3-spp.cfg --data data_one_fourth_adding_synthetic/wnd_syn_real_seed17.data --img-size 608 --weights weights/last.pt --conf-thres 0.3"
      ],
      "execution_count": null,
      "outputs": []
    },
    {
      "cell_type": "code",
      "metadata": {
        "id": "7496oMRGwBU1"
      },
      "source": [
        "# ONE HALF\r\n",
        "!python3 train.py --cfg cfg/yolov3-spp.cfg --data data_one_half/wnd_px10_seed17.data --img-size 608 --epochs 300 --batch-size 10 --device 0"
      ],
      "execution_count": null,
      "outputs": []
    },
    {
      "cell_type": "code",
      "metadata": {
        "id": "HaeUY0VHwBU5"
      },
      "source": [
        "!python3 test.py --cfg cfg/yolov3-spp.cfg --data data_one_half/wnd_px10_seed17.data --img-size 608 --weights weights/last.pt --conf-thres 0.3"
      ],
      "execution_count": null,
      "outputs": []
    },
    {
      "cell_type": "code",
      "metadata": {
        "id": "ldIdRCE_wBU6"
      },
      "source": [
        "!python3 train.py --cfg cfg/yolov3-spp.cfg --data data_one_half_adding_synthetic/wnd_syn_real_seed17.data --img-size 608 --epochs 300 --batch-size 10 --device 0"
      ],
      "execution_count": null,
      "outputs": []
    },
    {
      "cell_type": "code",
      "metadata": {
        "id": "ig8L8ZcowBU6"
      },
      "source": [
        "!python3 test.py --cfg cfg/yolov3-spp.cfg --data data_one_half_adding_synthetic/wnd_syn_real_seed17.data --img-size 608 --weights weights/last.pt --conf-thres 0.3"
      ],
      "execution_count": null,
      "outputs": []
    },
    {
      "cell_type": "code",
      "metadata": {
        "id": "WOXMYuPXwMWF"
      },
      "source": [
        "# THREE FOURTHS\r\n",
        "!python3 train.py --cfg cfg/yolov3-spp.cfg --data data_three_fourths/wnd_px10_seed17.data --img-size 608 --epochs 300 --batch-size 10 --device 0"
      ],
      "execution_count": null,
      "outputs": []
    },
    {
      "cell_type": "code",
      "metadata": {
        "id": "H7s6j_wxwMWG"
      },
      "source": [
        "!python3 test.py --cfg cfg/yolov3-spp.cfg --data data_three_fourths/wnd_px10_seed17.data --img-size 608 --weights weights/last.pt --conf-thres 0.3"
      ],
      "execution_count": null,
      "outputs": []
    },
    {
      "cell_type": "code",
      "metadata": {
        "id": "MRZRIiiiwMWH"
      },
      "source": [
        "!python3 train.py --cfg cfg/yolov3-spp.cfg --data data_three_fourths_adding_synthetic/wnd_syn_real_seed17.data --img-size 608 --epochs 300 --batch-size 10 --device 0"
      ],
      "execution_count": null,
      "outputs": []
    },
    {
      "cell_type": "code",
      "metadata": {
        "id": "0N7e2lWFwMWH"
      },
      "source": [
        "!python3 test.py --cfg cfg/yolov3-spp.cfg --data data_three_fourths_adding_synthetic/wnd_syn_real_seed17.data --img-size 608 --weights weights/last.pt --conf-thres 0.3"
      ],
      "execution_count": null,
      "outputs": []
    },
    {
      "cell_type": "code",
      "metadata": {
        "id": "7AXYHvkvQt_3"
      },
      "source": [
        "# FULL TRAINING SET\n",
        "!python3 train.py --cfg cfg/yolov3-spp.cfg --data data/wnd_px10_seed17.data --img-size 608 --epochs 300 --batch-size 10 --device 0"
      ],
      "execution_count": null,
      "outputs": []
    },
    {
      "cell_type": "code",
      "metadata": {
        "id": "3RPZJORuRKub"
      },
      "source": [
        "!python3 test.py --cfg cfg/yolov3-spp.cfg --data data/wnd_px10_seed17.data --img-size 608 --weights weights/last.pt --conf-thres 0.3"
      ],
      "execution_count": null,
      "outputs": []
    },
    {
      "cell_type": "code",
      "metadata": {
        "id": "Mupsoa0lzSPo"
      },
      "source": [
        "!python3 train.py --cfg cfg/yolov3-spp.cfg --data data_adding_synthetic/wnd_syn_real_seed17.data --img-size 608 --epochs 300 --batch-size 10 --device 0"
      ],
      "execution_count": null,
      "outputs": []
    },
    {
      "cell_type": "code",
      "metadata": {
        "id": "0v0RFtO-WG9o"
      },
      "source": [
        "!python3 test.py --cfg cfg/yolov3-spp.cfg --data data_adding_synthetic/wnd_syn_real_seed17.data --img-size 608 --weights weights/last.pt --conf-thres 0.3"
      ],
      "execution_count": null,
      "outputs": []
    },
    {
      "cell_type": "code",
      "metadata": {
        "id": "Vnjgge8PvUM4"
      },
      "source": [
        "# DETECT using last.pt\r\n",
        "!python3 detect.py --names data/wnd.names --weights weights/last.pt --source ../data/images --img-size 608"
      ],
      "execution_count": null,
      "outputs": []
    }
  ]
}