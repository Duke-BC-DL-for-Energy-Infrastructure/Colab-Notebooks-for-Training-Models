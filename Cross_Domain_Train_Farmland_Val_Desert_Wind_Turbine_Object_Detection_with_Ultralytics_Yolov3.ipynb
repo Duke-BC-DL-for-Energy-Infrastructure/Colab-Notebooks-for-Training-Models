{
  "nbformat": 4,
  "nbformat_minor": 0,
  "metadata": {
    "colab": {
      "name": "Cross_Domain_Train_Farmland_Val_Desert_Wind_Turbine_Object_Detection_with_Ultralytics_Yolov3.ipynb",
      "provenance": [],
      "collapsed_sections": [],
      "authorship_tag": "ABX9TyMI4pK33y8UXluURdmb+9FG",
      "include_colab_link": true
    },
    "kernelspec": {
      "name": "python3",
      "display_name": "Python 3"
    }
  },
  "cells": [
    {
      "cell_type": "markdown",
      "metadata": {
        "id": "view-in-github",
        "colab_type": "text"
      },
      "source": [
        "<a href=\"https://colab.research.google.com/github/Duke-BC-DL-for-Energy-Infrastructure/Colab-Notebooks-for-Training-Models/blob/main/Cross_Domain_Train_Farmland_Val_Desert_Wind_Turbine_Object_Detection_with_Ultralytics_Yolov3.ipynb\" target=\"_parent\"><img src=\"https://colab.research.google.com/assets/colab-badge.svg\" alt=\"Open In Colab\"/></a>"
      ]
    },
    {
      "cell_type": "code",
      "metadata": {
        "colab": {
          "base_uri": "https://localhost:8080/"
        },
        "id": "1OBmWajit01g",
        "outputId": "f43410eb-cb45-45d2-ee74-0743b16f04ce"
      },
      "source": [
        "import time\n",
        "import glob\n",
        "import torch\n",
        "import os\n",
        "\n",
        "from IPython.display import Image, clear_output \n",
        "print('PyTorch %s %s' % (torch.__version__, torch.cuda.get_device_properties(0) if torch.cuda.is_available() else 'CPU'))"
      ],
      "execution_count": 1,
      "outputs": [
        {
          "output_type": "stream",
          "text": [
            "PyTorch 1.7.0+cu101 CPU\n"
          ],
          "name": "stdout"
        }
      ]
    },
    {
      "cell_type": "code",
      "metadata": {
        "colab": {
          "base_uri": "https://localhost:8080/"
        },
        "id": "UbIqteDUt_nW",
        "outputId": "7fadcd1b-c125-4d41-ab8a-d9a919c5eadb"
      },
      "source": [
        "!git clone https://github.com/Duke-BC-DL-for-Energy-Infrastructure/yolov3.git  # clone our fork of the ultralytics repo"
      ],
      "execution_count": 2,
      "outputs": [
        {
          "output_type": "stream",
          "text": [
            "Cloning into 'yolov3'...\n",
            "remote: Enumerating objects: 9644, done.\u001b[K\n",
            "remote: Total 9644 (delta 0), reused 0 (delta 0), pack-reused 9644\u001b[K\n",
            "Receiving objects: 100% (9644/9644), 8.20 MiB | 26.01 MiB/s, done.\n",
            "Resolving deltas: 100% (6576/6576), done.\n"
          ],
          "name": "stdout"
        }
      ]
    },
    {
      "cell_type": "code",
      "metadata": {
        "colab": {
          "base_uri": "https://localhost:8080/"
        },
        "id": "dQLpvDusuA0-",
        "outputId": "1d2cf21d-2526-40b0-b32d-fc4930c6e006"
      },
      "source": [
        "!mkdir -p data/\n",
        "\n",
        "# get our data and unzip it\n",
        "!wget -nc -O data/images.zip https://duke.box.com/shared/static/gc6g6054alnjtp0isdcccuxdr5wl59xy.zip\n",
        "!wget -nc -O data/labels.zip https://duke.box.com/shared/static/nawqed2wofslp2dw5d9j17i35mmb0ul5.zip\n",
        "\n",
        "!unzip -n -q data/images.zip -d data\n",
        "!unzip -n -q data/labels.zip -d data\n",
        "\n",
        "# get the synthetic images and labels and unzip those into the same directory\n",
        "!wget -nc -O data/synthetic_images.zip https://duke.box.com/shared/static/51kby1zj73y5bj86pwogd6ma88p5x4sm.zip\n",
        "!wget -nc -O data/synthetic_labels.zip https://duke.box.com/shared/static/4xw53kjtacxq21npnc6eb2q65xwcnt8v.zip\n",
        "\n",
        "!unzip -n -q data/synthetic_images.zip -d data\n",
        "!unzip -n -q data/synthetic_labels.zip -d data\n",
        "\n",
        "#get the new labelled images and labels and unzip them\n",
        "!wget -nc -O data/images_new.zip https://duke.box.com/shared/static/9hc0uqxric3gptb6j92fzswcuux4ou73.zip\n",
        "!wget -nc -O data/label_new.zip https://duke.box.com/shared/static/41r1grgakpjswnzu274xk8k1edo9xfkd.zip\n",
        "    \n",
        "!unzip -n -q data/images_new.zip -d data\n",
        "!unzip -n -q data/label_new.zip -d data"
      ],
      "execution_count": 3,
      "outputs": [
        {
          "output_type": "stream",
          "text": [
            "--2021-01-26 18:26:10--  https://duke.box.com/shared/static/gc6g6054alnjtp0isdcccuxdr5wl59xy.zip\n",
            "Resolving duke.box.com (duke.box.com)... 107.152.24.197\n",
            "Connecting to duke.box.com (duke.box.com)|107.152.24.197|:443... connected.\n",
            "HTTP request sent, awaiting response... 301 Moved Permanently\n",
            "Location: /public/static/gc6g6054alnjtp0isdcccuxdr5wl59xy.zip [following]\n",
            "--2021-01-26 18:26:11--  https://duke.box.com/public/static/gc6g6054alnjtp0isdcccuxdr5wl59xy.zip\n",
            "Reusing existing connection to duke.box.com:443.\n",
            "HTTP request sent, awaiting response... 301 Moved Permanently\n",
            "Location: https://duke.app.box.com/public/static/gc6g6054alnjtp0isdcccuxdr5wl59xy.zip [following]\n",
            "--2021-01-26 18:26:11--  https://duke.app.box.com/public/static/gc6g6054alnjtp0isdcccuxdr5wl59xy.zip\n",
            "Resolving duke.app.box.com (duke.app.box.com)... 107.152.24.201\n",
            "Connecting to duke.app.box.com (duke.app.box.com)|107.152.24.201|:443... connected.\n",
            "HTTP request sent, awaiting response... 302 Found\n",
            "Location: https://public.boxcloud.com/d/1/b1!xBeuyBtnucEKBBAKI2ZMu-L6WT6V_HhBwwfALVNKylVuBuC-rf7pkOE9wpatD9rsEh2AMSPONT-PP_ggPmLkhGtdbQFm-0DktoBSfcyS1WIcCDUHgfw8ZYVnMl1oOmBIjmEuRTAPot7nZF_T7nSycuTGH_GX-5HA1kPgm1swuUFmgZsRFWkTrAsK9p1nXsJOXwRbFAsqesNTSm42kCsN6xE72A3hmO1dZvQwUuPJE7JizcQk7nRYZaoinamC482lVFYwSsJDcp8VfIZWAz1X87QPdBfVEYwQxaJj72EdiUZV7cIVm2ryPaFe5_wINu5apByTCI5UabH0KNHgBceoCTRwFXYRs0Rzt0IoAr_hntoZmX7ot_Ly2Pkl-K62mUZIaZ56XedVD6oEUhj_DXOPZsjXnJdwLV7vjwaWVuh8ug-5aIASxfsii0sIcbWgcKtgUnrLrmRbRraRPtmgtWWYSUGYdIWRSCz-qDK4lUOy9O96lDUs1yYFP7EJeG9vqL-pWAyC3MbKf4dMeVSkdBsHHCyLlMwa0yfSYdJRlrxsc4ry9EhQ5uf6cB5Y1LdHB3eduaoDH443BcBJNjqzN5MsCLvrU7jr1iFNfOpaPJXPUOfhFFBIdm3HegWs2FgBCSPv584xMtlQNm_iUOJ83qukrqnrCXsV0dExVazeSy9ycVNEYC3rT-pb4zFdsnDq-s53ztpYSdUY4v31cPRVCgkHVG5NvIOu0Mbjzg2MF3nFiCHUkEZvjZwf0pnWC-Ifk-5PPudDOjQJIJG6-BINn1DmXhmmBAQaLTJINnp9xrodeyWLXqRGzMrn-d5yadC9TPesdvVU1_oA98Qd0mfiKdufD1_EDwVolXLcVXXqVtKZi3_Ra2kGliGyktYI46wVVXv81aooFW5GRF0CBeGTNrcNcxHZqG-X2pZCRtg_tM7KTMzIJkrzDoPuqZ3OOzap4KRWGNLP4wK_Yd0OktYYLmyUoGjiV4s70VFg7ySv3TY0Go8Xe3LArAg3nhC2sz-A37BMdUf70ITXDKrAgcUuCf0rpTsX337nsTFxmFpYYlqIZprvLDZcu0nydhXrA89aoi97VyAGMVNi5VTrcvfwJomwEsC4TKrKuJLEWNBqoFQa2jJXXyS3yvh6mPDyXbGiM1dRCy0JcgVhgUNFJdlhZZqyrd0B-zq9EqTydoc_4uJ1eB_0ALdEu5yKlbG0ftiXtfZJOcQHqXaC2sTYcE2MYqv0xLCgpc5E8WiTqc0PKPsPAZYPR7oN9GBz2sW78V8CjgRSgIpnfEC8bP243MD03RmZkSeCVdMdtcOOpjzgJiOZKX5DT8gUomHIUbd98z00J8hdcGaMRXKJKuau4HMkK-8uatp4murkEjk_glNWo5a1D_-szTTyCE34AFTDplO7OV9Wwz0GjEJ722zr_TmewalCRywb/download [following]\n",
            "--2021-01-26 18:26:11--  https://public.boxcloud.com/d/1/b1!xBeuyBtnucEKBBAKI2ZMu-L6WT6V_HhBwwfALVNKylVuBuC-rf7pkOE9wpatD9rsEh2AMSPONT-PP_ggPmLkhGtdbQFm-0DktoBSfcyS1WIcCDUHgfw8ZYVnMl1oOmBIjmEuRTAPot7nZF_T7nSycuTGH_GX-5HA1kPgm1swuUFmgZsRFWkTrAsK9p1nXsJOXwRbFAsqesNTSm42kCsN6xE72A3hmO1dZvQwUuPJE7JizcQk7nRYZaoinamC482lVFYwSsJDcp8VfIZWAz1X87QPdBfVEYwQxaJj72EdiUZV7cIVm2ryPaFe5_wINu5apByTCI5UabH0KNHgBceoCTRwFXYRs0Rzt0IoAr_hntoZmX7ot_Ly2Pkl-K62mUZIaZ56XedVD6oEUhj_DXOPZsjXnJdwLV7vjwaWVuh8ug-5aIASxfsii0sIcbWgcKtgUnrLrmRbRraRPtmgtWWYSUGYdIWRSCz-qDK4lUOy9O96lDUs1yYFP7EJeG9vqL-pWAyC3MbKf4dMeVSkdBsHHCyLlMwa0yfSYdJRlrxsc4ry9EhQ5uf6cB5Y1LdHB3eduaoDH443BcBJNjqzN5MsCLvrU7jr1iFNfOpaPJXPUOfhFFBIdm3HegWs2FgBCSPv584xMtlQNm_iUOJ83qukrqnrCXsV0dExVazeSy9ycVNEYC3rT-pb4zFdsnDq-s53ztpYSdUY4v31cPRVCgkHVG5NvIOu0Mbjzg2MF3nFiCHUkEZvjZwf0pnWC-Ifk-5PPudDOjQJIJG6-BINn1DmXhmmBAQaLTJINnp9xrodeyWLXqRGzMrn-d5yadC9TPesdvVU1_oA98Qd0mfiKdufD1_EDwVolXLcVXXqVtKZi3_Ra2kGliGyktYI46wVVXv81aooFW5GRF0CBeGTNrcNcxHZqG-X2pZCRtg_tM7KTMzIJkrzDoPuqZ3OOzap4KRWGNLP4wK_Yd0OktYYLmyUoGjiV4s70VFg7ySv3TY0Go8Xe3LArAg3nhC2sz-A37BMdUf70ITXDKrAgcUuCf0rpTsX337nsTFxmFpYYlqIZprvLDZcu0nydhXrA89aoi97VyAGMVNi5VTrcvfwJomwEsC4TKrKuJLEWNBqoFQa2jJXXyS3yvh6mPDyXbGiM1dRCy0JcgVhgUNFJdlhZZqyrd0B-zq9EqTydoc_4uJ1eB_0ALdEu5yKlbG0ftiXtfZJOcQHqXaC2sTYcE2MYqv0xLCgpc5E8WiTqc0PKPsPAZYPR7oN9GBz2sW78V8CjgRSgIpnfEC8bP243MD03RmZkSeCVdMdtcOOpjzgJiOZKX5DT8gUomHIUbd98z00J8hdcGaMRXKJKuau4HMkK-8uatp4murkEjk_glNWo5a1D_-szTTyCE34AFTDplO7OV9Wwz0GjEJ722zr_TmewalCRywb/download\n",
            "Resolving public.boxcloud.com (public.boxcloud.com)... 107.152.24.200\n",
            "Connecting to public.boxcloud.com (public.boxcloud.com)|107.152.24.200|:443... connected.\n",
            "HTTP request sent, awaiting response... 200 OK\n",
            "Length: 205510111 (196M) [application/zip]\n",
            "Saving to: ‘data/images.zip’\n",
            "\n",
            "data/images.zip     100%[===================>] 195.99M  33.1MB/s    in 6.0s    \n",
            "\n",
            "2021-01-26 18:26:18 (32.5 MB/s) - ‘data/images.zip’ saved [205510111/205510111]\n",
            "\n",
            "--2021-01-26 18:26:18--  https://duke.box.com/shared/static/nawqed2wofslp2dw5d9j17i35mmb0ul5.zip\n",
            "Resolving duke.box.com (duke.box.com)... 107.152.24.197\n",
            "Connecting to duke.box.com (duke.box.com)|107.152.24.197|:443... connected.\n",
            "HTTP request sent, awaiting response... 301 Moved Permanently\n",
            "Location: /public/static/nawqed2wofslp2dw5d9j17i35mmb0ul5.zip [following]\n",
            "--2021-01-26 18:26:18--  https://duke.box.com/public/static/nawqed2wofslp2dw5d9j17i35mmb0ul5.zip\n",
            "Reusing existing connection to duke.box.com:443.\n",
            "HTTP request sent, awaiting response... 301 Moved Permanently\n",
            "Location: https://duke.app.box.com/public/static/nawqed2wofslp2dw5d9j17i35mmb0ul5.zip [following]\n",
            "--2021-01-26 18:26:18--  https://duke.app.box.com/public/static/nawqed2wofslp2dw5d9j17i35mmb0ul5.zip\n",
            "Resolving duke.app.box.com (duke.app.box.com)... 107.152.24.201\n",
            "Connecting to duke.app.box.com (duke.app.box.com)|107.152.24.201|:443... connected.\n",
            "HTTP request sent, awaiting response... 302 Found\n",
            "Location: https://public.boxcloud.com/d/1/b1!O-RfZciZxFqDHiMneX2LaSrOq-vtJFCHdN602OEkTWON2JuY6gTrNH78z_NCXWN886U_ymWin__1NFsbQK25sBVBJKB68e9FxDSDKMzcrEWAvxKAOhdguX32vRHJBFDHu3VOtrerISGFrb1QF287h11mytYqgy5OlSYiTZvu8DD3vncukntIINhrYUPjbDtYIrLQfnT46_659LWS6pB8LyU3d9dSoyFcwqQE8VIDcMlN3Ju18v-_nsiTpQGQ9DpfIGpbDpElSB_9ziFb4Qq4Acw4FRwoCPCqzHSQFwRu0bR0xKAHJy_BTDio6825YPaAXGb4AeIG-Ci7E5v_kOhcuxlhpJWxSDKUKlpinoBxMiDbrkdC-M2Z7ZXdpMke3XTkHez8krMyDMgcJx93O0XXysR-rJHjdPcc6XZwc-3t4YPP2EE3OhESWW0SNTl5hQ8ZBalCbQo2KyC8QlHxVq-ppAIuklh1teuQMD38eE1axtm_vi08zVWXSgar3Nx04FHAV8Ddxxw-k0wgcBjL0VyNf6KtqNa4QOwvE9I52S6aGSCqst04Jf1SHWuwNAFdOw2U7DjQde8Phz4LMPj81hoi0y4RKQ3WZXSok1sy0hleVwRcCoSvx95E6uHQqXHflzvnSN99a_6a1FTWD3_rsbcUfBlp6OObsKqqwl4P1azomsoSmKIcUmH1Q6rtm7dzJtr_iOASHHFa3GkF3n05lrCy0MVNvuoTx1j7rCfCubd6Sqb6_QpbL8pQwQgralnBdKIKqc9YBw2Rg6B06lFzHAe9XCYo2y8PgFo0bEJbzB6uK2lxQ9RPgerb8PxcXCRvMMHqBEhQQmL0grLigC660QAr8iD1PkpDa4XslLwjCVg4vYiMCHzyv2zIkjL_u0_WO45bABRMYBBM4T33Mv-I54XML-8fHUCKaUcZYlUP9De-ifDzSd1tGEX4Jy8J28Tb5ZKihMriXeAu1Kz6p83NuxoUNE12yQfTEDpjFlc6VOp5d4FN0S65oV9l33-cCt26XPE2Gbz8jSHEteTP3dTundPddbMVm_jZ-qI0EZQVwKhGFGG5goZCzDzBl_fWr-LQgPwccaGShosAaV9Yme09QvNvAeDCiTbB1ej28bhUnEU8taBnLrqrTx6d8PhZ-kS8Y6I8MGcSGkOUDlG9xUmxe5UYvNf0yThVwDQfKYdOs7clFYfvCOYrNeE8W3Xp2PwXFYtneD6_Yu5KyPgI2DsXgVnTOHUJLhNackZK1DMfg6gpsUVydJeTVsq1Pl8zt3JqgAyiDb_-oJ99CNKHggnEGxDm_4lc01IJqd-LeDJ-8_TzEDDustmEiSqRTeykT29mPT6_TtfHdua2B0Sd1AMtW7YG2VMyzkfrE2YhgQGff9C2Bm25KB2DkNPoONZ79ua6vcjBvOtSdeoWjVmOvCZJL1zf/download [following]\n",
            "--2021-01-26 18:26:19--  https://public.boxcloud.com/d/1/b1!O-RfZciZxFqDHiMneX2LaSrOq-vtJFCHdN602OEkTWON2JuY6gTrNH78z_NCXWN886U_ymWin__1NFsbQK25sBVBJKB68e9FxDSDKMzcrEWAvxKAOhdguX32vRHJBFDHu3VOtrerISGFrb1QF287h11mytYqgy5OlSYiTZvu8DD3vncukntIINhrYUPjbDtYIrLQfnT46_659LWS6pB8LyU3d9dSoyFcwqQE8VIDcMlN3Ju18v-_nsiTpQGQ9DpfIGpbDpElSB_9ziFb4Qq4Acw4FRwoCPCqzHSQFwRu0bR0xKAHJy_BTDio6825YPaAXGb4AeIG-Ci7E5v_kOhcuxlhpJWxSDKUKlpinoBxMiDbrkdC-M2Z7ZXdpMke3XTkHez8krMyDMgcJx93O0XXysR-rJHjdPcc6XZwc-3t4YPP2EE3OhESWW0SNTl5hQ8ZBalCbQo2KyC8QlHxVq-ppAIuklh1teuQMD38eE1axtm_vi08zVWXSgar3Nx04FHAV8Ddxxw-k0wgcBjL0VyNf6KtqNa4QOwvE9I52S6aGSCqst04Jf1SHWuwNAFdOw2U7DjQde8Phz4LMPj81hoi0y4RKQ3WZXSok1sy0hleVwRcCoSvx95E6uHQqXHflzvnSN99a_6a1FTWD3_rsbcUfBlp6OObsKqqwl4P1azomsoSmKIcUmH1Q6rtm7dzJtr_iOASHHFa3GkF3n05lrCy0MVNvuoTx1j7rCfCubd6Sqb6_QpbL8pQwQgralnBdKIKqc9YBw2Rg6B06lFzHAe9XCYo2y8PgFo0bEJbzB6uK2lxQ9RPgerb8PxcXCRvMMHqBEhQQmL0grLigC660QAr8iD1PkpDa4XslLwjCVg4vYiMCHzyv2zIkjL_u0_WO45bABRMYBBM4T33Mv-I54XML-8fHUCKaUcZYlUP9De-ifDzSd1tGEX4Jy8J28Tb5ZKihMriXeAu1Kz6p83NuxoUNE12yQfTEDpjFlc6VOp5d4FN0S65oV9l33-cCt26XPE2Gbz8jSHEteTP3dTundPddbMVm_jZ-qI0EZQVwKhGFGG5goZCzDzBl_fWr-LQgPwccaGShosAaV9Yme09QvNvAeDCiTbB1ej28bhUnEU8taBnLrqrTx6d8PhZ-kS8Y6I8MGcSGkOUDlG9xUmxe5UYvNf0yThVwDQfKYdOs7clFYfvCOYrNeE8W3Xp2PwXFYtneD6_Yu5KyPgI2DsXgVnTOHUJLhNackZK1DMfg6gpsUVydJeTVsq1Pl8zt3JqgAyiDb_-oJ99CNKHggnEGxDm_4lc01IJqd-LeDJ-8_TzEDDustmEiSqRTeykT29mPT6_TtfHdua2B0Sd1AMtW7YG2VMyzkfrE2YhgQGff9C2Bm25KB2DkNPoONZ79ua6vcjBvOtSdeoWjVmOvCZJL1zf/download\n",
            "Resolving public.boxcloud.com (public.boxcloud.com)... 107.152.24.200\n",
            "Connecting to public.boxcloud.com (public.boxcloud.com)|107.152.24.200|:443... connected.\n",
            "HTTP request sent, awaiting response... 200 OK\n",
            "Length: 289824 (283K) [application/zip]\n",
            "Saving to: ‘data/labels.zip’\n",
            "\n",
            "data/labels.zip     100%[===================>] 283.03K  --.-KB/s    in 0.07s   \n",
            "\n",
            "2021-01-26 18:26:19 (3.72 MB/s) - ‘data/labels.zip’ saved [289824/289824]\n",
            "\n",
            "--2021-01-26 18:26:22--  https://duke.box.com/shared/static/51kby1zj73y5bj86pwogd6ma88p5x4sm.zip\n",
            "Resolving duke.box.com (duke.box.com)... 107.152.24.197\n",
            "Connecting to duke.box.com (duke.box.com)|107.152.24.197|:443... connected.\n",
            "HTTP request sent, awaiting response... 301 Moved Permanently\n",
            "Location: /public/static/51kby1zj73y5bj86pwogd6ma88p5x4sm.zip [following]\n",
            "--2021-01-26 18:26:22--  https://duke.box.com/public/static/51kby1zj73y5bj86pwogd6ma88p5x4sm.zip\n",
            "Reusing existing connection to duke.box.com:443.\n",
            "HTTP request sent, awaiting response... 301 Moved Permanently\n",
            "Location: https://duke.app.box.com/public/static/51kby1zj73y5bj86pwogd6ma88p5x4sm.zip [following]\n",
            "--2021-01-26 18:26:22--  https://duke.app.box.com/public/static/51kby1zj73y5bj86pwogd6ma88p5x4sm.zip\n",
            "Resolving duke.app.box.com (duke.app.box.com)... 107.152.24.201\n",
            "Connecting to duke.app.box.com (duke.app.box.com)|107.152.24.201|:443... connected.\n",
            "HTTP request sent, awaiting response... 302 Found\n",
            "Location: https://public.boxcloud.com/d/1/b1!WV6v7cEcwqMHvkdF_pLt9JreJsDvT4vrBO8pBkImjqe5iNVUlViQqHJndPnb76AWEsQRvFrMaMSWmBPLOCFpD7fUaP4H7cMtmjiW_OyfdPjaUTOlOiyCJzm5545axRbYYUegQrEs7r01rmRUVTmDzwA4tyw7QYRa9rHB1ELy2ZJohTBbDq12KAIEEfs6T1AKuSNNbej3r74MzU2hbCTED577r3D69wPpeGi6WvqvWx2yrHeh7M_a02-kIvUx3tc5srHhBUprrgbBTzxYEzIToSaBO0fCQc2chk3DGCwaIPfGyUwNmO9fpasS3xcAJ2nEh6J1loEuhFreUkgsDNxFynK-t6VrdWRQjmrZVEJ_bYRjthKjf80vzTHyijn3YBtsa9ngzT-LfJdPe8vgqSUV06XnzS_evIld3O0gaMMpdvSLiQfO2xXxoF_OiAZ6sxgRfDuZVh2QoqN29nPWYbTSBL5cBQlCNT0Ao1FDxlRUb-UagTa-jlqeGvF9-8KP53Cf5zWkkjobXXDTyFsmxIUHKOnRRipL20DT1u5LRsb25nnxqzkN0sqQXgr5T_nauihMiM8pS-s44N5DrvwbYMotT0M_56TgbVhFvmYyJSdb4ko_KXnKLADfLd-aqbpcMtiwkQv6ZsWdkucSjYHL_eBpUcFu85tKZpiv9abx479897m1tZ8jHuHAwt_Y659-y-WPTbQuQ4N_dPDlFgdt514rGSXoabQV2uHXarYUxkCaEbnk75CF05R44T3mpAFWWj1YMgtB03h87S4cMsvYIwmUExIWN8ZEQe-sZGdTK1A86Spr7H2MjUX_a_GvMY8Au2wfyk5EAb446cBuzESHbbFWqQD0CQcrvGdCL2bTURZVzz8ok9kDAppzIu4Qw93IlOTcscXSsEZm59iehMLB-yae1t2BcxVECDJnBJYYFo8SfEmEeeOqOJav3tCLnVghz7BQP_X_4ChNSxZCDMIgFFbiLshu1nIaOYOA4U2TBi-o_0NULAoiyRtL-pLElxbc87VeRWcNjQeGjLH2bmAKFpPORYn3wl736W6JKI7Sw06pS-RkLy6UuEUqx9B-Op_O3-xiqpXPNP9sXaytV6llb2O53ZRtdMqc-F0pV-IzepR8kOZK8EihqOweoRm5vMhzNfFOYKTRXV_qECPdUMWyMnIrAiZn4g4VIE6sAtKawd6JAPB-1aXmtSSrCaI87-p0KQVYMtboueSd4ep5o_0t33m8-XQomNs_CuX-g9i8f4_1cPqQrGqHPMuMb0Rz1RoVo6zr6mQmjsPQU37rkL66uSiW5LvIkv5qMGSDor2g4PnlWpQn-6wGpKGyegcK5ZVvWgXvpskEdiBG715ksvDFQDicdpoEK8Xew8Kwa-eJ2QlITx_VbLuslkdhSlzEb03nbCaBNXTdnzn125nM-shOdoHxAtPBAIARutVyQvBDuBI./download [following]\n",
            "--2021-01-26 18:26:23--  https://public.boxcloud.com/d/1/b1!WV6v7cEcwqMHvkdF_pLt9JreJsDvT4vrBO8pBkImjqe5iNVUlViQqHJndPnb76AWEsQRvFrMaMSWmBPLOCFpD7fUaP4H7cMtmjiW_OyfdPjaUTOlOiyCJzm5545axRbYYUegQrEs7r01rmRUVTmDzwA4tyw7QYRa9rHB1ELy2ZJohTBbDq12KAIEEfs6T1AKuSNNbej3r74MzU2hbCTED577r3D69wPpeGi6WvqvWx2yrHeh7M_a02-kIvUx3tc5srHhBUprrgbBTzxYEzIToSaBO0fCQc2chk3DGCwaIPfGyUwNmO9fpasS3xcAJ2nEh6J1loEuhFreUkgsDNxFynK-t6VrdWRQjmrZVEJ_bYRjthKjf80vzTHyijn3YBtsa9ngzT-LfJdPe8vgqSUV06XnzS_evIld3O0gaMMpdvSLiQfO2xXxoF_OiAZ6sxgRfDuZVh2QoqN29nPWYbTSBL5cBQlCNT0Ao1FDxlRUb-UagTa-jlqeGvF9-8KP53Cf5zWkkjobXXDTyFsmxIUHKOnRRipL20DT1u5LRsb25nnxqzkN0sqQXgr5T_nauihMiM8pS-s44N5DrvwbYMotT0M_56TgbVhFvmYyJSdb4ko_KXnKLADfLd-aqbpcMtiwkQv6ZsWdkucSjYHL_eBpUcFu85tKZpiv9abx479897m1tZ8jHuHAwt_Y659-y-WPTbQuQ4N_dPDlFgdt514rGSXoabQV2uHXarYUxkCaEbnk75CF05R44T3mpAFWWj1YMgtB03h87S4cMsvYIwmUExIWN8ZEQe-sZGdTK1A86Spr7H2MjUX_a_GvMY8Au2wfyk5EAb446cBuzESHbbFWqQD0CQcrvGdCL2bTURZVzz8ok9kDAppzIu4Qw93IlOTcscXSsEZm59iehMLB-yae1t2BcxVECDJnBJYYFo8SfEmEeeOqOJav3tCLnVghz7BQP_X_4ChNSxZCDMIgFFbiLshu1nIaOYOA4U2TBi-o_0NULAoiyRtL-pLElxbc87VeRWcNjQeGjLH2bmAKFpPORYn3wl736W6JKI7Sw06pS-RkLy6UuEUqx9B-Op_O3-xiqpXPNP9sXaytV6llb2O53ZRtdMqc-F0pV-IzepR8kOZK8EihqOweoRm5vMhzNfFOYKTRXV_qECPdUMWyMnIrAiZn4g4VIE6sAtKawd6JAPB-1aXmtSSrCaI87-p0KQVYMtboueSd4ep5o_0t33m8-XQomNs_CuX-g9i8f4_1cPqQrGqHPMuMb0Rz1RoVo6zr6mQmjsPQU37rkL66uSiW5LvIkv5qMGSDor2g4PnlWpQn-6wGpKGyegcK5ZVvWgXvpskEdiBG715ksvDFQDicdpoEK8Xew8Kwa-eJ2QlITx_VbLuslkdhSlzEb03nbCaBNXTdnzn125nM-shOdoHxAtPBAIARutVyQvBDuBI./download\n",
            "Resolving public.boxcloud.com (public.boxcloud.com)... 107.152.24.200\n",
            "Connecting to public.boxcloud.com (public.boxcloud.com)|107.152.24.200|:443... connected.\n",
            "HTTP request sent, awaiting response... 200 OK\n",
            "Length: 2305217778 (2.1G) [application/zip]\n",
            "Saving to: ‘data/synthetic_images.zip’\n",
            "\n",
            "data/synthetic_imag 100%[===================>]   2.15G  26.4MB/s    in 84s     \n",
            "\n",
            "2021-01-26 18:27:47 (26.0 MB/s) - ‘data/synthetic_images.zip’ saved [2305217778/2305217778]\n",
            "\n",
            "--2021-01-26 18:27:48--  https://duke.box.com/shared/static/4xw53kjtacxq21npnc6eb2q65xwcnt8v.zip\n",
            "Resolving duke.box.com (duke.box.com)... 107.152.24.197\n",
            "Connecting to duke.box.com (duke.box.com)|107.152.24.197|:443... connected.\n",
            "HTTP request sent, awaiting response... 301 Moved Permanently\n",
            "Location: /public/static/4xw53kjtacxq21npnc6eb2q65xwcnt8v.zip [following]\n",
            "--2021-01-26 18:27:48--  https://duke.box.com/public/static/4xw53kjtacxq21npnc6eb2q65xwcnt8v.zip\n",
            "Reusing existing connection to duke.box.com:443.\n",
            "HTTP request sent, awaiting response... 301 Moved Permanently\n",
            "Location: https://duke.app.box.com/public/static/4xw53kjtacxq21npnc6eb2q65xwcnt8v.zip [following]\n",
            "--2021-01-26 18:27:48--  https://duke.app.box.com/public/static/4xw53kjtacxq21npnc6eb2q65xwcnt8v.zip\n",
            "Resolving duke.app.box.com (duke.app.box.com)... 107.152.24.201\n",
            "Connecting to duke.app.box.com (duke.app.box.com)|107.152.24.201|:443... connected.\n",
            "HTTP request sent, awaiting response... 302 Found\n",
            "Location: https://public.boxcloud.com/d/1/b1!1fVzD2NSQ1n-w6xXlcL0-P7-ASMvJPbRNWJZ5AXfqYYedFVClPUxC4qksxCK5IvmaiRlDLuLcAp31orWa3VFrvvFOJCLQGcpmgIlD_bvbvk_DQz7EeRz9Rb1JDQIqT06azdoHRHWlVT-TSp1oYbK7O_LdBT_S4Y30_GuBygAFd9qApWrFE7x5DtX_gC0Eewua71Qpd7teFAKbAj4_rxZsJFHmxPdwz0NbVOk5jAKTslklDV0nuNN-tBaYIkz--I0LRrt167Plt-URwjxXwppplYPk9u6gwvJEMA7QbuTrqg31CuAi-ch29kOviirc1Iv8AQOiGGSF6t2v5m4sNC9aYiw1LuJ9ncJ8QWNFSLkzpVsWOlPoM0a5VoNtLVX8SIrLnDY1xMo8w4GSXcLhfnAuR2Grp6sXQX7aYB-xHgfdU2Jam6vYdUYqxLWvTMG1NqdnWVZB6oiG9Oxs5UgUnLyzjiA7fZDDd0ueQCP8GoyfWFhkXbdXNxIYmPz4uZHOeMAvx71uRRFRXM8hwkWYrFHvcXsHMvvn3UsWUZPkUoei23Gnth_rMUEo4ODUKcx2ivsduCp9rS26gSiKl1ATEHlmDrPRVw4lhIamOc8cbmjYU06gsx9cdCikDIjjMC0aTi2tfo133xArTaz690slo7jS7TyW8eW9tswmJWS7OeNovsOgauYZnn9HtU-frMiaPacGLa3-fXRZYUfmUsBU5W1Si4qlFwm7WXZwixPAFkEFzla_mohCmi-SVRI6l_E4_MtB-YJ929dsHZ4gX8EB5YXGWy7ERsqOgI-OG0_eHo5LJUoNnsxGVoj1umpsy8wMx055i5L4LFOkQMNivfkfVcWw4UMcVHWhR2sWrLtQQmDCT4hMOSD0l2td1ftm3si7qNIn5CwK0_RoE66Gp2DXui2ekUIJBkF5hL6AfByyWmOGOP08DuI4mvPgrJGuEdovBl7ZdzFIhnUl8gI13uu_VU4TyPxwJvetnCYT2bw0oHDdi-tyt9gXQZO5XSMt0571HU6TnLQugPmLNsWYwjaVJgx8HKHp6awAir2ufhLKK3S4EwuQaxylAHdjLDFDgAkXS63Oxz1UkNOiuxsC0MaQ4ndtGjbKqYT-prOCzvaGkMk0yS_8GrGWKBFveWdth0dP-y4GZr9lg0p63Nw4rwQTEXDewU37jPfiVlae9807DBYBdLA1tz4nFw05rNznkWNjcpFf9jYvcOx_yRuKmDFwZyeZpIMj046hvU9gk5oQHiwB8KSrBmGSUvAsd6SfjaPGYV_6i_6fqXM0Y-t7My3EnWYn9EhwMGWi9tt6HFeDpcscRiib0v9Ao2d36EW0uvUiE1qE6aPFmp_73mJXhK2e-rAoHIW98CEtxTOgePlwcJGF1QkxTM-ieU46N4fJBMUtG-zVJvPmyDLNOqCF3clRNfVxc7e-bNHks67Hw../download [following]\n",
            "--2021-01-26 18:27:48--  https://public.boxcloud.com/d/1/b1!1fVzD2NSQ1n-w6xXlcL0-P7-ASMvJPbRNWJZ5AXfqYYedFVClPUxC4qksxCK5IvmaiRlDLuLcAp31orWa3VFrvvFOJCLQGcpmgIlD_bvbvk_DQz7EeRz9Rb1JDQIqT06azdoHRHWlVT-TSp1oYbK7O_LdBT_S4Y30_GuBygAFd9qApWrFE7x5DtX_gC0Eewua71Qpd7teFAKbAj4_rxZsJFHmxPdwz0NbVOk5jAKTslklDV0nuNN-tBaYIkz--I0LRrt167Plt-URwjxXwppplYPk9u6gwvJEMA7QbuTrqg31CuAi-ch29kOviirc1Iv8AQOiGGSF6t2v5m4sNC9aYiw1LuJ9ncJ8QWNFSLkzpVsWOlPoM0a5VoNtLVX8SIrLnDY1xMo8w4GSXcLhfnAuR2Grp6sXQX7aYB-xHgfdU2Jam6vYdUYqxLWvTMG1NqdnWVZB6oiG9Oxs5UgUnLyzjiA7fZDDd0ueQCP8GoyfWFhkXbdXNxIYmPz4uZHOeMAvx71uRRFRXM8hwkWYrFHvcXsHMvvn3UsWUZPkUoei23Gnth_rMUEo4ODUKcx2ivsduCp9rS26gSiKl1ATEHlmDrPRVw4lhIamOc8cbmjYU06gsx9cdCikDIjjMC0aTi2tfo133xArTaz690slo7jS7TyW8eW9tswmJWS7OeNovsOgauYZnn9HtU-frMiaPacGLa3-fXRZYUfmUsBU5W1Si4qlFwm7WXZwixPAFkEFzla_mohCmi-SVRI6l_E4_MtB-YJ929dsHZ4gX8EB5YXGWy7ERsqOgI-OG0_eHo5LJUoNnsxGVoj1umpsy8wMx055i5L4LFOkQMNivfkfVcWw4UMcVHWhR2sWrLtQQmDCT4hMOSD0l2td1ftm3si7qNIn5CwK0_RoE66Gp2DXui2ekUIJBkF5hL6AfByyWmOGOP08DuI4mvPgrJGuEdovBl7ZdzFIhnUl8gI13uu_VU4TyPxwJvetnCYT2bw0oHDdi-tyt9gXQZO5XSMt0571HU6TnLQugPmLNsWYwjaVJgx8HKHp6awAir2ufhLKK3S4EwuQaxylAHdjLDFDgAkXS63Oxz1UkNOiuxsC0MaQ4ndtGjbKqYT-prOCzvaGkMk0yS_8GrGWKBFveWdth0dP-y4GZr9lg0p63Nw4rwQTEXDewU37jPfiVlae9807DBYBdLA1tz4nFw05rNznkWNjcpFf9jYvcOx_yRuKmDFwZyeZpIMj046hvU9gk5oQHiwB8KSrBmGSUvAsd6SfjaPGYV_6i_6fqXM0Y-t7My3EnWYn9EhwMGWi9tt6HFeDpcscRiib0v9Ao2d36EW0uvUiE1qE6aPFmp_73mJXhK2e-rAoHIW98CEtxTOgePlwcJGF1QkxTM-ieU46N4fJBMUtG-zVJvPmyDLNOqCF3clRNfVxc7e-bNHks67Hw../download\n",
            "Resolving public.boxcloud.com (public.boxcloud.com)... 107.152.24.200\n",
            "Connecting to public.boxcloud.com (public.boxcloud.com)|107.152.24.200|:443... connected.\n",
            "HTTP request sent, awaiting response... 200 OK\n",
            "Length: 668345 (653K) [application/zip]\n",
            "Saving to: ‘data/synthetic_labels.zip’\n",
            "\n",
            "data/synthetic_labe 100%[===================>] 652.68K  --.-KB/s    in 0.09s   \n",
            "\n",
            "2021-01-26 18:27:49 (6.87 MB/s) - ‘data/synthetic_labels.zip’ saved [668345/668345]\n",
            "\n",
            "--2021-01-26 18:28:09--  https://duke.box.com/shared/static/9hc0uqxric3gptb6j92fzswcuux4ou73.zip\n",
            "Resolving duke.box.com (duke.box.com)... 107.152.24.197\n",
            "Connecting to duke.box.com (duke.box.com)|107.152.24.197|:443... connected.\n",
            "HTTP request sent, awaiting response... 301 Moved Permanently\n",
            "Location: /public/static/9hc0uqxric3gptb6j92fzswcuux4ou73.zip [following]\n",
            "--2021-01-26 18:28:10--  https://duke.box.com/public/static/9hc0uqxric3gptb6j92fzswcuux4ou73.zip\n",
            "Reusing existing connection to duke.box.com:443.\n",
            "HTTP request sent, awaiting response... 301 Moved Permanently\n",
            "Location: https://duke.app.box.com/public/static/9hc0uqxric3gptb6j92fzswcuux4ou73.zip [following]\n",
            "--2021-01-26 18:28:10--  https://duke.app.box.com/public/static/9hc0uqxric3gptb6j92fzswcuux4ou73.zip\n",
            "Resolving duke.app.box.com (duke.app.box.com)... 107.152.24.201\n",
            "Connecting to duke.app.box.com (duke.app.box.com)|107.152.24.201|:443... connected.\n",
            "HTTP request sent, awaiting response... 302 Found\n",
            "Location: https://public.boxcloud.com/d/1/b1!UTxly6DGv8lWYQP9_hj6Yd_s-VMctWYab7hkj9_LlFEYBpQXrPNeo4gvB5m1LVwTb6NOzWyEve0PtMvvGVdaNLuQO_3B4godX8BGOS56k6Owr_dHDtOrX9PcaDHfDgevIR29sz4GdIuw0TyOUBbA0FLSou57MS4lKc_lCgIXgS3MFWYUwpR-AO2nXA3Upukjdu3iW0EGe6_gbOGdCBMuClTgT9tFn-R6Y_ZBvttxaPBsPz8PHCrgtVJDTJ0_6cnEfPxOSZi5t5rQPArzcPL2jtwkKHkK7L0JBksehFzg2IIiiSK--ogIS_I73SoDqZt-8e0dHWWTEkFH9EUeTx58uSEl9_iZJRSMF4pCe9NXKmDeuXMn7k3olJaeJd3fvkazX8Y4KhQFUdU55yYXJ0d9SBgAVv9yd3-3XNHEnJK65nJ6kqCF9teR0Yv-RzMQBmdEpEg63IfdFNkINNf7NBY5GsHyN1vEZ7ivCkapYISFLYGiL7AkR0-UVwsE7dMWIfw8BOdlx_FBsK1hQVKm5N-9LgDfkHfeNdMeHSC7s8EPE6oFZhWTuHTzhUb6Y_GSYekey2TEhA-2oM72UUjJizebiwYWq28ksfOD3qL0jMblZV4554_FtemSkvVrXOujVzZr2aogTCKAKGs5ysn0GqpXYMQjiTC--D6MMdgGJKEYliavwnL_qpCDQkYiL49KToSk8J8k_BaY9EtH_YkoY52i0TjOTgeSb6b542ZRmeAvQuuyNAE90rAImrZuj1ihoxnm9ifspfjVDA7cs9i2Rt-n_B4ZxdHz7GOFs5o2glMUMM6GkgRd_8FpMjf4VRDB0W6ftXm6Fw_3_UkP7m2deIyIQ4Wb51QesMfLKWTEdhkHZ-fuk5PFyYkw7UAK2fCCgZf0xSuhZEiEGq_hGYRg6HZjiV1kvHEMTSK0PN36F9JYla7QrGnNrC8JMm1k8wXpXNNg3Ge2xOUxAkOEymU8HC8jdz4h8hqcV_G_JdbxGwFWYq77lcveP4FKccYVZw20Pc-TgpnWfh_WrGac37ujwU5l1_5uLYCy8zflZniCc1ltA9pIg3aO9dgVcDp-7bQxkR7Aim9KLEyH7_QzdO4F9M4h7RPIeqz5_SZYRLhBOw24BwfNI82GutvuYtkZFNwL7IXRpMSzRMdsqiyjBDr_p8ToQuFu1I9pBzPoMuVajJ40YNrAfEo4BEbAR4X27-_wZpzX3szvgpaE1QlO1Rrssz63YHtQ4hl0_zToCNngHyp3PVlILuAFzkiPnd2RHLqz2Y1gysl70YWLcaNp0NNsqu3WujP-AmpJWeRidgtAWYGNNGwnCvs5qI7hmL0WOgQC55AHTuW1A6YEWCEmls0xuAME3TufsE1cmg4hI5BP2VBF_Y7ganCCILcB5NviBcjCLPOtLiVKfQOGoFLRdVtWsKKP48W2POgG/download [following]\n",
            "--2021-01-26 18:28:10--  https://public.boxcloud.com/d/1/b1!UTxly6DGv8lWYQP9_hj6Yd_s-VMctWYab7hkj9_LlFEYBpQXrPNeo4gvB5m1LVwTb6NOzWyEve0PtMvvGVdaNLuQO_3B4godX8BGOS56k6Owr_dHDtOrX9PcaDHfDgevIR29sz4GdIuw0TyOUBbA0FLSou57MS4lKc_lCgIXgS3MFWYUwpR-AO2nXA3Upukjdu3iW0EGe6_gbOGdCBMuClTgT9tFn-R6Y_ZBvttxaPBsPz8PHCrgtVJDTJ0_6cnEfPxOSZi5t5rQPArzcPL2jtwkKHkK7L0JBksehFzg2IIiiSK--ogIS_I73SoDqZt-8e0dHWWTEkFH9EUeTx58uSEl9_iZJRSMF4pCe9NXKmDeuXMn7k3olJaeJd3fvkazX8Y4KhQFUdU55yYXJ0d9SBgAVv9yd3-3XNHEnJK65nJ6kqCF9teR0Yv-RzMQBmdEpEg63IfdFNkINNf7NBY5GsHyN1vEZ7ivCkapYISFLYGiL7AkR0-UVwsE7dMWIfw8BOdlx_FBsK1hQVKm5N-9LgDfkHfeNdMeHSC7s8EPE6oFZhWTuHTzhUb6Y_GSYekey2TEhA-2oM72UUjJizebiwYWq28ksfOD3qL0jMblZV4554_FtemSkvVrXOujVzZr2aogTCKAKGs5ysn0GqpXYMQjiTC--D6MMdgGJKEYliavwnL_qpCDQkYiL49KToSk8J8k_BaY9EtH_YkoY52i0TjOTgeSb6b542ZRmeAvQuuyNAE90rAImrZuj1ihoxnm9ifspfjVDA7cs9i2Rt-n_B4ZxdHz7GOFs5o2glMUMM6GkgRd_8FpMjf4VRDB0W6ftXm6Fw_3_UkP7m2deIyIQ4Wb51QesMfLKWTEdhkHZ-fuk5PFyYkw7UAK2fCCgZf0xSuhZEiEGq_hGYRg6HZjiV1kvHEMTSK0PN36F9JYla7QrGnNrC8JMm1k8wXpXNNg3Ge2xOUxAkOEymU8HC8jdz4h8hqcV_G_JdbxGwFWYq77lcveP4FKccYVZw20Pc-TgpnWfh_WrGac37ujwU5l1_5uLYCy8zflZniCc1ltA9pIg3aO9dgVcDp-7bQxkR7Aim9KLEyH7_QzdO4F9M4h7RPIeqz5_SZYRLhBOw24BwfNI82GutvuYtkZFNwL7IXRpMSzRMdsqiyjBDr_p8ToQuFu1I9pBzPoMuVajJ40YNrAfEo4BEbAR4X27-_wZpzX3szvgpaE1QlO1Rrssz63YHtQ4hl0_zToCNngHyp3PVlILuAFzkiPnd2RHLqz2Y1gysl70YWLcaNp0NNsqu3WujP-AmpJWeRidgtAWYGNNGwnCvs5qI7hmL0WOgQC55AHTuW1A6YEWCEmls0xuAME3TufsE1cmg4hI5BP2VBF_Y7ganCCILcB5NviBcjCLPOtLiVKfQOGoFLRdVtWsKKP48W2POgG/download\n",
            "Resolving public.boxcloud.com (public.boxcloud.com)... 107.152.24.200\n",
            "Connecting to public.boxcloud.com (public.boxcloud.com)|107.152.24.200|:443... connected.\n",
            "HTTP request sent, awaiting response... 200 OK\n",
            "Length: 45502092 (43M) [application/zip]\n",
            "Saving to: ‘data/images_new.zip’\n",
            "\n",
            "data/images_new.zip 100%[===================>]  43.39M  30.3MB/s    in 1.4s    \n",
            "\n",
            "2021-01-26 18:28:12 (30.3 MB/s) - ‘data/images_new.zip’ saved [45502092/45502092]\n",
            "\n",
            "--2021-01-26 18:28:13--  https://duke.box.com/shared/static/41r1grgakpjswnzu274xk8k1edo9xfkd.zip\n",
            "Resolving duke.box.com (duke.box.com)... 107.152.24.197\n",
            "Connecting to duke.box.com (duke.box.com)|107.152.24.197|:443... connected.\n",
            "HTTP request sent, awaiting response... 301 Moved Permanently\n",
            "Location: /public/static/41r1grgakpjswnzu274xk8k1edo9xfkd.zip [following]\n",
            "--2021-01-26 18:28:13--  https://duke.box.com/public/static/41r1grgakpjswnzu274xk8k1edo9xfkd.zip\n",
            "Reusing existing connection to duke.box.com:443.\n",
            "HTTP request sent, awaiting response... 301 Moved Permanently\n",
            "Location: https://duke.app.box.com/public/static/41r1grgakpjswnzu274xk8k1edo9xfkd.zip [following]\n",
            "--2021-01-26 18:28:13--  https://duke.app.box.com/public/static/41r1grgakpjswnzu274xk8k1edo9xfkd.zip\n",
            "Resolving duke.app.box.com (duke.app.box.com)... 107.152.24.201\n",
            "Connecting to duke.app.box.com (duke.app.box.com)|107.152.24.201|:443... connected.\n",
            "HTTP request sent, awaiting response... 302 Found\n",
            "Location: https://public.boxcloud.com/d/1/b1!llvii0xA4pN6y9FAuiIkZ3KYvxqhK_P1F0t3cna0zONQgT5IPsuj7QvILwo555-Btm7v2AH4u5gmfQl6n6NoN6vL3ncdKMWGmDEK9mdh3Bhvsr6AwhfX9t3gFE9s6Ou8hRZ7GOIOt0xLUMqx92vVlDC6tlhXo20_IHtBT0xi5CrTedB5rHAoeIag96gbP_4bMJOe90WuGv5qTKfVhO3Kg26RKesvoc-J96miaIwHe1crOP4d6OXm7-ZWIXn5kI_qqozb8QFt1lC5luKQPQZlMnZbqtNIsuKcoS2kJM2VsdVQ9Hd5bi31DynPmEQ0IR29gC6sq9TRkjuczuaUZXa1n8V_k2PEYChIgUeRvtX0dAHF_cmE-unype3UbhzNaUTRho2lDXYTWHz-BVm9PMSSvv_sTHWQQ4q3r8dk2Yjlf2cEU7i8QJQyT1PjrB8SgGWvmiINQlFbb8wT6tQh6oQ8b8JxI30qDzofZnHAHgC-66lh30hdwY2ruT48dP_RoD0PSHQfF-XaMdPiy13g39qpKbnpzD5_LgSo1pwMZdfMFsgXVUATGO5L8HL09a7wwE_6Y8IusoPN4CpEtTK07sVmOthcwN0P9OE1lKpcEl13VaJttNCbmVmcdTK-Hqjch8A28A7aU7gBjwfwexxCtP132K2GmMW29wrAfiq3l5U8Z8SYWKdYA9fCisbLeKqt9s_Z0MtuwGeySpeD3QMDBbqZuGCG4ygPcvtTmXfuDioXxnAciVxqMt6c6WFHvjk5qPQ20uSz7oTERhwLI1naHWr7N0QG87HVSaOpEVPCTaeQ-tgohMnOy2O_C-MViK1IMMr01rFegEZv1oLOLmijsE_EEVV_mB072YNW_apE6VhyR5toXP_B3dhIKyNs7k9oillrIMIj6LFp26hqd2oE2t8U00sFWAi0ZODOsPT0bM4oS0cRoJ3oF-6wyXwp4VxGwx-PbXHW1rSVNODowepB67clRfxmI5tkoNE8D2BoPQQtM3dlc46cS1lt_SpRjxx9okh7WhO8omFZTHF2E5Vd9v4cZaTCODMf5cg_oYaveXD3-YqqUm7tbXLeHxCF_1x7yNsZWX5vUQymabN7f8VOC6_jQi05TxN1GRE1s9DT_bEjC3lj1lWnBDUCMwIYgOVuCOMKak_oNNgfMhlxei3aNxL_Ovk4mryTtKm2PnpDJasoMQvaCiy0HzzVZxK7D6DoaQ8dyUW9W2M8-HC1DIYDemTKddiLRTdgokut3RNaL4D0tudhjGsdgWujI_I9aTlZRHRnhmnIWn1nYogFW1jwLPRlB6j2qJkHFGheqwSxqA9OWJcyXeO9cX5GsGjJJyZMsrzZ8v_6K5W0XsptYoBB4GoGPeOjqOawwXetfe7AZc3pG6KWlP60L9zXqbPqulBmsNJNLmCnXLqiOPb9eXNrWlmOsCvq_b80bw2dypao8vORMWPr-0B2qOwWgFUK1If1IeAixwWboV8./download [following]\n",
            "--2021-01-26 18:28:13--  https://public.boxcloud.com/d/1/b1!llvii0xA4pN6y9FAuiIkZ3KYvxqhK_P1F0t3cna0zONQgT5IPsuj7QvILwo555-Btm7v2AH4u5gmfQl6n6NoN6vL3ncdKMWGmDEK9mdh3Bhvsr6AwhfX9t3gFE9s6Ou8hRZ7GOIOt0xLUMqx92vVlDC6tlhXo20_IHtBT0xi5CrTedB5rHAoeIag96gbP_4bMJOe90WuGv5qTKfVhO3Kg26RKesvoc-J96miaIwHe1crOP4d6OXm7-ZWIXn5kI_qqozb8QFt1lC5luKQPQZlMnZbqtNIsuKcoS2kJM2VsdVQ9Hd5bi31DynPmEQ0IR29gC6sq9TRkjuczuaUZXa1n8V_k2PEYChIgUeRvtX0dAHF_cmE-unype3UbhzNaUTRho2lDXYTWHz-BVm9PMSSvv_sTHWQQ4q3r8dk2Yjlf2cEU7i8QJQyT1PjrB8SgGWvmiINQlFbb8wT6tQh6oQ8b8JxI30qDzofZnHAHgC-66lh30hdwY2ruT48dP_RoD0PSHQfF-XaMdPiy13g39qpKbnpzD5_LgSo1pwMZdfMFsgXVUATGO5L8HL09a7wwE_6Y8IusoPN4CpEtTK07sVmOthcwN0P9OE1lKpcEl13VaJttNCbmVmcdTK-Hqjch8A28A7aU7gBjwfwexxCtP132K2GmMW29wrAfiq3l5U8Z8SYWKdYA9fCisbLeKqt9s_Z0MtuwGeySpeD3QMDBbqZuGCG4ygPcvtTmXfuDioXxnAciVxqMt6c6WFHvjk5qPQ20uSz7oTERhwLI1naHWr7N0QG87HVSaOpEVPCTaeQ-tgohMnOy2O_C-MViK1IMMr01rFegEZv1oLOLmijsE_EEVV_mB072YNW_apE6VhyR5toXP_B3dhIKyNs7k9oillrIMIj6LFp26hqd2oE2t8U00sFWAi0ZODOsPT0bM4oS0cRoJ3oF-6wyXwp4VxGwx-PbXHW1rSVNODowepB67clRfxmI5tkoNE8D2BoPQQtM3dlc46cS1lt_SpRjxx9okh7WhO8omFZTHF2E5Vd9v4cZaTCODMf5cg_oYaveXD3-YqqUm7tbXLeHxCF_1x7yNsZWX5vUQymabN7f8VOC6_jQi05TxN1GRE1s9DT_bEjC3lj1lWnBDUCMwIYgOVuCOMKak_oNNgfMhlxei3aNxL_Ovk4mryTtKm2PnpDJasoMQvaCiy0HzzVZxK7D6DoaQ8dyUW9W2M8-HC1DIYDemTKddiLRTdgokut3RNaL4D0tudhjGsdgWujI_I9aTlZRHRnhmnIWn1nYogFW1jwLPRlB6j2qJkHFGheqwSxqA9OWJcyXeO9cX5GsGjJJyZMsrzZ8v_6K5W0XsptYoBB4GoGPeOjqOawwXetfe7AZc3pG6KWlP60L9zXqbPqulBmsNJNLmCnXLqiOPb9eXNrWlmOsCvq_b80bw2dypao8vORMWPr-0B2qOwWgFUK1If1IeAixwWboV8./download\n",
            "Resolving public.boxcloud.com (public.boxcloud.com)... 107.152.24.200\n",
            "Connecting to public.boxcloud.com (public.boxcloud.com)|107.152.24.200|:443... connected.\n",
            "HTTP request sent, awaiting response... 200 OK\n",
            "Length: 43280 (42K) [application/zip]\n",
            "Saving to: ‘data/label_new.zip’\n",
            "\n",
            "data/label_new.zip  100%[===================>]  42.27K  --.-KB/s    in 0.04s   \n",
            "\n",
            "2021-01-26 18:28:14 (1.12 MB/s) - ‘data/label_new.zip’ saved [43280/43280]\n",
            "\n"
          ],
          "name": "stdout"
        }
      ]
    },
    {
      "cell_type": "code",
      "metadata": {
        "colab": {
          "base_uri": "https://localhost:8080/"
        },
        "id": "h9bQP6nquEVT",
        "outputId": "7ec32ccc-eccd-40ca-a727-056de959fce7"
      },
      "source": [
        "# get modified cfg file that works for 1 class\n",
        "!rm -rf yolov3/cfg \n",
        "\n",
        "!wget -nc -O yolov3/cfg.zip https://duke.box.com/shared/static/pq52dolw5lo5ds8fd7g9v72ekzlngekz.zip\n",
        "!unzip -n -q yolov3/cfg.zip -d yolov3"
      ],
      "execution_count": 4,
      "outputs": [
        {
          "output_type": "stream",
          "text": [
            "--2021-01-26 18:36:37--  https://duke.box.com/shared/static/pq52dolw5lo5ds8fd7g9v72ekzlngekz.zip\n",
            "Resolving duke.box.com (duke.box.com)... 107.152.24.197\n",
            "Connecting to duke.box.com (duke.box.com)|107.152.24.197|:443... connected.\n",
            "HTTP request sent, awaiting response... 301 Moved Permanently\n",
            "Location: /public/static/pq52dolw5lo5ds8fd7g9v72ekzlngekz.zip [following]\n",
            "--2021-01-26 18:36:37--  https://duke.box.com/public/static/pq52dolw5lo5ds8fd7g9v72ekzlngekz.zip\n",
            "Reusing existing connection to duke.box.com:443.\n",
            "HTTP request sent, awaiting response... 301 Moved Permanently\n",
            "Location: https://duke.app.box.com/public/static/pq52dolw5lo5ds8fd7g9v72ekzlngekz.zip [following]\n",
            "--2021-01-26 18:36:37--  https://duke.app.box.com/public/static/pq52dolw5lo5ds8fd7g9v72ekzlngekz.zip\n",
            "Resolving duke.app.box.com (duke.app.box.com)... 107.152.24.201\n",
            "Connecting to duke.app.box.com (duke.app.box.com)|107.152.24.201|:443... connected.\n",
            "HTTP request sent, awaiting response... 302 Found\n",
            "Location: https://public.boxcloud.com/d/1/b1!GFAZtiqe-Uy8RdV42H7aYCdpl7i1T_qvmVA3ZIs5KJh20chC6hEM64BorheUkd9QWPpSlai2ZvEmFYRwyRAI2xjT4nZCSuoEcVIYk5hhOs6qYXSMx23aOXdoHbqCjKv1_Zn8KGQX1IplDq-MO3y8pXsz4zuHKImOFZWP-aCUnOMvbnkx6p5hpsS0AvYS3YVZg5mRom7W9tROqr6zm_MaJUS43shV6wO1YsqiDU4epVxvVojr2Xr5KhehGrC3cxegpq7nSQGiAkl0qzAyV177krK1n7gh83JQMnjDuNbdWP7srvcnKwx8cnblSMJbQvff6rYeUjpgjtzcagujKUsH6onKKYoTmcLk_wiA6h6314qXydzS7XOXg0Qa9hWVdWiIadgyLAZ3x7aZruGR_-Za76hugwYW1zwCAe490iUum8OLFjId6KM5rH_S1yO_fCQW2wS7NXH3CLNO8UHcz3D_pWjwVArElfGUYn30YbafrU_eYUv6bukJvVDXhUCrEquzMie4aN1T6-XdBU6PA5WBYOdtlrRp578vNHlkHzr9IbCWZW3QuwSQOfD8bFXdnZ4xgMQN-hgRwBpDBt9aOf0XaQoUsteP5ThuORnRvTR8NvahsJcx12ucuXxhz9004ymSyX0awtLHTUAJIUolitRyp9TJdqCRnU5S1SRbaSxloqVYD62Sogsyos_EWvKRG1Um29HKzu8vHF0PJx4IoBFr_qcVQHIcnZUk-AUzHDijYJ1CYtEIxtjPC3Z6_7ev6RGhcWZ7OIDH5lE8oPPmX50K2rNL-7I1KqUA0CDrimWvzA5a8NR4WERHUJdn3k6KsOMXYHo4HKwdoawNn4rVJBc-q2Vv0-GtFXZnYMd4Z8kCfeCT_A_kboFXJ0enD-K-0OVLua3Xkb01l5g4nAJ0FOtzFtzu7XbTnrpEAz0x_iZaOJESctFwpjMCEBp_3Am-dHL9Sn1_pI4U_EnBwImOzpKthhkZXROglgPx_H5ql8Ts43U68U6P1tTarKsECAUnlV0mBL7zB1ZKTqA1EpNVWTOuasKOr3q-K5sAdtgvZJBpsPbrzgkNzqU-G5eAhL-yK_dm4CnNcD--KIFAYFD5k0mq-0WlPWL5FKwCZqylTC7Urgn7ovCPYAWiWw3uBZm0n1nBX1Gfkz9N9lZkAH9X1zNhJJepB3bS9TQOzT5VI-z0tJ-49LNaLqSHIy6Y_DbjO7vi3uvMFV9uCiSyCsn5nm1xwFtl_MG71Id1bnyeFvbVKr6lS19w8n1b1wvxXs-_SOBb8s8WcfG9JrXepKEVz56gwzAiHRI4iZ1uecMwUK8rGEh2YqQxrpae7SUMPiP_PjzyNy-OoPlLrWu2jBMSXGxlVVTJ6di2_zvDhQeFaHpbSBGxHJR9Olp3dahGgzlOEuDSHbkCNakUkWbH/download [following]\n",
            "--2021-01-26 18:36:37--  https://public.boxcloud.com/d/1/b1!GFAZtiqe-Uy8RdV42H7aYCdpl7i1T_qvmVA3ZIs5KJh20chC6hEM64BorheUkd9QWPpSlai2ZvEmFYRwyRAI2xjT4nZCSuoEcVIYk5hhOs6qYXSMx23aOXdoHbqCjKv1_Zn8KGQX1IplDq-MO3y8pXsz4zuHKImOFZWP-aCUnOMvbnkx6p5hpsS0AvYS3YVZg5mRom7W9tROqr6zm_MaJUS43shV6wO1YsqiDU4epVxvVojr2Xr5KhehGrC3cxegpq7nSQGiAkl0qzAyV177krK1n7gh83JQMnjDuNbdWP7srvcnKwx8cnblSMJbQvff6rYeUjpgjtzcagujKUsH6onKKYoTmcLk_wiA6h6314qXydzS7XOXg0Qa9hWVdWiIadgyLAZ3x7aZruGR_-Za76hugwYW1zwCAe490iUum8OLFjId6KM5rH_S1yO_fCQW2wS7NXH3CLNO8UHcz3D_pWjwVArElfGUYn30YbafrU_eYUv6bukJvVDXhUCrEquzMie4aN1T6-XdBU6PA5WBYOdtlrRp578vNHlkHzr9IbCWZW3QuwSQOfD8bFXdnZ4xgMQN-hgRwBpDBt9aOf0XaQoUsteP5ThuORnRvTR8NvahsJcx12ucuXxhz9004ymSyX0awtLHTUAJIUolitRyp9TJdqCRnU5S1SRbaSxloqVYD62Sogsyos_EWvKRG1Um29HKzu8vHF0PJx4IoBFr_qcVQHIcnZUk-AUzHDijYJ1CYtEIxtjPC3Z6_7ev6RGhcWZ7OIDH5lE8oPPmX50K2rNL-7I1KqUA0CDrimWvzA5a8NR4WERHUJdn3k6KsOMXYHo4HKwdoawNn4rVJBc-q2Vv0-GtFXZnYMd4Z8kCfeCT_A_kboFXJ0enD-K-0OVLua3Xkb01l5g4nAJ0FOtzFtzu7XbTnrpEAz0x_iZaOJESctFwpjMCEBp_3Am-dHL9Sn1_pI4U_EnBwImOzpKthhkZXROglgPx_H5ql8Ts43U68U6P1tTarKsECAUnlV0mBL7zB1ZKTqA1EpNVWTOuasKOr3q-K5sAdtgvZJBpsPbrzgkNzqU-G5eAhL-yK_dm4CnNcD--KIFAYFD5k0mq-0WlPWL5FKwCZqylTC7Urgn7ovCPYAWiWw3uBZm0n1nBX1Gfkz9N9lZkAH9X1zNhJJepB3bS9TQOzT5VI-z0tJ-49LNaLqSHIy6Y_DbjO7vi3uvMFV9uCiSyCsn5nm1xwFtl_MG71Id1bnyeFvbVKr6lS19w8n1b1wvxXs-_SOBb8s8WcfG9JrXepKEVz56gwzAiHRI4iZ1uecMwUK8rGEh2YqQxrpae7SUMPiP_PjzyNy-OoPlLrWu2jBMSXGxlVVTJ6di2_zvDhQeFaHpbSBGxHJR9Olp3dahGgzlOEuDSHbkCNakUkWbH/download\n",
            "Resolving public.boxcloud.com (public.boxcloud.com)... 107.152.24.200\n",
            "Connecting to public.boxcloud.com (public.boxcloud.com)|107.152.24.200|:443... connected.\n",
            "HTTP request sent, awaiting response... 200 OK\n",
            "Length: 891 [application/zip]\n",
            "Saving to: ‘yolov3/cfg.zip’\n",
            "\n",
            "yolov3/cfg.zip      100%[===================>]     891  --.-KB/s    in 0s      \n",
            "\n",
            "2021-01-26 18:36:37 (107 MB/s) - ‘yolov3/cfg.zip’ saved [891/891]\n",
            "\n"
          ],
          "name": "stdout"
        }
      ]
    },
    {
      "cell_type": "code",
      "metadata": {
        "colab": {
          "base_uri": "https://localhost:8080/"
        },
        "id": "EBEThx8tuHOG",
        "outputId": "0c005550-d6ab-4316-c009-cf4a52d01699"
      },
      "source": [
        "# GET CROSS DOMAIN DATA\n",
        "# delete the original data folder so we can unzip our own data folder with the wind turbine data\n",
        "!rm -rf yolov3/data\n",
        "\n",
        "# load in the data.zip file from the box\n",
        "!wget -nc -O yolov3/data_cross_domain.zip https://duke.box.com/shared/static/ec7ykima36z399rbjuqwjouk72q5gb6p.zip\n",
        "!unzip -n -q yolov3/data_cross_domain.zip -d yolov3\n",
        "\n",
        "# get the synthetic_data file from the box\n",
        "!wget -nc -O yolov3/data_cross_domain_adding_synthetic.zip https://duke.box.com/shared/static/lzzbb0cs2z79unegeyn4zc5hz1c9nw7a.zip\n",
        "!unzip -n -q yolov3/data_cross_domain_adding_synthetic.zip -d yolov3"
      ],
      "execution_count": 5,
      "outputs": [
        {
          "output_type": "stream",
          "text": [
            "--2021-01-26 18:36:40--  https://duke.box.com/shared/static/ec7ykima36z399rbjuqwjouk72q5gb6p.zip\n",
            "Resolving duke.box.com (duke.box.com)... 107.152.24.197\n",
            "Connecting to duke.box.com (duke.box.com)|107.152.24.197|:443... connected.\n",
            "HTTP request sent, awaiting response... 301 Moved Permanently\n",
            "Location: /public/static/ec7ykima36z399rbjuqwjouk72q5gb6p.zip [following]\n",
            "--2021-01-26 18:36:40--  https://duke.box.com/public/static/ec7ykima36z399rbjuqwjouk72q5gb6p.zip\n",
            "Reusing existing connection to duke.box.com:443.\n",
            "HTTP request sent, awaiting response... 301 Moved Permanently\n",
            "Location: https://duke.app.box.com/public/static/ec7ykima36z399rbjuqwjouk72q5gb6p.zip [following]\n",
            "--2021-01-26 18:36:40--  https://duke.app.box.com/public/static/ec7ykima36z399rbjuqwjouk72q5gb6p.zip\n",
            "Resolving duke.app.box.com (duke.app.box.com)... 107.152.24.201\n",
            "Connecting to duke.app.box.com (duke.app.box.com)|107.152.24.201|:443... connected.\n",
            "HTTP request sent, awaiting response... 302 Found\n",
            "Location: https://public.boxcloud.com/d/1/b1!8xbRhSWh5E3CTsYRhgIwonNoyseVqf8vJYWV_g5L_mXfC-5B6L2OpnZGiz_doc90E4x_RFjsL0vChJakeSuhn8AoKVZOxJ_Q7VSbAi_SvmTx23AH7iYdw4l3Oh8jRmxEsbeNoN30tjXC7b4NV6EC6OEIUFaSOZGy5VP-Sjt4IW7IosJWpUsnRSx7oKIDTlroP5iXRWJwvXi2Ou4Zxvgg0Fx2I8JbKDpnRDh0r7C1i96Qy5YWA48U7XL2a7I09IcCs_If28iZDAmUbMYJRtUG_QrHjv3PsblSRkYH5oaMbnr-H_9LY776q9lZ4cB4uAf92WMbx_ZXBfQUWG_0gxsqq5Q4KAuNhQK7aAxgaHCgWfV0Bhr2-LZJoXaC57gyR7zUe4JsxDJkKdO_20v6aTWQ9zpRcfp56bgOMA9QY7ALsI_GYngo4xY61rPRp4-8qU2CqztoznoYfr0PArZrXDnOIU8Igf3ORXCC7zNsBxmP9zsHiomylMTMR3TKQFFh3NOXTrsdyHKdb8n-R29vIl5hK6CGwRp0nIsWhkEg_ys3BJ9ELMIpzkBgnupmXrtg-wb1W5ZFxEfe5qy_jHbyldUV9I2sDXYLLwSCo1IR1VuxSGGdzPQaV2mPY2aqhMHRyASjApxshl89a9mPqI0Fn1Bx2OXOYNQuIlCinv7erGEDL5J8oUkScDf0SyV6e-2VvSeMfBm4up1_7JX7-zGHBv6TOWXbJ97GaQqH_m-F_YHOgB1lWeh5RVhuuuhOApHZrAwgOhnCliVw4ozopcCe_2saFeE0wVaHehC9GOBHqupzLyUJ8zlVb-fMrPrVSUBvUZCC-i8WzNfeulUFTn8K-qCRt7VgybqkBLj-4SYBOiTbyvD_HpUqpdmhue9TOgCOGZ_tWblwvnyOQ4yT3ksrzW_36kpOV7rbXhqWacYaHwZ5vHuSFt8Zu04qEZonozf0nTn9ZswRN40WAkNz-VBPET6oP_UUD-Vne9yRmrlAl4IKtOFXwR66fvXsnfkuPJS9qX5QZnWWQSksdllZ_43MBSCFj9_XL8ODSZYFL6fUMzwyAVHD1hQQVSj4tbC1lmem6A8y8mlLphTxR9Pp1ke6I4S3aDpW88sOo9v1XDzfG-hu8kLfZeIwDenNqiZtsCZ7_No4jtMh-UM3DzYVNINtGNGJxgmHLbGgdxgbueYoihCdN1WC_TwXtHvc_Cwe8_xMKKcRuUe_-a5qIbWsJUb5FlEoLR-kWxeR2mRLaXpxNE_Rf09i5tiOwDVFzVDne1nYB-lC_50QxcqMf4LfxJtT2mJoEXMSNvRlXrg6oQAuWWJEGMr40auUw0gqRF0BjyJ9eZW_ws7Gcs6klWem0ZqAUZSRqGPFsLU65lJzCHkiiTM07L8O8OKMxPcS99lWKZq6MhsP243aM3BWBXO7mGVVYzIrjuKqfmhh4v2gEg../download [following]\n",
            "--2021-01-26 18:36:41--  https://public.boxcloud.com/d/1/b1!8xbRhSWh5E3CTsYRhgIwonNoyseVqf8vJYWV_g5L_mXfC-5B6L2OpnZGiz_doc90E4x_RFjsL0vChJakeSuhn8AoKVZOxJ_Q7VSbAi_SvmTx23AH7iYdw4l3Oh8jRmxEsbeNoN30tjXC7b4NV6EC6OEIUFaSOZGy5VP-Sjt4IW7IosJWpUsnRSx7oKIDTlroP5iXRWJwvXi2Ou4Zxvgg0Fx2I8JbKDpnRDh0r7C1i96Qy5YWA48U7XL2a7I09IcCs_If28iZDAmUbMYJRtUG_QrHjv3PsblSRkYH5oaMbnr-H_9LY776q9lZ4cB4uAf92WMbx_ZXBfQUWG_0gxsqq5Q4KAuNhQK7aAxgaHCgWfV0Bhr2-LZJoXaC57gyR7zUe4JsxDJkKdO_20v6aTWQ9zpRcfp56bgOMA9QY7ALsI_GYngo4xY61rPRp4-8qU2CqztoznoYfr0PArZrXDnOIU8Igf3ORXCC7zNsBxmP9zsHiomylMTMR3TKQFFh3NOXTrsdyHKdb8n-R29vIl5hK6CGwRp0nIsWhkEg_ys3BJ9ELMIpzkBgnupmXrtg-wb1W5ZFxEfe5qy_jHbyldUV9I2sDXYLLwSCo1IR1VuxSGGdzPQaV2mPY2aqhMHRyASjApxshl89a9mPqI0Fn1Bx2OXOYNQuIlCinv7erGEDL5J8oUkScDf0SyV6e-2VvSeMfBm4up1_7JX7-zGHBv6TOWXbJ97GaQqH_m-F_YHOgB1lWeh5RVhuuuhOApHZrAwgOhnCliVw4ozopcCe_2saFeE0wVaHehC9GOBHqupzLyUJ8zlVb-fMrPrVSUBvUZCC-i8WzNfeulUFTn8K-qCRt7VgybqkBLj-4SYBOiTbyvD_HpUqpdmhue9TOgCOGZ_tWblwvnyOQ4yT3ksrzW_36kpOV7rbXhqWacYaHwZ5vHuSFt8Zu04qEZonozf0nTn9ZswRN40WAkNz-VBPET6oP_UUD-Vne9yRmrlAl4IKtOFXwR66fvXsnfkuPJS9qX5QZnWWQSksdllZ_43MBSCFj9_XL8ODSZYFL6fUMzwyAVHD1hQQVSj4tbC1lmem6A8y8mlLphTxR9Pp1ke6I4S3aDpW88sOo9v1XDzfG-hu8kLfZeIwDenNqiZtsCZ7_No4jtMh-UM3DzYVNINtGNGJxgmHLbGgdxgbueYoihCdN1WC_TwXtHvc_Cwe8_xMKKcRuUe_-a5qIbWsJUb5FlEoLR-kWxeR2mRLaXpxNE_Rf09i5tiOwDVFzVDne1nYB-lC_50QxcqMf4LfxJtT2mJoEXMSNvRlXrg6oQAuWWJEGMr40auUw0gqRF0BjyJ9eZW_ws7Gcs6klWem0ZqAUZSRqGPFsLU65lJzCHkiiTM07L8O8OKMxPcS99lWKZq6MhsP243aM3BWBXO7mGVVYzIrjuKqfmhh4v2gEg../download\n",
            "Resolving public.boxcloud.com (public.boxcloud.com)... 107.152.24.200\n",
            "Connecting to public.boxcloud.com (public.boxcloud.com)|107.152.24.200|:443... connected.\n",
            "HTTP request sent, awaiting response... 200 OK\n",
            "Length: 13165 (13K) [application/zip]\n",
            "Saving to: ‘yolov3/data_cross_domain.zip’\n",
            "\n",
            "yolov3/data_cross_d 100%[===================>]  12.86K  --.-KB/s    in 0s      \n",
            "\n",
            "2021-01-26 18:36:41 (71.9 MB/s) - ‘yolov3/data_cross_domain.zip’ saved [13165/13165]\n",
            "\n",
            "--2021-01-26 18:36:41--  https://duke.box.com/shared/static/lzzbb0cs2z79unegeyn4zc5hz1c9nw7a.zip\n",
            "Resolving duke.box.com (duke.box.com)... 107.152.24.197\n",
            "Connecting to duke.box.com (duke.box.com)|107.152.24.197|:443... connected.\n",
            "HTTP request sent, awaiting response... 301 Moved Permanently\n",
            "Location: /public/static/lzzbb0cs2z79unegeyn4zc5hz1c9nw7a.zip [following]\n",
            "--2021-01-26 18:36:41--  https://duke.box.com/public/static/lzzbb0cs2z79unegeyn4zc5hz1c9nw7a.zip\n",
            "Reusing existing connection to duke.box.com:443.\n",
            "HTTP request sent, awaiting response... 301 Moved Permanently\n",
            "Location: https://duke.app.box.com/public/static/lzzbb0cs2z79unegeyn4zc5hz1c9nw7a.zip [following]\n",
            "--2021-01-26 18:36:41--  https://duke.app.box.com/public/static/lzzbb0cs2z79unegeyn4zc5hz1c9nw7a.zip\n",
            "Resolving duke.app.box.com (duke.app.box.com)... 107.152.24.201\n",
            "Connecting to duke.app.box.com (duke.app.box.com)|107.152.24.201|:443... connected.\n",
            "HTTP request sent, awaiting response... 302 Found\n",
            "Location: https://public.boxcloud.com/d/1/b1!zF1AoPEjzY92qMt8n1wYkMAUMLiKgYon0KAjJZIO8kwCysJS8EmOKEQgzUcDjmHIxfIr0wI74nXH3MQGd6N-Yhz1eoCHnIBPGw1HarQ3TAVWMU-Z9KPLkjPVtXnuoYhBrIHq6Cmj9KlzhBvWc03TdUV0hm2wCNV6izSSrt9aIeRNWqaeYNIHuraczvpmj4jAqaJbPgTFT_2d60uS-JnC-OT2UxVZkllxOqddWcTTRXHnHg-OxG7rNaJ9Acy22JiYh5k3ni28f2OW6x42KokrNBTXE6rNIQka0oo07GfKwJFXDhNi0CtJ2W23r4pmlDkOGL-rxeRbVw2vHDCAeWptsQJ3s1XFJUgI8Ic1YlWrAU4_x_Jl3gfuffpSgbyVG7JzE9eQzqfq6mFQAc_kEGf9lnW7yvCKgSzzwrZWa67UM9gMDwzPWDoY2LsOJGdQFCcsGEnxABwXkZLUCx-7ZfwfQsLvDrDS4FmlSqfdvp6weNyqYGLMz8roOYMgqq7LH6MzBEqh3GDIjZwHMavX24ZNa5g-4FIqST3XNdwd30JvoQGiRtGAubUzMOcQt64_rBRSvd1-XV7ZihK6xVxysQyUpjRLnRqmRB9ibfpv_OxkKhRknaxIoDaixojTgVGpOaxqoZUvVEzFnhkpcOmpXwWH1ZooZgEVubz5W6CFVeYEL907SspMfC-bxzoEE17SjaKwx0h537JFwa4lMXr70Jo6RF2Am7BOhGJI10jqgyA6oyj1YQg92ueD6b41m32Y8vDM_3DRGBrqgwSzSRjHJWUpPFg1rCH1SuQ__RVLwCY5kqVB-oXaEQvxdzaYiATSPWV6Di72JppDKm13Dt00AzhyFUAX-0kc7SYEkfE3muRoQpfiQ0icQpP6nOf8QBGnFj32U_nY78aYYYH3luq9DuSFadoY3-lMjpTOHZTGtfyY2YMhpzRN9-pvhpwUtxOL2gowmrNMxW5UI-wOZlD1Kv6CaUleYalMv6HvhoaV7if7qGjI75EDaQqFlK4jF_CpHB3IWn0QyrwifQN_QcQMCC5xNusQfOezkn_FgkvzC-6L4ltuFDThyr9YWezcqRwMY7fYmuqDSzxxY_YtGG2tDV3jxmOn7EcDOVPgI93JeKAUrmjjWZ-AeyN0SVllR437HtJOrJBB_dnVr-koCy9bcLOX5YRL3W8NhQLIiXUHHgQONDXIzZMyUlX_F2h3N_pQekF2e-bg7dDoArF6N7yDSkg0PDTOfv_lEE94uLGnlwLTisvwtiUNOQlVJhYuMq_9H0Nx29VjfMO3JxgMirqBEzkmI2cEimeB5uNSBNbqEev5gxU7YUNcYPqT_K8ZeHsEjX0ArYmEUem8202xpNjKv8kX2IA4FjplozPt7r3iujdJaTiIGUGLriK8P38RjUGU1R8Irn-ZOaT6TfFyzIWZum7iVQ../download [following]\n",
            "--2021-01-26 18:36:42--  https://public.boxcloud.com/d/1/b1!zF1AoPEjzY92qMt8n1wYkMAUMLiKgYon0KAjJZIO8kwCysJS8EmOKEQgzUcDjmHIxfIr0wI74nXH3MQGd6N-Yhz1eoCHnIBPGw1HarQ3TAVWMU-Z9KPLkjPVtXnuoYhBrIHq6Cmj9KlzhBvWc03TdUV0hm2wCNV6izSSrt9aIeRNWqaeYNIHuraczvpmj4jAqaJbPgTFT_2d60uS-JnC-OT2UxVZkllxOqddWcTTRXHnHg-OxG7rNaJ9Acy22JiYh5k3ni28f2OW6x42KokrNBTXE6rNIQka0oo07GfKwJFXDhNi0CtJ2W23r4pmlDkOGL-rxeRbVw2vHDCAeWptsQJ3s1XFJUgI8Ic1YlWrAU4_x_Jl3gfuffpSgbyVG7JzE9eQzqfq6mFQAc_kEGf9lnW7yvCKgSzzwrZWa67UM9gMDwzPWDoY2LsOJGdQFCcsGEnxABwXkZLUCx-7ZfwfQsLvDrDS4FmlSqfdvp6weNyqYGLMz8roOYMgqq7LH6MzBEqh3GDIjZwHMavX24ZNa5g-4FIqST3XNdwd30JvoQGiRtGAubUzMOcQt64_rBRSvd1-XV7ZihK6xVxysQyUpjRLnRqmRB9ibfpv_OxkKhRknaxIoDaixojTgVGpOaxqoZUvVEzFnhkpcOmpXwWH1ZooZgEVubz5W6CFVeYEL907SspMfC-bxzoEE17SjaKwx0h537JFwa4lMXr70Jo6RF2Am7BOhGJI10jqgyA6oyj1YQg92ueD6b41m32Y8vDM_3DRGBrqgwSzSRjHJWUpPFg1rCH1SuQ__RVLwCY5kqVB-oXaEQvxdzaYiATSPWV6Di72JppDKm13Dt00AzhyFUAX-0kc7SYEkfE3muRoQpfiQ0icQpP6nOf8QBGnFj32U_nY78aYYYH3luq9DuSFadoY3-lMjpTOHZTGtfyY2YMhpzRN9-pvhpwUtxOL2gowmrNMxW5UI-wOZlD1Kv6CaUleYalMv6HvhoaV7if7qGjI75EDaQqFlK4jF_CpHB3IWn0QyrwifQN_QcQMCC5xNusQfOezkn_FgkvzC-6L4ltuFDThyr9YWezcqRwMY7fYmuqDSzxxY_YtGG2tDV3jxmOn7EcDOVPgI93JeKAUrmjjWZ-AeyN0SVllR437HtJOrJBB_dnVr-koCy9bcLOX5YRL3W8NhQLIiXUHHgQONDXIzZMyUlX_F2h3N_pQekF2e-bg7dDoArF6N7yDSkg0PDTOfv_lEE94uLGnlwLTisvwtiUNOQlVJhYuMq_9H0Nx29VjfMO3JxgMirqBEzkmI2cEimeB5uNSBNbqEev5gxU7YUNcYPqT_K8ZeHsEjX0ArYmEUem8202xpNjKv8kX2IA4FjplozPt7r3iujdJaTiIGUGLriK8P38RjUGU1R8Irn-ZOaT6TfFyzIWZum7iVQ../download\n",
            "Resolving public.boxcloud.com (public.boxcloud.com)... 107.152.24.200\n",
            "Connecting to public.boxcloud.com (public.boxcloud.com)|107.152.24.200|:443... connected.\n",
            "HTTP request sent, awaiting response... 200 OK\n",
            "Length: 16020 (16K) [application/zip]\n",
            "Saving to: ‘yolov3/data_cross_domain_adding_synthetic.zip’\n",
            "\n",
            "yolov3/data_cross_d 100%[===================>]  15.64K  --.-KB/s    in 0.02s   \n",
            "\n",
            "2021-01-26 18:36:42 (874 KB/s) - ‘yolov3/data_cross_domain_adding_synthetic.zip’ saved [16020/16020]\n",
            "\n"
          ],
          "name": "stdout"
        }
      ]
    },
    {
      "cell_type": "code",
      "metadata": {
        "colab": {
          "base_uri": "https://localhost:8080/",
          "height": 36
        },
        "id": "BDGb9ORBwfnO",
        "outputId": "c1b0b6df-27e7-484e-823b-74ed8587f2a4"
      },
      "source": [
        "%pwd"
      ],
      "execution_count": 6,
      "outputs": [
        {
          "output_type": "execute_result",
          "data": {
            "application/vnd.google.colaboratory.intrinsic+json": {
              "type": "string"
            },
            "text/plain": [
              "'/content'"
            ]
          },
          "metadata": {
            "tags": []
          },
          "execution_count": 6
        }
      ]
    },
    {
      "cell_type": "code",
      "metadata": {
        "colab": {
          "base_uri": "https://localhost:8080/"
        },
        "id": "JoaBwsArwgxq",
        "outputId": "320ab34d-f3a3-47fc-9642-e1dbf75d98e5"
      },
      "source": [
        "%cd yolov3"
      ],
      "execution_count": 7,
      "outputs": [
        {
          "output_type": "stream",
          "text": [
            "/content/yolov3\n"
          ],
          "name": "stdout"
        }
      ]
    },
    {
      "cell_type": "code",
      "metadata": {
        "colab": {
          "base_uri": "https://localhost:8080/"
        },
        "id": "PeLhhj6Jwi-y",
        "outputId": "61e313cc-1c16-41a6-d780-c559aca60215"
      },
      "source": [
        "# Training on farmland and validating on desert\n",
        "!python3 train.py --cfg cfg/yolov3-spp.cfg --data data_cross_domain/wnd_px10_seed17.data --img-size 608 --epochs 2 --batch-size 10 --device 0"
      ],
      "execution_count": null,
      "outputs": [
        {
          "output_type": "stream",
          "text": [
            "Apex recommended for faster mixed precision training: https://github.com/NVIDIA/apex\n",
            "Namespace(adam=False, batch_size=10, bucket='', cache_images=False, cfg='cfg/yolov3-spp.cfg', data='data_cross_domain/wnd_px10_seed17.data', device='', epochs=2, evolve=False, freeze_layers=False, img_size=[608], multi_scale=False, name='', nosave=False, notest=False, rect=False, resume=False, single_cls=False, weights='weights/yolov3-spp-ultralytics.pt')\n",
            "Using CPU\n",
            "\n",
            "Start Tensorboard with \"tensorboard --logdir=runs\", view at http://localhost:6006/\n",
            "2021-01-26 18:36:58.523747: I tensorflow/stream_executor/platform/default/dso_loader.cc:49] Successfully opened dynamic library libcudart.so.10.1\n",
            "Model Summary: 225 layers, 6.25733e+07 parameters, 6.25733e+07 gradients\n",
            "Optimizer groups: 76 .bias, 76 Conv2d.weight, 73 other\n",
            "  % Total    % Received % Xferd  Average Speed   Time    Time     Time  Current\n",
            "                                 Dload  Upload   Total   Spent    Left  Speed\n",
            "100   408    0   408    0     0   2158      0 --:--:-- --:--:-- --:--:--  2158\n",
            "  0     0    0     0    0     0      0      0 --:--:-- --:--:-- --:--:--     0\n",
            "  0     0    0     0    0     0      0      0 --:--:-- --:--:-- --:--:--     0\n",
            "100  240M    0  240M    0     0  68.4M      0 --:--:--  0:00:03 --:--:--  101M\n",
            "Downloading https://drive.google.com/uc?export=download&id=1UcR-zVoMs7DH5dj3N1bswkiQTA4dmKF4 as weights/yolov3-spp-ultralytics.pt... Done (3.9s)\n",
            "Reading image shapes: 100% 677/677 [00:00<00:00, 3244.51it/s]\n",
            "Caching labels data_cross_domain/wnd_train_img_px10_seed17.txt (490 found, 187 missing, 0 empty, 0 duplicate, for 677 images): 100% 677/677 [00:00<00:00, 5268.02it/s]\n",
            "Reading image shapes: 100% 517/517 [00:00<00:00, 3042.04it/s]\n",
            "Caching labels data_cross_domain/wnd_val_img_px10_seed17.txt (403 found, 114 missing, 0 empty, 0 duplicate, for 517 images): 100% 517/517 [00:00<00:00, 4407.22it/s]\n",
            "Image sizes 608 - 608 train, 608 test\n",
            "Using 2 dataloader workers\n",
            "Starting training for 2 epochs...\n",
            "\n",
            "     Epoch   gpu_mem      GIoU       obj       cls     total   targets  img_size\n",
            "       0/1        0G      8.37      6.84         0      15.2        13       608:   3% 2/68 [03:11<1:46:14, 96.59s/it]"
          ],
          "name": "stdout"
        }
      ]
    },
    {
      "cell_type": "code",
      "metadata": {
        "id": "bhvhVuu279cH"
      },
      "source": [
        "!python3 test.py --cfg cfg/yolov3-spp.cfg --data data_cross_domain/wnd_px10_seed17.data --img-size 608 --weights weights/last.pt --conf-thres 0.3"
      ],
      "execution_count": null,
      "outputs": []
    },
    {
      "cell_type": "code",
      "metadata": {
        "id": "SbNIWlvb8DjB"
      },
      "source": [
        "# Training on farmland and synthetic farmland. Validating on desert\n",
        "!python3 train.py --cfg cfg/yolov3-spp.cfg --data data_cross_domain_adding_synthetic/wnd_syn_real_seed17.data --img-size 608 --epochs 2 --batch-size 10 --device 0"
      ],
      "execution_count": null,
      "outputs": []
    },
    {
      "cell_type": "code",
      "metadata": {
        "id": "9OmrlQIQ8J3K"
      },
      "source": [
        "!python3 test.py --cfg cfg/yolov3-spp.cfg --data data_cross_domain_adding_synthetic/wnd_syn_real_seed17.data --img-size 608 --weights weights/last.pt --conf-thres 0.3"
      ],
      "execution_count": null,
      "outputs": []
    },
    {
      "cell_type": "code",
      "metadata": {
        "id": "cVBdsp_o8M4c"
      },
      "source": [
        "# Create folder for validation dataset, so that we can run detect.py on it\n",
        "\n",
        "VAL_PATH = 'data_cross_domain/wnd_val_img_px10_seed17.txt' # Provide path to .txt file for validation set\n",
        "\n",
        "from shutil import copyfile\n",
        "%mkdir ../data/val\n",
        "\n",
        "with open(VAL_PATH, 'r') as f:\n",
        "  val_imgs =  [path.replace('\\n', '') for path in f.readlines()]\n",
        "\n",
        "for img in val_imgs:\n",
        "  # copy image to val folder\n",
        "  copyfile(img, img.replace('images', 'val'))"
      ],
      "execution_count": null,
      "outputs": []
    },
    {
      "cell_type": "code",
      "metadata": {
        "id": "jMhGzq6I8O78"
      },
      "source": [
        "# DETECT using last.pt\n",
        "!python3 detect.py --names data_cross_domain/wnd.names --weights weights/last.pt --source ../data/val --img-size 608 --save-txt --conf-thres 0.3"
      ],
      "execution_count": null,
      "outputs": []
    }
  ]
}