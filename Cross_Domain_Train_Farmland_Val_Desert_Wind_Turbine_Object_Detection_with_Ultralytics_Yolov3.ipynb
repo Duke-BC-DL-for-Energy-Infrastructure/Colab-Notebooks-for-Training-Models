{
  "nbformat": 4,
  "nbformat_minor": 0,
  "metadata": {
    "colab": {
      "name": "Cross_Domain_Train_Farmland_Val_Desert_Wind_Turbine_Object_Detection_with_Ultralytics_Yolov3.ipynb",
      "provenance": [],
      "authorship_tag": "ABX9TyNvKvVZnV7aJ4bL6QmGQWQv",
      "include_colab_link": true
    },
    "kernelspec": {
      "name": "python3",
      "display_name": "Python 3"
    }
  },
  "cells": [
    {
      "cell_type": "markdown",
      "metadata": {
        "id": "view-in-github",
        "colab_type": "text"
      },
      "source": [
        "<a href=\"https://colab.research.google.com/github/Duke-BC-DL-for-Energy-Infrastructure/Colab-Notebooks-for-Training-Models/blob/main/Cross_Domain_Train_Farmland_Val_Desert_Wind_Turbine_Object_Detection_with_Ultralytics_Yolov3.ipynb\" target=\"_parent\"><img src=\"https://colab.research.google.com/assets/colab-badge.svg\" alt=\"Open In Colab\"/></a>"
      ]
    },
    {
      "cell_type": "code",
      "metadata": {
        "colab": {
          "base_uri": "https://localhost:8080/"
        },
        "id": "1OBmWajit01g",
        "outputId": "a12e2f04-c03c-4137-8da7-ececfefef91d"
      },
      "source": [
        "import time\n",
        "import glob\n",
        "import torch\n",
        "import os\n",
        "\n",
        "from IPython.display import Image, clear_output \n",
        "print('PyTorch %s %s' % (torch.__version__, torch.cuda.get_device_properties(0) if torch.cuda.is_available() else 'CPU'))"
      ],
      "execution_count": 1,
      "outputs": [
        {
          "output_type": "stream",
          "text": [
            "PyTorch 1.7.0+cu101 CPU\n"
          ],
          "name": "stdout"
        }
      ]
    },
    {
      "cell_type": "code",
      "metadata": {
        "colab": {
          "base_uri": "https://localhost:8080/"
        },
        "id": "UbIqteDUt_nW",
        "outputId": "2026ee50-6f3d-4479-c01f-d13ebb498b15"
      },
      "source": [
        "!git clone https://github.com/Duke-BC-DL-for-Energy-Infrastructure/yolov3.git  # clone our fork of the ultralytics repo"
      ],
      "execution_count": 2,
      "outputs": [
        {
          "output_type": "stream",
          "text": [
            "Cloning into 'yolov3'...\n",
            "remote: Enumerating objects: 9644, done.\u001b[K\n",
            "remote: Total 9644 (delta 0), reused 0 (delta 0), pack-reused 9644\u001b[K\n",
            "Receiving objects: 100% (9644/9644), 8.20 MiB | 20.05 MiB/s, done.\n",
            "Resolving deltas: 100% (6576/6576), done.\n"
          ],
          "name": "stdout"
        }
      ]
    },
    {
      "cell_type": "code",
      "metadata": {
        "colab": {
          "base_uri": "https://localhost:8080/"
        },
        "id": "dQLpvDusuA0-",
        "outputId": "833406c6-15a9-451e-ee12-ec6edb0d93f9"
      },
      "source": [
        "!mkdir -p data/\n",
        "\n",
        "# get our data and unzip it\n",
        "!wget -nc -O data/images.zip https://duke.box.com/shared/static/gc6g6054alnjtp0isdcccuxdr5wl59xy.zip\n",
        "!wget -nc -O data/labels.zip https://duke.box.com/shared/static/nawqed2wofslp2dw5d9j17i35mmb0ul5.zip\n",
        "\n",
        "!unzip -n -q data/images.zip -d data\n",
        "!unzip -n -q data/labels.zip -d data\n",
        "\n",
        "# get the synthetic images and labels and unzip those into the same directory\n",
        "!wget -nc -O data/synthetic_images.zip https://duke.box.com/shared/static/51kby1zj73y5bj86pwogd6ma88p5x4sm.zip\n",
        "!wget -nc -O data/synthetic_labels.zip https://duke.box.com/shared/static/4xw53kjtacxq21npnc6eb2q65xwcnt8v.zip\n",
        "\n",
        "!unzip -n -q data/synthetic_images.zip -d data\n",
        "!unzip -n -q data/synthetic_labels.zip -d data\n",
        "\n",
        "#get the new labelled images and labels and unzip them\n",
        "!wget -nc -O data/images_new.zip https://duke.box.com/shared/static/9hc0uqxric3gptb6j92fzswcuux4ou73.zip\n",
        "!wget -nc -O data/label_new.zip https://duke.box.com/shared/static/41r1grgakpjswnzu274xk8k1edo9xfkd.zip\n",
        "    \n",
        "!unzip -n -q data/images_new.zip -d data\n",
        "!unzip -n -q data/label_new.zip -d data"
      ],
      "execution_count": 3,
      "outputs": [
        {
          "output_type": "stream",
          "text": [
            "--2021-01-26 18:06:40--  https://duke.box.com/shared/static/gc6g6054alnjtp0isdcccuxdr5wl59xy.zip\n",
            "Resolving duke.box.com (duke.box.com)... 107.152.26.197\n",
            "Connecting to duke.box.com (duke.box.com)|107.152.26.197|:443... connected.\n",
            "HTTP request sent, awaiting response... 301 Moved Permanently\n",
            "Location: /public/static/gc6g6054alnjtp0isdcccuxdr5wl59xy.zip [following]\n",
            "--2021-01-26 18:06:40--  https://duke.box.com/public/static/gc6g6054alnjtp0isdcccuxdr5wl59xy.zip\n",
            "Reusing existing connection to duke.box.com:443.\n",
            "HTTP request sent, awaiting response... 301 Moved Permanently\n",
            "Location: https://duke.app.box.com/public/static/gc6g6054alnjtp0isdcccuxdr5wl59xy.zip [following]\n",
            "--2021-01-26 18:06:40--  https://duke.app.box.com/public/static/gc6g6054alnjtp0isdcccuxdr5wl59xy.zip\n",
            "Resolving duke.app.box.com (duke.app.box.com)... 107.152.26.201\n",
            "Connecting to duke.app.box.com (duke.app.box.com)|107.152.26.201|:443... connected.\n",
            "HTTP request sent, awaiting response... 302 Found\n",
            "Location: https://public.boxcloud.com/d/1/b1!OR-NRnDFM5IO9qDQvhVRu9qbbq4HkOOtvFdzKQMi5l9MRDc9ukERyoQvGK8lZDWaUrXf_sy7ZA-_aYGYMsrFOYPcEUHwdC_N1DiaBLQcTro3QBZ6SiDVSPGx-Wzxq3nPhnxITonWPPktwagr8GizuuMQTU3PBR705c98mZ4J0UEwdh5iHDsf4en7fsupHVbs8dYxrFe3BXqG_lfozBDTq0QeP3KN11xGwTaiJFF-7UGql320yikqFxVOgiExP_iHwpSp5Mhy8mzOWgliMcHzvr6n_D2ag1V8Djc3MgfjGVeyHCztiNcKdHf6MPW3FyOl_czebh2LyerZw_hHUBkY01nWWiZztFD79wZasNGnHrapjYQGSCx-exH2C-TLTp_eyX86Y93B74qx_ehpTiJEq_dMVj2yEmYtYhaDUKpd83Qwnp33xz4OurCBSDbBH0Mf0EnUXZfogo3dYEp6tkFWK0ZlEMJLZMTk8Zev83BVQYKpnor3554dK1Exj2TgCV9GqztFCFjDuqa1Tn5exhBNZshHDxFsLD0pl3ZIfs5ok1GkVN5dM_AkFYXdJE5Xt22KSEBC2YiF8joYx4seQcLfFVWKDbM90ax5FlvJpIQFt8DBDs5dZd9AGSh5WIt3TstV7exC3xr0-3b6JzYMKiPPgKJEgnmtSGFf2i8V5yBb73VQCyWlplpQ-z2BGcMqmlclhWqwuiDdCUMxyr346zbDQZsc9iqiBDaeIQVlE0N6mhw1Tb3Mi-eupMCUR_cwYD79oK_zpUd0YOnkpPZQkfFc-IgDyzVo52dIoY1W1esbSIP8kv08EtmZfm4nrWIoYpFmjBPMrLeXIkrssAJdx45SsEuGqWcHDQY47n1ZqC-XIagavIW9GfIPnMV7jILK8r_5fBcXWJfm5peeBg2iLkCe-k_zSlSB6xt_dWCrw3xdiypXBXyzgdpUDjdWwl5d_WnWklaTUt3MhsYjhx0j9UJqNl4z-Ze4gZMw2CEJJIYuY8H-Vj8B1161SzGpyN3lK2srhf-fdM62ENhBwHkNomN4Okrx7qHa0fbsoHMg3fGfznirvai50iELBaw5O84ExxDdhvLu5F7TIO5U8KbHmDgPaNP4lunoyS5HNcsDXYhKMZ723STti3EPek7NhcMHEK0Mj9_M62EI0pT92xjamDamTxqXBvKDXIIJwvLoRmVZi8lBc6_6F9VbntX1zbVj0gKasFVMdAJiW6Rlhlyzg5Ve5i3IgCJRDbYR9QeXOF3CwS2d36qhc32F1jQKakWWfk35tDForqJEacIfr_xrBasAKUU5ySXPVmgbTxsV-pvrs53nMOr1cdRDu5gODcTtV2EQBvAGxm_iQ2evtxop24OLcOVPADgy5C-ts80abCdAsQUFLJESms5jihtxHEL8fRETF6DgIJ8tu4tlI_HQALP0/download [following]\n",
            "--2021-01-26 18:06:41--  https://public.boxcloud.com/d/1/b1!OR-NRnDFM5IO9qDQvhVRu9qbbq4HkOOtvFdzKQMi5l9MRDc9ukERyoQvGK8lZDWaUrXf_sy7ZA-_aYGYMsrFOYPcEUHwdC_N1DiaBLQcTro3QBZ6SiDVSPGx-Wzxq3nPhnxITonWPPktwagr8GizuuMQTU3PBR705c98mZ4J0UEwdh5iHDsf4en7fsupHVbs8dYxrFe3BXqG_lfozBDTq0QeP3KN11xGwTaiJFF-7UGql320yikqFxVOgiExP_iHwpSp5Mhy8mzOWgliMcHzvr6n_D2ag1V8Djc3MgfjGVeyHCztiNcKdHf6MPW3FyOl_czebh2LyerZw_hHUBkY01nWWiZztFD79wZasNGnHrapjYQGSCx-exH2C-TLTp_eyX86Y93B74qx_ehpTiJEq_dMVj2yEmYtYhaDUKpd83Qwnp33xz4OurCBSDbBH0Mf0EnUXZfogo3dYEp6tkFWK0ZlEMJLZMTk8Zev83BVQYKpnor3554dK1Exj2TgCV9GqztFCFjDuqa1Tn5exhBNZshHDxFsLD0pl3ZIfs5ok1GkVN5dM_AkFYXdJE5Xt22KSEBC2YiF8joYx4seQcLfFVWKDbM90ax5FlvJpIQFt8DBDs5dZd9AGSh5WIt3TstV7exC3xr0-3b6JzYMKiPPgKJEgnmtSGFf2i8V5yBb73VQCyWlplpQ-z2BGcMqmlclhWqwuiDdCUMxyr346zbDQZsc9iqiBDaeIQVlE0N6mhw1Tb3Mi-eupMCUR_cwYD79oK_zpUd0YOnkpPZQkfFc-IgDyzVo52dIoY1W1esbSIP8kv08EtmZfm4nrWIoYpFmjBPMrLeXIkrssAJdx45SsEuGqWcHDQY47n1ZqC-XIagavIW9GfIPnMV7jILK8r_5fBcXWJfm5peeBg2iLkCe-k_zSlSB6xt_dWCrw3xdiypXBXyzgdpUDjdWwl5d_WnWklaTUt3MhsYjhx0j9UJqNl4z-Ze4gZMw2CEJJIYuY8H-Vj8B1161SzGpyN3lK2srhf-fdM62ENhBwHkNomN4Okrx7qHa0fbsoHMg3fGfznirvai50iELBaw5O84ExxDdhvLu5F7TIO5U8KbHmDgPaNP4lunoyS5HNcsDXYhKMZ723STti3EPek7NhcMHEK0Mj9_M62EI0pT92xjamDamTxqXBvKDXIIJwvLoRmVZi8lBc6_6F9VbntX1zbVj0gKasFVMdAJiW6Rlhlyzg5Ve5i3IgCJRDbYR9QeXOF3CwS2d36qhc32F1jQKakWWfk35tDForqJEacIfr_xrBasAKUU5ySXPVmgbTxsV-pvrs53nMOr1cdRDu5gODcTtV2EQBvAGxm_iQ2evtxop24OLcOVPADgy5C-ts80abCdAsQUFLJESms5jihtxHEL8fRETF6DgIJ8tu4tlI_HQALP0/download\n",
            "Resolving public.boxcloud.com (public.boxcloud.com)... 107.152.26.200\n",
            "Connecting to public.boxcloud.com (public.boxcloud.com)|107.152.26.200|:443... connected.\n",
            "HTTP request sent, awaiting response... 200 OK\n",
            "Length: 205510111 (196M) [application/zip]\n",
            "Saving to: ‘data/images.zip’\n",
            "\n",
            "data/images.zip     100%[===================>] 195.99M  28.1MB/s    in 7.0s    \n",
            "\n",
            "2021-01-26 18:06:49 (28.0 MB/s) - ‘data/images.zip’ saved [205510111/205510111]\n",
            "\n",
            "--2021-01-26 18:06:49--  https://duke.box.com/shared/static/nawqed2wofslp2dw5d9j17i35mmb0ul5.zip\n",
            "Resolving duke.box.com (duke.box.com)... 107.152.26.197\n",
            "Connecting to duke.box.com (duke.box.com)|107.152.26.197|:443... connected.\n",
            "HTTP request sent, awaiting response... 301 Moved Permanently\n",
            "Location: /public/static/nawqed2wofslp2dw5d9j17i35mmb0ul5.zip [following]\n",
            "--2021-01-26 18:06:49--  https://duke.box.com/public/static/nawqed2wofslp2dw5d9j17i35mmb0ul5.zip\n",
            "Reusing existing connection to duke.box.com:443.\n",
            "HTTP request sent, awaiting response... 301 Moved Permanently\n",
            "Location: https://duke.app.box.com/public/static/nawqed2wofslp2dw5d9j17i35mmb0ul5.zip [following]\n",
            "--2021-01-26 18:06:49--  https://duke.app.box.com/public/static/nawqed2wofslp2dw5d9j17i35mmb0ul5.zip\n",
            "Resolving duke.app.box.com (duke.app.box.com)... 107.152.26.201\n",
            "Connecting to duke.app.box.com (duke.app.box.com)|107.152.26.201|:443... connected.\n",
            "HTTP request sent, awaiting response... 302 Found\n",
            "Location: https://public.boxcloud.com/d/1/b1!l92mZc94vP5df0aeMRKcC8lgSDxmxoS9u19DPSqf665H7GTGVmrVjjO6pOZDvzWSJA4F_CId3U0G4oXgyfJ9OMroUfrdm91Ene3qXNZ_wAZSC9xn60DtTI54wKw97v0nhIZ-cpoArwNIfkH9IyCBSwtTw8jne6LE9wGjk_gqfhJM_27TyGymJl6I25fWH94qEgYtg4vp4yrLTtapxDtszXPDbyl_jH2Hd4q9kNUrbchvRpAQ3jvA7qfgL3xJXs2MA9WwnfHTLUIidEvWktRxJsTDOyQLOUG22Ogl-SUxr9674DQCxXIQX7FWNZbXZvas4USteVEtmPxBJ53oLGCxyHy5UEyUFe2wLrsFIKzoRiJwes_rSKfdIsocEouIbNFuM9wToB811_6xW18QVoqpfeRcsKJlC4MXIawLwpuo0RsHYLYWBlgfXlQOJxgpr7iizvOlE4XJcKNzMyptxiB4qmDgrW2lWLWUsGrQdAcRsvkpyPXtFw_JB2tlLGC-R0qvvizJC1SUtIS1038UHnnk2mWlcmEGM0kh-VK7Zys0VLFNv2hLRAdRIb01Fwky_RLGpGZB5PxFnXlrOn-W04K1djeTQpxAq3HPic0s8wR-96tvQQzLsy9qWDT5jkgeVgcM1Mb1RJYob0r1jf8COrpDB-JN5IM2zr4zRUzHxW7zyo2HrhKwhXqzBDg0_8nfP7VR_jK7TIZBV__-te8m0nMyDhf4IfOBX1Re6AztHLhVJQHoyyCAAS2Gf-xOw8nYBY8SHn5KDH6mLTz-N7iAPH-2qctE_UIEIpAT_uHcXZ1e-OBImnaEhrWNbBAUQSUMVSoTIC65o9JTGF9NLb9FyLVuyfWlYN8zSMz4P-E3sRoOph2arnVK5ddIMKGc1rBlnzdKaYdrwa3pYdfp3M7az5tRj0Seq8tmZWaG1HyfBmTm0RV9zlbzaekcFDAjOG1xCsWOaGsOKfnB2vRuQpvxx95NHMlsVCEYNnUb3g0Hf0kFDK6JThCCOMQm4ZGoAJB73RlA8QM5QeUcdzUkWPpTx9exnWgNYGK27Kc7sZKvb28nPJjBwfWCu16lq6d6val1SaBAC6BJDrHocxvAE0Cg9KCA2XV_-yaLNqZURoXmlQIwGQTvBVQy8Bw8eGDeQSdttow860FFgbGWfiA7azkzJvczek6JjIsme7OePJfKZ3vpi49XAnLsI_4Ngr_hl0DuNeP1vijc7B7MJf7ZwDYBYoBMg_-tDrS3Zvk88o1MwFDi0yu-Yv8eMwf3djJqYnRKvcuesiw8acuPSKbfal3_HjL-TizifM_Pi8bCZAEBP3E_XtfQ76EhPqqhidM73XHipQqcf-zBL4vKnWVRFHU0inWvZ4VCtznQEpfBDnPCRYYhZiLA230sm1Wp9l3xxi-jDorp2E2Cn1s5vhoOdjEF/download [following]\n",
            "--2021-01-26 18:06:50--  https://public.boxcloud.com/d/1/b1!l92mZc94vP5df0aeMRKcC8lgSDxmxoS9u19DPSqf665H7GTGVmrVjjO6pOZDvzWSJA4F_CId3U0G4oXgyfJ9OMroUfrdm91Ene3qXNZ_wAZSC9xn60DtTI54wKw97v0nhIZ-cpoArwNIfkH9IyCBSwtTw8jne6LE9wGjk_gqfhJM_27TyGymJl6I25fWH94qEgYtg4vp4yrLTtapxDtszXPDbyl_jH2Hd4q9kNUrbchvRpAQ3jvA7qfgL3xJXs2MA9WwnfHTLUIidEvWktRxJsTDOyQLOUG22Ogl-SUxr9674DQCxXIQX7FWNZbXZvas4USteVEtmPxBJ53oLGCxyHy5UEyUFe2wLrsFIKzoRiJwes_rSKfdIsocEouIbNFuM9wToB811_6xW18QVoqpfeRcsKJlC4MXIawLwpuo0RsHYLYWBlgfXlQOJxgpr7iizvOlE4XJcKNzMyptxiB4qmDgrW2lWLWUsGrQdAcRsvkpyPXtFw_JB2tlLGC-R0qvvizJC1SUtIS1038UHnnk2mWlcmEGM0kh-VK7Zys0VLFNv2hLRAdRIb01Fwky_RLGpGZB5PxFnXlrOn-W04K1djeTQpxAq3HPic0s8wR-96tvQQzLsy9qWDT5jkgeVgcM1Mb1RJYob0r1jf8COrpDB-JN5IM2zr4zRUzHxW7zyo2HrhKwhXqzBDg0_8nfP7VR_jK7TIZBV__-te8m0nMyDhf4IfOBX1Re6AztHLhVJQHoyyCAAS2Gf-xOw8nYBY8SHn5KDH6mLTz-N7iAPH-2qctE_UIEIpAT_uHcXZ1e-OBImnaEhrWNbBAUQSUMVSoTIC65o9JTGF9NLb9FyLVuyfWlYN8zSMz4P-E3sRoOph2arnVK5ddIMKGc1rBlnzdKaYdrwa3pYdfp3M7az5tRj0Seq8tmZWaG1HyfBmTm0RV9zlbzaekcFDAjOG1xCsWOaGsOKfnB2vRuQpvxx95NHMlsVCEYNnUb3g0Hf0kFDK6JThCCOMQm4ZGoAJB73RlA8QM5QeUcdzUkWPpTx9exnWgNYGK27Kc7sZKvb28nPJjBwfWCu16lq6d6val1SaBAC6BJDrHocxvAE0Cg9KCA2XV_-yaLNqZURoXmlQIwGQTvBVQy8Bw8eGDeQSdttow860FFgbGWfiA7azkzJvczek6JjIsme7OePJfKZ3vpi49XAnLsI_4Ngr_hl0DuNeP1vijc7B7MJf7ZwDYBYoBMg_-tDrS3Zvk88o1MwFDi0yu-Yv8eMwf3djJqYnRKvcuesiw8acuPSKbfal3_HjL-TizifM_Pi8bCZAEBP3E_XtfQ76EhPqqhidM73XHipQqcf-zBL4vKnWVRFHU0inWvZ4VCtznQEpfBDnPCRYYhZiLA230sm1Wp9l3xxi-jDorp2E2Cn1s5vhoOdjEF/download\n",
            "Resolving public.boxcloud.com (public.boxcloud.com)... 107.152.26.200\n",
            "Connecting to public.boxcloud.com (public.boxcloud.com)|107.152.26.200|:443... connected.\n",
            "HTTP request sent, awaiting response... 200 OK\n",
            "Length: 289824 (283K) [application/zip]\n",
            "Saving to: ‘data/labels.zip’\n",
            "\n",
            "data/labels.zip     100%[===================>] 283.03K  --.-KB/s    in 0.1s    \n",
            "\n",
            "2021-01-26 18:06:50 (1.86 MB/s) - ‘data/labels.zip’ saved [289824/289824]\n",
            "\n",
            "--2021-01-26 18:06:53--  https://duke.box.com/shared/static/51kby1zj73y5bj86pwogd6ma88p5x4sm.zip\n",
            "Resolving duke.box.com (duke.box.com)... 107.152.26.197\n",
            "Connecting to duke.box.com (duke.box.com)|107.152.26.197|:443... connected.\n",
            "HTTP request sent, awaiting response... 301 Moved Permanently\n",
            "Location: /public/static/51kby1zj73y5bj86pwogd6ma88p5x4sm.zip [following]\n",
            "--2021-01-26 18:06:53--  https://duke.box.com/public/static/51kby1zj73y5bj86pwogd6ma88p5x4sm.zip\n",
            "Reusing existing connection to duke.box.com:443.\n",
            "HTTP request sent, awaiting response... 301 Moved Permanently\n",
            "Location: https://duke.app.box.com/public/static/51kby1zj73y5bj86pwogd6ma88p5x4sm.zip [following]\n",
            "--2021-01-26 18:06:53--  https://duke.app.box.com/public/static/51kby1zj73y5bj86pwogd6ma88p5x4sm.zip\n",
            "Resolving duke.app.box.com (duke.app.box.com)... 107.152.26.201\n",
            "Connecting to duke.app.box.com (duke.app.box.com)|107.152.26.201|:443... connected.\n",
            "HTTP request sent, awaiting response... 302 Found\n",
            "Location: https://public.boxcloud.com/d/1/b1!SrRSb5VZ8Yb1LQU8KndZLrABgDu4ZsLs5XIC4Lkk9YEsYJ65xjK2erpNdWHerstBQ_MgnX9pM_CGmQnlY_144Qofo-wB9hhjFYbUuVLNq0K6RloyJ96BkZPbVoMSMhzDL4Ro2jACvmz2cUl8s4xYNjvZbO9e3szwzQa-qpLztjMsctGuwIVXr58JRol_D9mZPSlQnOhBzHZCTIjTZXFMhQynYHJ_-y1QNTS-askHeBDHxwBOmZ-D37ZAxx7tH55kw2zfN4RV8V_4v9Kxxyh2XeZzIC4RF5R2o0sw-1arZ5mY6VNZYwt8AvVNTetuGSx6IYphAmcH8Gl7eh5OHlJOhNJD6-G_Mo4m0tbjsZMbLKBV3BOixXhjipbvJUEJLWfHOYZ9NOKptY35eprsOMWB4WORyQX6V2DcqmTmP62GM0aDkJUBdRNSc2c-UH9J2PB7fTxEdn-chIj_0YyNAlJyKhbF1TRFHUwmFRhCa7IxaxiJQsOyAGECUM-MSXfxFeqz1ltIHmqVXMuedIr1xwlZBdn0oPOBbYCIMktqaYyyAuuUTDTbihugq361TOXLAW_jNTRSPFITpuyQi-i-zgS8tWgrEPBke2F0p1DvqK83yZ7Pp9Dz6U5T_VZv0NyAHyB9B5lCdq1cbN1B0TqnutTwdBPtO8bw5q6WAmDZV7aoNf2i43I_51Ovldhcm13Rxyd_yCJaPSlN6Fex0gOOx_Bf_Rk1KFE8umL3E8AZyKVRaxIQEQ7NElEWvpnVYuAtIqMWs31TEeD4UdmjPSgj3-cymCN2mlqYg26mqMVXSTWEL4B9v0xN6kWxowXW67WD6vQDR6j-h88Y5bMTbcmqJ96TuH4Dx6hNb9kR8cgyy9tZKlsrOZXQMi8aXvEiLfYrST6QgI4x8xriVVCwzHc4aCnWq3y8UCUK3H7YK0zDQ6L4PEXLlcWXI-WPz73tETIwcyqtsL2mwEywMHovziLS-nKtOzE4YRvZ4eNcOjYBmZCwH0PsABj37dASK0J56KW1VgPpLvNICzqChXtS6dlDygYkv7uBv39ZvA_kQNllajMSEsDLTX5tUSt8dKXF7k3yUlBjfVedxygC2LHSzcMTbbWUc6S2C_LU2bK7xMSwNyu3FtkYljxkamrlaxZXHWsGE8OOaW36a61rrTrYwVNxvhCCjII2EOJNVuCVRYeOW5MiQ2SBeXR86V9Gd7jcxPNoqCw0T0oOKgyJ4QpOELxDmYR8V_aMU3_dO1qNRZ313FW9V9GKGUC39nDA0We0pQP5_Z3qlJuooRiEzuAq6JiV6PHcPaK8ePrESKv5j_Ah0OVox73Mw8gUILaTOucCHUOtBwkVfSHE9ZHwdqg3ucM3EzkHzEa7PzRpYWOQWYf5UwLqJjknwspTVQXonQ7MQG1T9xso/download [following]\n",
            "--2021-01-26 18:06:54--  https://public.boxcloud.com/d/1/b1!SrRSb5VZ8Yb1LQU8KndZLrABgDu4ZsLs5XIC4Lkk9YEsYJ65xjK2erpNdWHerstBQ_MgnX9pM_CGmQnlY_144Qofo-wB9hhjFYbUuVLNq0K6RloyJ96BkZPbVoMSMhzDL4Ro2jACvmz2cUl8s4xYNjvZbO9e3szwzQa-qpLztjMsctGuwIVXr58JRol_D9mZPSlQnOhBzHZCTIjTZXFMhQynYHJ_-y1QNTS-askHeBDHxwBOmZ-D37ZAxx7tH55kw2zfN4RV8V_4v9Kxxyh2XeZzIC4RF5R2o0sw-1arZ5mY6VNZYwt8AvVNTetuGSx6IYphAmcH8Gl7eh5OHlJOhNJD6-G_Mo4m0tbjsZMbLKBV3BOixXhjipbvJUEJLWfHOYZ9NOKptY35eprsOMWB4WORyQX6V2DcqmTmP62GM0aDkJUBdRNSc2c-UH9J2PB7fTxEdn-chIj_0YyNAlJyKhbF1TRFHUwmFRhCa7IxaxiJQsOyAGECUM-MSXfxFeqz1ltIHmqVXMuedIr1xwlZBdn0oPOBbYCIMktqaYyyAuuUTDTbihugq361TOXLAW_jNTRSPFITpuyQi-i-zgS8tWgrEPBke2F0p1DvqK83yZ7Pp9Dz6U5T_VZv0NyAHyB9B5lCdq1cbN1B0TqnutTwdBPtO8bw5q6WAmDZV7aoNf2i43I_51Ovldhcm13Rxyd_yCJaPSlN6Fex0gOOx_Bf_Rk1KFE8umL3E8AZyKVRaxIQEQ7NElEWvpnVYuAtIqMWs31TEeD4UdmjPSgj3-cymCN2mlqYg26mqMVXSTWEL4B9v0xN6kWxowXW67WD6vQDR6j-h88Y5bMTbcmqJ96TuH4Dx6hNb9kR8cgyy9tZKlsrOZXQMi8aXvEiLfYrST6QgI4x8xriVVCwzHc4aCnWq3y8UCUK3H7YK0zDQ6L4PEXLlcWXI-WPz73tETIwcyqtsL2mwEywMHovziLS-nKtOzE4YRvZ4eNcOjYBmZCwH0PsABj37dASK0J56KW1VgPpLvNICzqChXtS6dlDygYkv7uBv39ZvA_kQNllajMSEsDLTX5tUSt8dKXF7k3yUlBjfVedxygC2LHSzcMTbbWUc6S2C_LU2bK7xMSwNyu3FtkYljxkamrlaxZXHWsGE8OOaW36a61rrTrYwVNxvhCCjII2EOJNVuCVRYeOW5MiQ2SBeXR86V9Gd7jcxPNoqCw0T0oOKgyJ4QpOELxDmYR8V_aMU3_dO1qNRZ313FW9V9GKGUC39nDA0We0pQP5_Z3qlJuooRiEzuAq6JiV6PHcPaK8ePrESKv5j_Ah0OVox73Mw8gUILaTOucCHUOtBwkVfSHE9ZHwdqg3ucM3EzkHzEa7PzRpYWOQWYf5UwLqJjknwspTVQXonQ7MQG1T9xso/download\n",
            "Resolving public.boxcloud.com (public.boxcloud.com)... 107.152.26.200\n",
            "Connecting to public.boxcloud.com (public.boxcloud.com)|107.152.26.200|:443... connected.\n",
            "HTTP request sent, awaiting response... 200 OK\n",
            "Length: 2305217778 (2.1G) [application/zip]\n",
            "Saving to: ‘data/synthetic_images.zip’\n",
            "\n",
            "data/synthetic_imag 100%[===================>]   2.15G  24.0MB/s    in 98s     \n",
            "\n",
            "2021-01-26 18:08:32 (22.5 MB/s) - ‘data/synthetic_images.zip’ saved [2305217778/2305217778]\n",
            "\n",
            "--2021-01-26 18:08:32--  https://duke.box.com/shared/static/4xw53kjtacxq21npnc6eb2q65xwcnt8v.zip\n",
            "Resolving duke.box.com (duke.box.com)... 107.152.26.197\n",
            "Connecting to duke.box.com (duke.box.com)|107.152.26.197|:443... connected.\n",
            "HTTP request sent, awaiting response... 301 Moved Permanently\n",
            "Location: /public/static/4xw53kjtacxq21npnc6eb2q65xwcnt8v.zip [following]\n",
            "--2021-01-26 18:08:32--  https://duke.box.com/public/static/4xw53kjtacxq21npnc6eb2q65xwcnt8v.zip\n",
            "Reusing existing connection to duke.box.com:443.\n",
            "HTTP request sent, awaiting response... 301 Moved Permanently\n",
            "Location: https://duke.app.box.com/public/static/4xw53kjtacxq21npnc6eb2q65xwcnt8v.zip [following]\n",
            "--2021-01-26 18:08:33--  https://duke.app.box.com/public/static/4xw53kjtacxq21npnc6eb2q65xwcnt8v.zip\n",
            "Resolving duke.app.box.com (duke.app.box.com)... 107.152.26.201\n",
            "Connecting to duke.app.box.com (duke.app.box.com)|107.152.26.201|:443... connected.\n",
            "HTTP request sent, awaiting response... 302 Found\n",
            "Location: https://public.boxcloud.com/d/1/b1!izypr1XjSkXPk5Ncx3veV0Cs9TX1syfz8qQ7_CSnIejYe0wyXcW57d4JUB-JrkzhOM8GTFUlTg1kJHvWrR6mAlrnE83JBD7loKY_cSvTE-LF3FTE01AKL_giDhgNUFv8Qa_Mb3-k-oNYXFdew4527P87skFwHsEQSWBE0V41MK3OlhcK9mWqvbwQ4toUS-GtU2Xinlf3gDbfQLmW2OVfOUkBY0A-cZ0fXGoZ4kfKjKG6YL_y1vzLlQCQ9hk1968q4rEyvoAiPoEzl_Gu8IrV9LZo2OQw225XyF2lBsffj7bFWs-l4xZl7l3SLpoKRgbrEdM7yfvaHH-z9BxDa9WEZEo24gZ5P8anPkjG6RuyIfFaxtf3SSsiyOxNjvOvKxMLjAZ4_ILzPx8KlK0TQZhRU6qRr8oV9CA9vlz2uXYTyN6RpAln8Ra8JlCFH-epMMOBBZ9GIbkjIjYVh_MIkOgX4pR1EAo45I_kjPjonpMGi6gUtd338F6hXq9gSpPu_Xr1I1T-LPTi9GILA7xXxU8eVpYh5ygKNsrsvrQHWTxZqgHWPrl0K0Faxf4RIg0sevM1esD-pjdMpKe8n94dT89ywpdj1JIrkwg1OapE_i1IzIR4Waqb9X6Yy3Iu_oCi8tKrgJ4v5gbcK9eSkgmWtExFUDyZHAVM1BBUjkiSAEPNElysToMXESPxX9sK_BLBllm4MLjeXlUGJ1aXKJjfWeW2OSrRj2MkOZ2pkd-RttTopcC9n7-nQtQlwVV3pH-femdJ4gBokXIPYXpkPkuETGInq7YldgYR3YzyEveagYnYaY8WZWEmZdkJi1smeoLIyUtJJkkskznmqBbtKqdeYjZ9FrVBsNjJ8j4ZAVOnzwFttMtqbX0SMzJOjOpSa_pqyFHFy6Ek8e9PSvWO6L7Tz-jOFrRlxybRcbtiLsjq9Oa8oI_HFmF22ys-AztuTq1sHM8WMMTrnk87_2MQRf5yERUDctHm6-_CWPkN6guHJa79irCcQ4CFW0_G1D2pXEMqV76jQIKUr2ObWntCV8hc8z6VgGbjK5DJxxYCfRj4NvMsnsFu7SHdciLz4frV-xgQwjdFmmRJoqZ1-IB1f5HgiZoaiI0XBIT717SsmrffmzEFaq1Ji4zLbO0w5kklai4v8P81TOAppUA8-XxR3WlEJw0d2O1lAmV-eUQLF4HQXcG_bGl0HVdC1_KggK3rzg0ffRhOGcqe00U94sRa4dZRalrr5WEQGf-Qih8t8coNAjxiXRSPvBeDv7tPW8jXZNqjJBX4r60AC14h_FapVTHfV3P42WR-B02Cs7Pu3RcW3OQZrbVAYaMSoZ0KnXKkfxB7L3KcwWJwDviVWbqLfNs7ex-Up1KuBOp7EBr5MWwghUxphMbXImKBqgJAo8T34S0./download [following]\n",
            "--2021-01-26 18:08:33--  https://public.boxcloud.com/d/1/b1!izypr1XjSkXPk5Ncx3veV0Cs9TX1syfz8qQ7_CSnIejYe0wyXcW57d4JUB-JrkzhOM8GTFUlTg1kJHvWrR6mAlrnE83JBD7loKY_cSvTE-LF3FTE01AKL_giDhgNUFv8Qa_Mb3-k-oNYXFdew4527P87skFwHsEQSWBE0V41MK3OlhcK9mWqvbwQ4toUS-GtU2Xinlf3gDbfQLmW2OVfOUkBY0A-cZ0fXGoZ4kfKjKG6YL_y1vzLlQCQ9hk1968q4rEyvoAiPoEzl_Gu8IrV9LZo2OQw225XyF2lBsffj7bFWs-l4xZl7l3SLpoKRgbrEdM7yfvaHH-z9BxDa9WEZEo24gZ5P8anPkjG6RuyIfFaxtf3SSsiyOxNjvOvKxMLjAZ4_ILzPx8KlK0TQZhRU6qRr8oV9CA9vlz2uXYTyN6RpAln8Ra8JlCFH-epMMOBBZ9GIbkjIjYVh_MIkOgX4pR1EAo45I_kjPjonpMGi6gUtd338F6hXq9gSpPu_Xr1I1T-LPTi9GILA7xXxU8eVpYh5ygKNsrsvrQHWTxZqgHWPrl0K0Faxf4RIg0sevM1esD-pjdMpKe8n94dT89ywpdj1JIrkwg1OapE_i1IzIR4Waqb9X6Yy3Iu_oCi8tKrgJ4v5gbcK9eSkgmWtExFUDyZHAVM1BBUjkiSAEPNElysToMXESPxX9sK_BLBllm4MLjeXlUGJ1aXKJjfWeW2OSrRj2MkOZ2pkd-RttTopcC9n7-nQtQlwVV3pH-femdJ4gBokXIPYXpkPkuETGInq7YldgYR3YzyEveagYnYaY8WZWEmZdkJi1smeoLIyUtJJkkskznmqBbtKqdeYjZ9FrVBsNjJ8j4ZAVOnzwFttMtqbX0SMzJOjOpSa_pqyFHFy6Ek8e9PSvWO6L7Tz-jOFrRlxybRcbtiLsjq9Oa8oI_HFmF22ys-AztuTq1sHM8WMMTrnk87_2MQRf5yERUDctHm6-_CWPkN6guHJa79irCcQ4CFW0_G1D2pXEMqV76jQIKUr2ObWntCV8hc8z6VgGbjK5DJxxYCfRj4NvMsnsFu7SHdciLz4frV-xgQwjdFmmRJoqZ1-IB1f5HgiZoaiI0XBIT717SsmrffmzEFaq1Ji4zLbO0w5kklai4v8P81TOAppUA8-XxR3WlEJw0d2O1lAmV-eUQLF4HQXcG_bGl0HVdC1_KggK3rzg0ffRhOGcqe00U94sRa4dZRalrr5WEQGf-Qih8t8coNAjxiXRSPvBeDv7tPW8jXZNqjJBX4r60AC14h_FapVTHfV3P42WR-B02Cs7Pu3RcW3OQZrbVAYaMSoZ0KnXKkfxB7L3KcwWJwDviVWbqLfNs7ex-Up1KuBOp7EBr5MWwghUxphMbXImKBqgJAo8T34S0./download\n",
            "Resolving public.boxcloud.com (public.boxcloud.com)... 107.152.26.200\n",
            "Connecting to public.boxcloud.com (public.boxcloud.com)|107.152.26.200|:443... connected.\n",
            "HTTP request sent, awaiting response... 200 OK\n",
            "Length: 668345 (653K) [application/zip]\n",
            "Saving to: ‘data/synthetic_labels.zip’\n",
            "\n",
            "data/synthetic_labe 100%[===================>] 652.68K  3.07MB/s    in 0.2s    \n",
            "\n",
            "2021-01-26 18:08:34 (3.07 MB/s) - ‘data/synthetic_labels.zip’ saved [668345/668345]\n",
            "\n",
            "--2021-01-26 18:08:53--  https://duke.box.com/shared/static/9hc0uqxric3gptb6j92fzswcuux4ou73.zip\n",
            "Resolving duke.box.com (duke.box.com)... 107.152.26.197\n",
            "Connecting to duke.box.com (duke.box.com)|107.152.26.197|:443... connected.\n",
            "HTTP request sent, awaiting response... 301 Moved Permanently\n",
            "Location: /public/static/9hc0uqxric3gptb6j92fzswcuux4ou73.zip [following]\n",
            "--2021-01-26 18:08:53--  https://duke.box.com/public/static/9hc0uqxric3gptb6j92fzswcuux4ou73.zip\n",
            "Reusing existing connection to duke.box.com:443.\n",
            "HTTP request sent, awaiting response... 301 Moved Permanently\n",
            "Location: https://duke.app.box.com/public/static/9hc0uqxric3gptb6j92fzswcuux4ou73.zip [following]\n",
            "--2021-01-26 18:08:53--  https://duke.app.box.com/public/static/9hc0uqxric3gptb6j92fzswcuux4ou73.zip\n",
            "Resolving duke.app.box.com (duke.app.box.com)... 107.152.26.201\n",
            "Connecting to duke.app.box.com (duke.app.box.com)|107.152.26.201|:443... connected.\n",
            "HTTP request sent, awaiting response... 302 Found\n",
            "Location: https://public.boxcloud.com/d/1/b1!Rgddzp12FfdxdVsjatjpHoMdGCFnq1FhCa9aIbRE9aK2RyVwLampKmjcmmpdzEWktGtHdGzxOKgh5Vp34c4rqO-F8Dg5IWB7e6vIc_lZA16645kH919GM0vRylUK02DBHZWPH39h8H_p9vyPv_nOgMugSAQKxsgCK_MOhvFAPNgY_jPx0NY2uuoAfhv9SspWEawSEoq9Wd-8d0_jYO8tt2YyA-_xG-8CRYOnzeWuPZzZUIbJB20F5XIoAaoIsulk-xdtdBYiYBqBce1SpaiY7MNH86XbySXfe5e6NC7nSyez6MWh4XMif1GfBkfgbWnhdiVrrFBSiL5Yz6iKCQ0Q-q62f_RQRvuAscwJNczuA5ocut3y6etISL4y6pRs9B_6xm1mxIc_hy_Mss7BbO-4RKp7d4rOfsVRipjtaHy11iyJsLnuGkHlTv-3qLb2RU1z3UeD1LmZIp77QoyMxzapbF9DlDv2znTRWkqXGXfeXzmf8PEmhnE1dk4bcNYsWXjvy3k7nnWo8K9J9QwZaY9IXAuD1F3pJj3zZnAqnv-NuEARa_jOqdnNO-vMn5X_dt_SllGqmvttGgcAIrw3xdxsVdPNCWWEUrkC8KbBLFQJpYL1oseV8mCpRWdVlq6d6q1A4eWGD8rESpDFi45VuDwg_tEVy8TmULI9fAjBtEO3M47P-EAQJhRqYS5nB2h86iMJ0_3N3Gd3Uo6313bQUTsjEl2E7ITZY6RpFoeMaNAfz0hQlODsNxEQysVyF6e3qdN9GKDYo5ntsHG1A7bmcmcsrVZ9LKvgpZH1MWWoON90gQUM6c8tYgT8H1tMcokat3TnT_JLKvJ0h-9_JDxpJf-f7v9KJleQd9UXW8MbY938D9RXjX-qhQlFmmUxRqnQCtmtTVEsFNq7o-Zw0hetb2Gh9w2zoAXv4uqKsDg_K39mfckyso7BKzA9vxJrrTo2mdSlCqJNlyLAY3oRtJc1tY-AmA5-56DjMlmISBJjs5GgFVIlMbXvO_IGK8AWLaFL4yb7jqDvCrPs2h7S43wUWeQKh7Jer5o1bjLg7nQDK1WRbRPcPljTYLOCh2X1_P-We1xVj1eGDaq9eRqAztrAt2J_U6TgnwXAtJzXlliedwz2eeMq6SkWPLr4m_EbUlRBGZ2KQAPusJYJC8xRNcMYLmP-LV3eF9PGwa-CuujmSDF2500f8DbqzZfSZFtQ11MA5qPtZNb0NPyMTeruL5oehg5jwe0t8E14wdbqlQsPIGUDkYy0BLbbRLLJLoB1Euv9_RLF2GYqJQSNVzIx7OZLs_NBpuwCI72cIReVnmx_pGw3H38dD7kRaK_O8Cs9Ch9XJeukbsXBtndqc_Hl08I3BdEz1IoL5M0nCbo2lpPRQKF-6__cMKxRQTn7dw../download [following]\n",
            "--2021-01-26 18:08:54--  https://public.boxcloud.com/d/1/b1!Rgddzp12FfdxdVsjatjpHoMdGCFnq1FhCa9aIbRE9aK2RyVwLampKmjcmmpdzEWktGtHdGzxOKgh5Vp34c4rqO-F8Dg5IWB7e6vIc_lZA16645kH919GM0vRylUK02DBHZWPH39h8H_p9vyPv_nOgMugSAQKxsgCK_MOhvFAPNgY_jPx0NY2uuoAfhv9SspWEawSEoq9Wd-8d0_jYO8tt2YyA-_xG-8CRYOnzeWuPZzZUIbJB20F5XIoAaoIsulk-xdtdBYiYBqBce1SpaiY7MNH86XbySXfe5e6NC7nSyez6MWh4XMif1GfBkfgbWnhdiVrrFBSiL5Yz6iKCQ0Q-q62f_RQRvuAscwJNczuA5ocut3y6etISL4y6pRs9B_6xm1mxIc_hy_Mss7BbO-4RKp7d4rOfsVRipjtaHy11iyJsLnuGkHlTv-3qLb2RU1z3UeD1LmZIp77QoyMxzapbF9DlDv2znTRWkqXGXfeXzmf8PEmhnE1dk4bcNYsWXjvy3k7nnWo8K9J9QwZaY9IXAuD1F3pJj3zZnAqnv-NuEARa_jOqdnNO-vMn5X_dt_SllGqmvttGgcAIrw3xdxsVdPNCWWEUrkC8KbBLFQJpYL1oseV8mCpRWdVlq6d6q1A4eWGD8rESpDFi45VuDwg_tEVy8TmULI9fAjBtEO3M47P-EAQJhRqYS5nB2h86iMJ0_3N3Gd3Uo6313bQUTsjEl2E7ITZY6RpFoeMaNAfz0hQlODsNxEQysVyF6e3qdN9GKDYo5ntsHG1A7bmcmcsrVZ9LKvgpZH1MWWoON90gQUM6c8tYgT8H1tMcokat3TnT_JLKvJ0h-9_JDxpJf-f7v9KJleQd9UXW8MbY938D9RXjX-qhQlFmmUxRqnQCtmtTVEsFNq7o-Zw0hetb2Gh9w2zoAXv4uqKsDg_K39mfckyso7BKzA9vxJrrTo2mdSlCqJNlyLAY3oRtJc1tY-AmA5-56DjMlmISBJjs5GgFVIlMbXvO_IGK8AWLaFL4yb7jqDvCrPs2h7S43wUWeQKh7Jer5o1bjLg7nQDK1WRbRPcPljTYLOCh2X1_P-We1xVj1eGDaq9eRqAztrAt2J_U6TgnwXAtJzXlliedwz2eeMq6SkWPLr4m_EbUlRBGZ2KQAPusJYJC8xRNcMYLmP-LV3eF9PGwa-CuujmSDF2500f8DbqzZfSZFtQ11MA5qPtZNb0NPyMTeruL5oehg5jwe0t8E14wdbqlQsPIGUDkYy0BLbbRLLJLoB1Euv9_RLF2GYqJQSNVzIx7OZLs_NBpuwCI72cIReVnmx_pGw3H38dD7kRaK_O8Cs9Ch9XJeukbsXBtndqc_Hl08I3BdEz1IoL5M0nCbo2lpPRQKF-6__cMKxRQTn7dw../download\n",
            "Resolving public.boxcloud.com (public.boxcloud.com)... 107.152.26.200\n",
            "Connecting to public.boxcloud.com (public.boxcloud.com)|107.152.26.200|:443... connected.\n",
            "HTTP request sent, awaiting response... 200 OK\n",
            "Length: 45502092 (43M) [application/zip]\n",
            "Saving to: ‘data/images_new.zip’\n",
            "\n",
            "data/images_new.zip 100%[===================>]  43.39M  25.4MB/s    in 1.7s    \n",
            "\n",
            "2021-01-26 18:08:56 (25.4 MB/s) - ‘data/images_new.zip’ saved [45502092/45502092]\n",
            "\n",
            "--2021-01-26 18:08:56--  https://duke.box.com/shared/static/41r1grgakpjswnzu274xk8k1edo9xfkd.zip\n",
            "Resolving duke.box.com (duke.box.com)... 107.152.26.197\n",
            "Connecting to duke.box.com (duke.box.com)|107.152.26.197|:443... connected.\n",
            "HTTP request sent, awaiting response... 301 Moved Permanently\n",
            "Location: /public/static/41r1grgakpjswnzu274xk8k1edo9xfkd.zip [following]\n",
            "--2021-01-26 18:08:57--  https://duke.box.com/public/static/41r1grgakpjswnzu274xk8k1edo9xfkd.zip\n",
            "Reusing existing connection to duke.box.com:443.\n",
            "HTTP request sent, awaiting response... 301 Moved Permanently\n",
            "Location: https://duke.app.box.com/public/static/41r1grgakpjswnzu274xk8k1edo9xfkd.zip [following]\n",
            "--2021-01-26 18:08:57--  https://duke.app.box.com/public/static/41r1grgakpjswnzu274xk8k1edo9xfkd.zip\n",
            "Resolving duke.app.box.com (duke.app.box.com)... 107.152.26.201\n",
            "Connecting to duke.app.box.com (duke.app.box.com)|107.152.26.201|:443... connected.\n",
            "HTTP request sent, awaiting response... 302 Found\n",
            "Location: https://public.boxcloud.com/d/1/b1!z2UVfwJzv8zBiynSAxuHGP9DOZtmdbb1p5JAMdes0GzlgQYv_oyKeRZAVXJqhZ3j4xbPNMeU1POt8hg39rqcf7oyriftcgWzYMQIlKmd2_gnszXqMEmCwdBBEgSZD7aVtDbKXEGCyiUJl38rELsn5m53eMF8NYRW4mtpHPJyU-FVfAnPfebOebEKMx8i5M45FBB5P3hwxa0meiW_Grv86l4fwEXQ1Ein3IhtZ3Zeg_otJ2N57cVO2y1zRzzF7ydVbfbhM3EHrYIs0wQr1HwK2FGqQxL3IFBbrApKJYp615b6fu_mA6MnMuVbXrOrfNOe-TjbTtKmS4CP6SBndCLqmoL6JU2O7ag8QOuefR8nwTss1I9YhyiakMaSCzZsePl6hEIi9fPxLAlvhOAhu0xMnANy1aZq50TnPyETTjjBWWlbS41Oeei7UIkjFQ7agu4xeaVWxySP-cVpmsoOBKEqqFyLeq13gM02Sx5GH_CuBxz0YW2j5S115rjGkT4J8xX9maznq67-wpFP8znWNa_6IZr7Jkkpma-d1EHzWVLMeG8fjWmFjpG40Dyd4jFixMjYM7ep43JkVTelgoimNjpz1w_bsOjL0ODkZzr3U-fkw9A1bViES4bAvpMVPNAAZR8G1EPjxOoRgtzku-IAAsQz9YGnD9un8RKgTskhFCpxgbNRfZkMbYgpE_S_1cNU85WfsAHFdZi4qt-I1ROPQa9jCrGLDh3K5BicrAQC-zhybrZDTl0D5z9YbS7ZcufnREtuhCM6aDsMh43wkfCxo3oEaBqAC440nqNAhm9L3HR0nt7uVMyyPUUMVnI9Dd_Xt1cV6Hl4NcWz86h9k-eyzm-AHo7y99YMuHpvYtAz2RtbbyNTIlxaQAd6Zl1hoHnjgWySpbTKZHXSZJvqNQjJhGjZ_-AZYLuVZa3enl14gEmTmb7BOeFH4vpav6mDKftubhzw__L3X6VWicz_dnrb2fltPsR9YKoqJ6cRmErnRXP699AfIhTk67r-KhAq7hyKTzjLcoEG60d4_LoqCwHj6g7QLBcdLzk_5e2CBrDaEdxvyETLbaWmxHVNK1LWmYncGWUweKB4jkRXDU1ZBaU4MDRxV8lOA43MMe4oMELKg7ftjuTfLaBQNdeR3aVhKfKlGb6ZnNr4KGLfA5M_h_5vtkO_nJPZZe7slab_V6PHDu_dqtKNzA6aFPfi-b0xu1E4COrWSLLlWg3NGzeKlbBebH-S3bkJroe99YRJbaW1cnn_3T1pCF6YNrNWopG_4WfnNzx9VRleK1eqIinmHvxv_ORSJY-lDt4yx7IjCur9T9URDzTEUsV7ltiswzBodYu8NSNKrmahILZCkeaBTkl9kQUaz3X1QjwpsNzY0sVobUZAIphXLeMwlkUuHejbsw4t_NdspuMB5msiaVmSdI0EBG8t8Y3y0uRofI8E2PTRQ2QWIiaFwp5iv4CqfOxdd22G7GKV0gI./download [following]\n",
            "--2021-01-26 18:08:57--  https://public.boxcloud.com/d/1/b1!z2UVfwJzv8zBiynSAxuHGP9DOZtmdbb1p5JAMdes0GzlgQYv_oyKeRZAVXJqhZ3j4xbPNMeU1POt8hg39rqcf7oyriftcgWzYMQIlKmd2_gnszXqMEmCwdBBEgSZD7aVtDbKXEGCyiUJl38rELsn5m53eMF8NYRW4mtpHPJyU-FVfAnPfebOebEKMx8i5M45FBB5P3hwxa0meiW_Grv86l4fwEXQ1Ein3IhtZ3Zeg_otJ2N57cVO2y1zRzzF7ydVbfbhM3EHrYIs0wQr1HwK2FGqQxL3IFBbrApKJYp615b6fu_mA6MnMuVbXrOrfNOe-TjbTtKmS4CP6SBndCLqmoL6JU2O7ag8QOuefR8nwTss1I9YhyiakMaSCzZsePl6hEIi9fPxLAlvhOAhu0xMnANy1aZq50TnPyETTjjBWWlbS41Oeei7UIkjFQ7agu4xeaVWxySP-cVpmsoOBKEqqFyLeq13gM02Sx5GH_CuBxz0YW2j5S115rjGkT4J8xX9maznq67-wpFP8znWNa_6IZr7Jkkpma-d1EHzWVLMeG8fjWmFjpG40Dyd4jFixMjYM7ep43JkVTelgoimNjpz1w_bsOjL0ODkZzr3U-fkw9A1bViES4bAvpMVPNAAZR8G1EPjxOoRgtzku-IAAsQz9YGnD9un8RKgTskhFCpxgbNRfZkMbYgpE_S_1cNU85WfsAHFdZi4qt-I1ROPQa9jCrGLDh3K5BicrAQC-zhybrZDTl0D5z9YbS7ZcufnREtuhCM6aDsMh43wkfCxo3oEaBqAC440nqNAhm9L3HR0nt7uVMyyPUUMVnI9Dd_Xt1cV6Hl4NcWz86h9k-eyzm-AHo7y99YMuHpvYtAz2RtbbyNTIlxaQAd6Zl1hoHnjgWySpbTKZHXSZJvqNQjJhGjZ_-AZYLuVZa3enl14gEmTmb7BOeFH4vpav6mDKftubhzw__L3X6VWicz_dnrb2fltPsR9YKoqJ6cRmErnRXP699AfIhTk67r-KhAq7hyKTzjLcoEG60d4_LoqCwHj6g7QLBcdLzk_5e2CBrDaEdxvyETLbaWmxHVNK1LWmYncGWUweKB4jkRXDU1ZBaU4MDRxV8lOA43MMe4oMELKg7ftjuTfLaBQNdeR3aVhKfKlGb6ZnNr4KGLfA5M_h_5vtkO_nJPZZe7slab_V6PHDu_dqtKNzA6aFPfi-b0xu1E4COrWSLLlWg3NGzeKlbBebH-S3bkJroe99YRJbaW1cnn_3T1pCF6YNrNWopG_4WfnNzx9VRleK1eqIinmHvxv_ORSJY-lDt4yx7IjCur9T9URDzTEUsV7ltiswzBodYu8NSNKrmahILZCkeaBTkl9kQUaz3X1QjwpsNzY0sVobUZAIphXLeMwlkUuHejbsw4t_NdspuMB5msiaVmSdI0EBG8t8Y3y0uRofI8E2PTRQ2QWIiaFwp5iv4CqfOxdd22G7GKV0gI./download\n",
            "Resolving public.boxcloud.com (public.boxcloud.com)... 107.152.26.200\n",
            "Connecting to public.boxcloud.com (public.boxcloud.com)|107.152.26.200|:443... connected.\n",
            "HTTP request sent, awaiting response... 200 OK\n",
            "Length: 43280 (42K) [application/zip]\n",
            "Saving to: ‘data/label_new.zip’\n",
            "\n",
            "data/label_new.zip  100%[===================>]  42.27K  --.-KB/s    in 0.05s   \n",
            "\n",
            "2021-01-26 18:08:57 (794 KB/s) - ‘data/label_new.zip’ saved [43280/43280]\n",
            "\n"
          ],
          "name": "stdout"
        }
      ]
    },
    {
      "cell_type": "code",
      "metadata": {
        "colab": {
          "base_uri": "https://localhost:8080/"
        },
        "id": "h9bQP6nquEVT",
        "outputId": "54570fb4-2a80-4b54-c47c-d71779610dec"
      },
      "source": [
        "# get modified cfg file that works for 1 class\n",
        "!rm -rf yolov3/cfg \n",
        "\n",
        "!wget -nc -O yolov3/cfg.zip https://duke.box.com/shared/static/pq52dolw5lo5ds8fd7g9v72ekzlngekz.zip\n",
        "!unzip -n -q yolov3/cfg.zip -d yolov3"
      ],
      "execution_count": 4,
      "outputs": [
        {
          "output_type": "stream",
          "text": [
            "--2021-01-26 18:09:34--  https://duke.box.com/shared/static/pq52dolw5lo5ds8fd7g9v72ekzlngekz.zip\n",
            "Resolving duke.box.com (duke.box.com)... 107.152.26.197\n",
            "Connecting to duke.box.com (duke.box.com)|107.152.26.197|:443... connected.\n",
            "HTTP request sent, awaiting response... 301 Moved Permanently\n",
            "Location: /public/static/pq52dolw5lo5ds8fd7g9v72ekzlngekz.zip [following]\n",
            "--2021-01-26 18:09:34--  https://duke.box.com/public/static/pq52dolw5lo5ds8fd7g9v72ekzlngekz.zip\n",
            "Reusing existing connection to duke.box.com:443.\n",
            "HTTP request sent, awaiting response... 301 Moved Permanently\n",
            "Location: https://duke.app.box.com/public/static/pq52dolw5lo5ds8fd7g9v72ekzlngekz.zip [following]\n",
            "--2021-01-26 18:09:34--  https://duke.app.box.com/public/static/pq52dolw5lo5ds8fd7g9v72ekzlngekz.zip\n",
            "Resolving duke.app.box.com (duke.app.box.com)... 107.152.26.201\n",
            "Connecting to duke.app.box.com (duke.app.box.com)|107.152.26.201|:443... connected.\n",
            "HTTP request sent, awaiting response... 302 Found\n",
            "Location: https://public.boxcloud.com/d/1/b1!31ckYxGArd6drl2KQZVux6uTZ9ochoNQZMYopcHsGOPWsjGGfnVlD3swBc-GkN3kW02pnjtuaoUGrw2cCRBQKNzAsKclIKki3BYkAZEERw0D2a32VdDzjoLKSW0d-T92VerO1-tO2hDleiAcKjZ_IVYz7aUrUSlTrWuWpV6Qj8iCqCq2CXcKkSo5CW0s9Pv6LL8xVMfs_qTUZG_IXMpZh-WPoAntYzpzyLITs86AG0HQIavb8StZs7bGp3uCpeJf9QIjMJFSkaYuDYsS7tERxYdrLuP68-_ZOugWp_vth50-oaHrnbNItF-qL7jag5jHi1c23yRtGb41VHFEl8dP92vB5si0dXwgTjc-xnP3KcTTBO-aJBmWUpOBVsA9mrSm4sRXkklldHPqqWd6bnvyPEpChUpOlRzumaHEUQAOrHyn06Dtgbw1zp1BFZ9H0dsjafu_jnaEBf0_lPHWlqEnJlXyE6tKfelp5Z3kU8KKRPngIOT6mTm8pFSBfG_UYKvNa2Zu8po7sxEQJ6Q3kqkuHpQiqKAxFp0jUQ6t45FDgep0UZaYDG3fzccf5Zbp3RxdDkVk27p7ByG3icHNYax15iRGSepn88oLPIQVvkCKGYxvOp2lFzl2ZBnLQDUK4b2Q0tm0ENq_XOtZTh8NtGygQmcVajjjweFc1dOSQDnA2sZcQeMzvBQxP_o8sUHVp6zhaGhUtGzhb8mGhxOSo28zYaTaCb2iPVlg0WIUm2qnii7K7GGktjcQ8o-0UDlpcgAZy59zl0-WwlTF1b-tF6heD6y8pC3U-Lbcv6kS5qXHYwvTD5P-qTeZxWA4Z_-MaZ9BP0BQFyYVdcXtYawSswAF0L3QNpXPiOkikds_d0WlJfSXyo_2qDjIjJIJIhMAVSEAVtI8NJh6ZwFipF3E1TkRTVa1z94OPp4i0FrbHuz-S9mgMqU5mrkZAPe-bmyd9aPZd_ju2Xuf7yRMkedKOLV8Tcb0riV-eqTFJPyF6kShqmvdgX1NTqEYQdwHrgcBjR2aO211R3ilisWPcj3oJXCU-JSTh_QKimUeMAy6bDFJdgpLUoiWBjJgfbdeFs_J-Gm9dk4V3VN7tSwpRgUYrf64Dh7sMo5gUyWvleEanriwsFzzJ-SFzpI65tTOQ-tq01U_xhvBusc6UUnBm7v0SxdLoB86zACAEoidZUZXFSerX5kl4O5YFb5bzldit74sNUKkYBl8XXMhJWf1EKOmuLOWXmbhXBIh3Igu5A-pz1M6rhWdougKOMAI1FXH_A2B9o5cFyD3mp3yjioWGCjVP6d_fwgFbRbuv0azZ3J90tlrUUpcvkD0-en3X-yCmXmqq7AwcBOcCiZ17WkMTuX8fmpa8PU6QnWNrLmtez8ufQ../download [following]\n",
            "--2021-01-26 18:09:35--  https://public.boxcloud.com/d/1/b1!31ckYxGArd6drl2KQZVux6uTZ9ochoNQZMYopcHsGOPWsjGGfnVlD3swBc-GkN3kW02pnjtuaoUGrw2cCRBQKNzAsKclIKki3BYkAZEERw0D2a32VdDzjoLKSW0d-T92VerO1-tO2hDleiAcKjZ_IVYz7aUrUSlTrWuWpV6Qj8iCqCq2CXcKkSo5CW0s9Pv6LL8xVMfs_qTUZG_IXMpZh-WPoAntYzpzyLITs86AG0HQIavb8StZs7bGp3uCpeJf9QIjMJFSkaYuDYsS7tERxYdrLuP68-_ZOugWp_vth50-oaHrnbNItF-qL7jag5jHi1c23yRtGb41VHFEl8dP92vB5si0dXwgTjc-xnP3KcTTBO-aJBmWUpOBVsA9mrSm4sRXkklldHPqqWd6bnvyPEpChUpOlRzumaHEUQAOrHyn06Dtgbw1zp1BFZ9H0dsjafu_jnaEBf0_lPHWlqEnJlXyE6tKfelp5Z3kU8KKRPngIOT6mTm8pFSBfG_UYKvNa2Zu8po7sxEQJ6Q3kqkuHpQiqKAxFp0jUQ6t45FDgep0UZaYDG3fzccf5Zbp3RxdDkVk27p7ByG3icHNYax15iRGSepn88oLPIQVvkCKGYxvOp2lFzl2ZBnLQDUK4b2Q0tm0ENq_XOtZTh8NtGygQmcVajjjweFc1dOSQDnA2sZcQeMzvBQxP_o8sUHVp6zhaGhUtGzhb8mGhxOSo28zYaTaCb2iPVlg0WIUm2qnii7K7GGktjcQ8o-0UDlpcgAZy59zl0-WwlTF1b-tF6heD6y8pC3U-Lbcv6kS5qXHYwvTD5P-qTeZxWA4Z_-MaZ9BP0BQFyYVdcXtYawSswAF0L3QNpXPiOkikds_d0WlJfSXyo_2qDjIjJIJIhMAVSEAVtI8NJh6ZwFipF3E1TkRTVa1z94OPp4i0FrbHuz-S9mgMqU5mrkZAPe-bmyd9aPZd_ju2Xuf7yRMkedKOLV8Tcb0riV-eqTFJPyF6kShqmvdgX1NTqEYQdwHrgcBjR2aO211R3ilisWPcj3oJXCU-JSTh_QKimUeMAy6bDFJdgpLUoiWBjJgfbdeFs_J-Gm9dk4V3VN7tSwpRgUYrf64Dh7sMo5gUyWvleEanriwsFzzJ-SFzpI65tTOQ-tq01U_xhvBusc6UUnBm7v0SxdLoB86zACAEoidZUZXFSerX5kl4O5YFb5bzldit74sNUKkYBl8XXMhJWf1EKOmuLOWXmbhXBIh3Igu5A-pz1M6rhWdougKOMAI1FXH_A2B9o5cFyD3mp3yjioWGCjVP6d_fwgFbRbuv0azZ3J90tlrUUpcvkD0-en3X-yCmXmqq7AwcBOcCiZ17WkMTuX8fmpa8PU6QnWNrLmtez8ufQ../download\n",
            "Resolving public.boxcloud.com (public.boxcloud.com)... 107.152.26.200\n",
            "Connecting to public.boxcloud.com (public.boxcloud.com)|107.152.26.200|:443... connected.\n",
            "HTTP request sent, awaiting response... 200 OK\n",
            "Length: 891 [application/zip]\n",
            "Saving to: ‘yolov3/cfg.zip’\n",
            "\n",
            "yolov3/cfg.zip      100%[===================>]     891  --.-KB/s    in 0s      \n",
            "\n",
            "2021-01-26 18:09:35 (102 MB/s) - ‘yolov3/cfg.zip’ saved [891/891]\n",
            "\n"
          ],
          "name": "stdout"
        }
      ]
    },
    {
      "cell_type": "code",
      "metadata": {
        "colab": {
          "base_uri": "https://localhost:8080/"
        },
        "id": "EBEThx8tuHOG",
        "outputId": "9f041c0e-5952-473b-c3d9-9cea30de56f3"
      },
      "source": [
        "# GET CROSS DOMAIN DATA\n",
        "# delete the original data folder so we can unzip our own data folder with the wind turbine data\n",
        "!rm -rf yolov3/data\n",
        "\n",
        "# load in the data.zip file from the box\n",
        "!wget -nc -O yolov3/data_cross_domain.zip https://duke.box.com/shared/static/ec7ykima36z399rbjuqwjouk72q5gb6p.zip\n",
        "!unzip -n -q yolov3/data_cross_domain.zip -d yolov3\n",
        "\n",
        "# get the synthetic_data file from the box\n",
        "!wget -nc -O yolov3/data_cross_domain_adding_synthetic.zip https://duke.box.com/shared/static/ykjo4zayu9ftd3xzc05wvmjucx1s5uyn.zip\n",
        "!unzip -n -q yolov3/data_cross_domain_adding_synthetic.zip -d yolov3"
      ],
      "execution_count": 5,
      "outputs": [
        {
          "output_type": "stream",
          "text": [
            "--2021-01-26 18:09:41--  https://duke.box.com/shared/static/ec7ykima36z399rbjuqwjouk72q5gb6p.zip\n",
            "Resolving duke.box.com (duke.box.com)... 107.152.26.197\n",
            "Connecting to duke.box.com (duke.box.com)|107.152.26.197|:443... connected.\n",
            "HTTP request sent, awaiting response... 301 Moved Permanently\n",
            "Location: /public/static/ec7ykima36z399rbjuqwjouk72q5gb6p.zip [following]\n",
            "--2021-01-26 18:09:41--  https://duke.box.com/public/static/ec7ykima36z399rbjuqwjouk72q5gb6p.zip\n",
            "Reusing existing connection to duke.box.com:443.\n",
            "HTTP request sent, awaiting response... 301 Moved Permanently\n",
            "Location: https://duke.app.box.com/public/static/ec7ykima36z399rbjuqwjouk72q5gb6p.zip [following]\n",
            "--2021-01-26 18:09:42--  https://duke.app.box.com/public/static/ec7ykima36z399rbjuqwjouk72q5gb6p.zip\n",
            "Resolving duke.app.box.com (duke.app.box.com)... 107.152.26.201\n",
            "Connecting to duke.app.box.com (duke.app.box.com)|107.152.26.201|:443... connected.\n",
            "HTTP request sent, awaiting response... 302 Found\n",
            "Location: https://public.boxcloud.com/d/1/b1!LagyvaF_px8DAvCFvOZudebujFUcCJWZ8U5qDYe74jMp64fEPM0_rVylzjO2Cj3iCRNRZnQqPBrK3Q4y4Awach4BhmLKFuqMe-dRho9KwKZGchCNRoGtVf_60uqCinDuoPFjifc46vRa02IS54zXGLTd3o2fS-LtDsV7Myz2AlhhHYm0HNgLjU03H0Rl62KZzSd3nzx0c8jNC9y4nY44JtB0D1a37FWSv3NsEYYgVEgrKdPMHrq87-8dAdhc-0hf2WfvN2QIAUwoymoIjX_FtMpV7UuUrJDlmFMciuEmOCFVBI9wvRr6077yfwXFeESCm2JY38obl65h5Q6mcRq36VJbkzzHv7ivgIn95eCOMB1Q6cqUOybI28poxv2W9bVBp4ymUwaIFuAZSIPQ64I7EH4jO8dfnPtV7upvvI99Gtkq-lxa-oWIvCfs1EZWwcaXqzBFRQ2iW4sYU1dgPDPJxlEX6y9RRjcu6UclU5LlhyBHfJDPnyz7RM0nBsFS5MuTe2PYV_LH6FoPp_msA4IeGgmq2MNeO8vIDeT4LwHFZ2ooggHFetmAFdkepqRGdFuzA7PrYrudHb8UbYTQ026V5nKh6yrdS9FJtn1W7gPTONIwZHFik9htCdAVhPYCj32M7nEdDzAl9nXwV5au8ipe24NkgPxm0N7m5Av9GsDLIVtkIVGBgN9b8GOilVwaFCeySiJ9rm4vfOWZuuXr7xPbjZ30bA-L6qq7aGwyWypuGCFsFlDN0sWdhp72Wm3nXMq_cluH0nkIApVH2qtgMID4KhNHwAPqWggfENTn0M8afW3q43Lds6DsfKMoRY64YbqD1g-9craN5sCmPLSTnXk52Z5XlAkov4puhUFp7ySOlrLCy5DGnVwQX_akrstz81-qwwQZrWrzM_GGU1w4bIY1nwHVOM-3vImX1a_P_5wqTo_KwShyLmqbhXQgPsYTg01j87BDPXxM9nwC2Jv_-5fhlqZdY7tJj082izaVvZn3Hat__EXd_5Ytd5XMSR9LSeOh73DK0OPHBPcEIMfVh7xExtKpgXfittku9DHeHmqxo-iAFQJPIqL8f8s1YK4V50pgxt5xgAEILRIXSnh3u3ydaRkjJNXd1EOterAFn5v4YH-BEekYr5WOr9IlXg2m1a3tmmxlCeUw4DNEG02pSl7cA77jc-RSyKdf2nrJCMVbVDOfGkYe4wH8IbW2z5Jk5-CPBeZpmlCqLd9Dnbw7zOBc7ta1quQ0DXfP8ZjTBiULbWn_Uu59hnXJYkAfkhxNbBlkOT6j2LPRLQp9CpYYLmTMs5OAkYJfpMrK2XpavvAf5u5v9bNrxOF3V5IGJZzJGtvLV-liSxwaJ-YsmBcvQ3dmlLZI3-gLyHpyQWMksm29MAFG0WJmr12aXfrGQjw./download [following]\n",
            "--2021-01-26 18:09:42--  https://public.boxcloud.com/d/1/b1!LagyvaF_px8DAvCFvOZudebujFUcCJWZ8U5qDYe74jMp64fEPM0_rVylzjO2Cj3iCRNRZnQqPBrK3Q4y4Awach4BhmLKFuqMe-dRho9KwKZGchCNRoGtVf_60uqCinDuoPFjifc46vRa02IS54zXGLTd3o2fS-LtDsV7Myz2AlhhHYm0HNgLjU03H0Rl62KZzSd3nzx0c8jNC9y4nY44JtB0D1a37FWSv3NsEYYgVEgrKdPMHrq87-8dAdhc-0hf2WfvN2QIAUwoymoIjX_FtMpV7UuUrJDlmFMciuEmOCFVBI9wvRr6077yfwXFeESCm2JY38obl65h5Q6mcRq36VJbkzzHv7ivgIn95eCOMB1Q6cqUOybI28poxv2W9bVBp4ymUwaIFuAZSIPQ64I7EH4jO8dfnPtV7upvvI99Gtkq-lxa-oWIvCfs1EZWwcaXqzBFRQ2iW4sYU1dgPDPJxlEX6y9RRjcu6UclU5LlhyBHfJDPnyz7RM0nBsFS5MuTe2PYV_LH6FoPp_msA4IeGgmq2MNeO8vIDeT4LwHFZ2ooggHFetmAFdkepqRGdFuzA7PrYrudHb8UbYTQ026V5nKh6yrdS9FJtn1W7gPTONIwZHFik9htCdAVhPYCj32M7nEdDzAl9nXwV5au8ipe24NkgPxm0N7m5Av9GsDLIVtkIVGBgN9b8GOilVwaFCeySiJ9rm4vfOWZuuXr7xPbjZ30bA-L6qq7aGwyWypuGCFsFlDN0sWdhp72Wm3nXMq_cluH0nkIApVH2qtgMID4KhNHwAPqWggfENTn0M8afW3q43Lds6DsfKMoRY64YbqD1g-9craN5sCmPLSTnXk52Z5XlAkov4puhUFp7ySOlrLCy5DGnVwQX_akrstz81-qwwQZrWrzM_GGU1w4bIY1nwHVOM-3vImX1a_P_5wqTo_KwShyLmqbhXQgPsYTg01j87BDPXxM9nwC2Jv_-5fhlqZdY7tJj082izaVvZn3Hat__EXd_5Ytd5XMSR9LSeOh73DK0OPHBPcEIMfVh7xExtKpgXfittku9DHeHmqxo-iAFQJPIqL8f8s1YK4V50pgxt5xgAEILRIXSnh3u3ydaRkjJNXd1EOterAFn5v4YH-BEekYr5WOr9IlXg2m1a3tmmxlCeUw4DNEG02pSl7cA77jc-RSyKdf2nrJCMVbVDOfGkYe4wH8IbW2z5Jk5-CPBeZpmlCqLd9Dnbw7zOBc7ta1quQ0DXfP8ZjTBiULbWn_Uu59hnXJYkAfkhxNbBlkOT6j2LPRLQp9CpYYLmTMs5OAkYJfpMrK2XpavvAf5u5v9bNrxOF3V5IGJZzJGtvLV-liSxwaJ-YsmBcvQ3dmlLZI3-gLyHpyQWMksm29MAFG0WJmr12aXfrGQjw./download\n",
            "Resolving public.boxcloud.com (public.boxcloud.com)... 107.152.26.200\n",
            "Connecting to public.boxcloud.com (public.boxcloud.com)|107.152.26.200|:443... connected.\n",
            "HTTP request sent, awaiting response... 200 OK\n",
            "Length: 13165 (13K) [application/zip]\n",
            "Saving to: ‘yolov3/data_cross_domain.zip’\n",
            "\n",
            "yolov3/data_cross_d 100%[===================>]  12.86K  --.-KB/s    in 0s      \n",
            "\n",
            "2021-01-26 18:09:43 (107 MB/s) - ‘yolov3/data_cross_domain.zip’ saved [13165/13165]\n",
            "\n",
            "--2021-01-26 18:09:43--  https://duke.box.com/shared/static/ykjo4zayu9ftd3xzc05wvmjucx1s5uyn.zip\n",
            "Resolving duke.box.com (duke.box.com)... 107.152.26.197\n",
            "Connecting to duke.box.com (duke.box.com)|107.152.26.197|:443... connected.\n",
            "HTTP request sent, awaiting response... 301 Moved Permanently\n",
            "Location: /public/static/ykjo4zayu9ftd3xzc05wvmjucx1s5uyn.zip [following]\n",
            "--2021-01-26 18:09:43--  https://duke.box.com/public/static/ykjo4zayu9ftd3xzc05wvmjucx1s5uyn.zip\n",
            "Reusing existing connection to duke.box.com:443.\n",
            "HTTP request sent, awaiting response... 301 Moved Permanently\n",
            "Location: https://duke.app.box.com/public/static/ykjo4zayu9ftd3xzc05wvmjucx1s5uyn.zip [following]\n",
            "--2021-01-26 18:09:43--  https://duke.app.box.com/public/static/ykjo4zayu9ftd3xzc05wvmjucx1s5uyn.zip\n",
            "Resolving duke.app.box.com (duke.app.box.com)... 107.152.26.201\n",
            "Connecting to duke.app.box.com (duke.app.box.com)|107.152.26.201|:443... connected.\n",
            "HTTP request sent, awaiting response... 302 Found\n",
            "Location: https://public.boxcloud.com/d/1/b1!KengtvkbHKZJjS6XDcsDakRnGtr2T-HINHOhLBj7UaxA6ZkP1-fE2YV7SaIMUPDD6vi3wp2lni9Fh59EYhX_g25EQkC-52hQEvNbQyKpAwBj0_DPlEdTrUy2XwqNFM3lR6wUi2UizowU7lU-7Lfie-2Lof3JG-grIsP339hbKckLGXCCOxBe6JCnb8QiTmULoV-jbzTdMzNSLauuQtNgp1S3qjN9NlOM2WJci1cn_Z7QlKk8jnHBwCQkmjfErSQamrMku960mvZDaLXVPx0HyPK_1p3DFIklqxr8CNpl1drRQLt9pR-_yJVZ5wz3pViwkCi3h2A3uIMF1I03-i7-EDR2FZsrFHkrUKI_4L_BxYNkz_Rhhxoro6arvht5mwkPeWjLKV-UlZdIaoteQVrPTF4YzIiZ-pGFs2doRG5Ha4mn73izlY3F8NOXycTZV6f7LjF3h5ERzrIvFsm459TsrrMuU9c6f6qYLs2HvJe7gIjfBjSq-8Tdp88GHQr8rh803Dc7fiXdDtbdPxKceMoEvAfxEVbzMBFmAYhtVId8QrbjsVLAi1Dx-0ebzur930Ytzf0NCeFocBFgZezLrrI7QdKYsSCalJlIBX_5ynZh4t_0LkLtYEMXyTaQ2hMzTRUAmvI8-72P_w8k9x5YsrlNVWCfYJ5UGvaIBbtNWtBAEcgPL5UaEHb9tZZP-PtHAqF_l2lVlVOHLcv1RGvwAG1GsJkt-Iw5EdhrYcKdgMuW5oYSWNUu_NlpBwO4QS_QikGqLIQe-aMOroS6YrTrzmrea_bmuoWngeM_XNgNsp6XvbOT3n4uuaxWP0dkRWjEQobe31V7EmjEUWWHohym9OSKFaxRuq228GrnOL587Ag6qCCuqsEsvKhd0h4tC6PL1wdzuREehvchQJURh62h-kMHdVMDxbubx6Wnr4157FHdAWwVyag2UzS5ybItQu1GJi4GYD-n_zVNcx-1xaHWS25phJpa1B7vzg7rUzmuUZq8FOEK3iL77ke3lK_F2h2dKuIbmuRiogKjwVoUAeJgvw9cuBpJXzDDD2zOEpC5BJZnT56qRqvK-N4lkL-5B-Y_m9Dod0Cbp-bNQnpZHoUqYBGabpiWFS80IeeQllqx0n4O0hgM3AgFaIpA9_HEKRs9lFhlSmd9hx2AfNaKuuHcKtu37P1-Bz1lmSEpUajG2RU3FqV7XYUIKbElG785ifgPMeV5eI6cX_XnEQt4hjsjN7_eU48WDKr2P-MBvj_pWpEIh4nrfcw4NZv4xOPpT5tjzcN08xdxDiT6k9n7isdEa2p6cyYPdDuqK2BJhQqD1DFyRLwv0GzTSX2-b6QAlu43WByPOUAL2C66fqfz-Qout_dh5yFFD_L2vDrjU4PkLo0mrnv3gAXemxtTu8JOiaDrPU9UMNN_6ZwOUQue7Gku4w../download [following]\n",
            "--2021-01-26 18:09:44--  https://public.boxcloud.com/d/1/b1!KengtvkbHKZJjS6XDcsDakRnGtr2T-HINHOhLBj7UaxA6ZkP1-fE2YV7SaIMUPDD6vi3wp2lni9Fh59EYhX_g25EQkC-52hQEvNbQyKpAwBj0_DPlEdTrUy2XwqNFM3lR6wUi2UizowU7lU-7Lfie-2Lof3JG-grIsP339hbKckLGXCCOxBe6JCnb8QiTmULoV-jbzTdMzNSLauuQtNgp1S3qjN9NlOM2WJci1cn_Z7QlKk8jnHBwCQkmjfErSQamrMku960mvZDaLXVPx0HyPK_1p3DFIklqxr8CNpl1drRQLt9pR-_yJVZ5wz3pViwkCi3h2A3uIMF1I03-i7-EDR2FZsrFHkrUKI_4L_BxYNkz_Rhhxoro6arvht5mwkPeWjLKV-UlZdIaoteQVrPTF4YzIiZ-pGFs2doRG5Ha4mn73izlY3F8NOXycTZV6f7LjF3h5ERzrIvFsm459TsrrMuU9c6f6qYLs2HvJe7gIjfBjSq-8Tdp88GHQr8rh803Dc7fiXdDtbdPxKceMoEvAfxEVbzMBFmAYhtVId8QrbjsVLAi1Dx-0ebzur930Ytzf0NCeFocBFgZezLrrI7QdKYsSCalJlIBX_5ynZh4t_0LkLtYEMXyTaQ2hMzTRUAmvI8-72P_w8k9x5YsrlNVWCfYJ5UGvaIBbtNWtBAEcgPL5UaEHb9tZZP-PtHAqF_l2lVlVOHLcv1RGvwAG1GsJkt-Iw5EdhrYcKdgMuW5oYSWNUu_NlpBwO4QS_QikGqLIQe-aMOroS6YrTrzmrea_bmuoWngeM_XNgNsp6XvbOT3n4uuaxWP0dkRWjEQobe31V7EmjEUWWHohym9OSKFaxRuq228GrnOL587Ag6qCCuqsEsvKhd0h4tC6PL1wdzuREehvchQJURh62h-kMHdVMDxbubx6Wnr4157FHdAWwVyag2UzS5ybItQu1GJi4GYD-n_zVNcx-1xaHWS25phJpa1B7vzg7rUzmuUZq8FOEK3iL77ke3lK_F2h2dKuIbmuRiogKjwVoUAeJgvw9cuBpJXzDDD2zOEpC5BJZnT56qRqvK-N4lkL-5B-Y_m9Dod0Cbp-bNQnpZHoUqYBGabpiWFS80IeeQllqx0n4O0hgM3AgFaIpA9_HEKRs9lFhlSmd9hx2AfNaKuuHcKtu37P1-Bz1lmSEpUajG2RU3FqV7XYUIKbElG785ifgPMeV5eI6cX_XnEQt4hjsjN7_eU48WDKr2P-MBvj_pWpEIh4nrfcw4NZv4xOPpT5tjzcN08xdxDiT6k9n7isdEa2p6cyYPdDuqK2BJhQqD1DFyRLwv0GzTSX2-b6QAlu43WByPOUAL2C66fqfz-Qout_dh5yFFD_L2vDrjU4PkLo0mrnv3gAXemxtTu8JOiaDrPU9UMNN_6ZwOUQue7Gku4w../download\n",
            "Resolving public.boxcloud.com (public.boxcloud.com)... 107.152.26.200\n",
            "Connecting to public.boxcloud.com (public.boxcloud.com)|107.152.26.200|:443... connected.\n",
            "HTTP request sent, awaiting response... 200 OK\n",
            "Length: 10276 (10K) [application/zip]\n",
            "Saving to: ‘yolov3/data_cross_domain_adding_synthetic.zip’\n",
            "\n",
            "yolov3/data_cross_d 100%[===================>]  10.04K  --.-KB/s    in 0s      \n",
            "\n",
            "2021-01-26 18:09:44 (141 MB/s) - ‘yolov3/data_cross_domain_adding_synthetic.zip’ saved [10276/10276]\n",
            "\n"
          ],
          "name": "stdout"
        }
      ]
    },
    {
      "cell_type": "code",
      "metadata": {
        "colab": {
          "base_uri": "https://localhost:8080/",
          "height": 36
        },
        "id": "BDGb9ORBwfnO",
        "outputId": "ed2d43a9-309c-4b51-bda9-ab4ec8ba2169"
      },
      "source": [
        "%pwd"
      ],
      "execution_count": 6,
      "outputs": [
        {
          "output_type": "execute_result",
          "data": {
            "application/vnd.google.colaboratory.intrinsic+json": {
              "type": "string"
            },
            "text/plain": [
              "'/content'"
            ]
          },
          "metadata": {
            "tags": []
          },
          "execution_count": 6
        }
      ]
    },
    {
      "cell_type": "code",
      "metadata": {
        "colab": {
          "base_uri": "https://localhost:8080/"
        },
        "id": "JoaBwsArwgxq",
        "outputId": "12f2a054-0338-480b-d93a-8a2f198c844e"
      },
      "source": [
        "%cd yolov3"
      ],
      "execution_count": 7,
      "outputs": [
        {
          "output_type": "stream",
          "text": [
            "/content/yolov3\n"
          ],
          "name": "stdout"
        }
      ]
    },
    {
      "cell_type": "code",
      "metadata": {
        "colab": {
          "base_uri": "https://localhost:8080/"
        },
        "id": "PeLhhj6Jwi-y",
        "outputId": "70e4ef9d-e40e-41ff-defe-2c1d56519342"
      },
      "source": [
        "# Training on farmland and validating on desert\n",
        "!python3 train.py --cfg cfg/yolov3-spp.cfg --data data_cross_domain/wnd_px10_seed17.data --img-size 608 --epochs 2 --batch-size 10 #--device 0"
      ],
      "execution_count": null,
      "outputs": [
        {
          "output_type": "stream",
          "text": [
            "Apex recommended for faster mixed precision training: https://github.com/NVIDIA/apex\n",
            "Namespace(adam=False, batch_size=10, bucket='', cache_images=False, cfg='cfg/yolov3-spp.cfg', data='data_cross_domain/wnd_px10_seed17.data', device='', epochs=2, evolve=False, freeze_layers=False, img_size=[608], multi_scale=False, name='', nosave=False, notest=False, rect=False, resume=False, single_cls=False, weights='weights/yolov3-spp-ultralytics.pt')\n",
            "Using CPU\n",
            "\n",
            "Start Tensorboard with \"tensorboard --logdir=runs\", view at http://localhost:6006/\n",
            "2021-01-26 18:10:06.951893: I tensorflow/stream_executor/platform/default/dso_loader.cc:49] Successfully opened dynamic library libcudart.so.10.1\n",
            "Model Summary: 225 layers, 6.25733e+07 parameters, 6.25733e+07 gradients\n",
            "Optimizer groups: 76 .bias, 76 Conv2d.weight, 73 other\n",
            "  % Total    % Received % Xferd  Average Speed   Time    Time     Time  Current\n",
            "                                 Dload  Upload   Total   Spent    Left  Speed\n",
            "100   408    0   408    0     0   2598      0 --:--:-- --:--:-- --:--:--  2582\n",
            "  0     0    0     0    0     0      0      0 --:--:-- --:--:-- --:--:--     0\n",
            "  0     0    0     0    0     0      0      0 --:--:-- --:--:-- --:--:--     0\n",
            "100  240M    0  240M    0     0   142M      0 --:--:--  0:00:01 --:--:--  220M\n",
            "Downloading https://drive.google.com/uc?export=download&id=1UcR-zVoMs7DH5dj3N1bswkiQTA4dmKF4 as weights/yolov3-spp-ultralytics.pt... Done (2.1s)\n",
            "Reading image shapes: 100% 677/677 [00:00<00:00, 3229.01it/s]\n",
            "Caching labels data_cross_domain/wnd_train_img_px10_seed17.txt (490 found, 187 missing, 0 empty, 0 duplicate, for 677 images): 100% 677/677 [00:00<00:00, 4805.97it/s]\n",
            "Reading image shapes: 100% 517/517 [00:00<00:00, 3335.97it/s]\n",
            "Caching labels data_cross_domain/wnd_val_img_px10_seed17.txt (403 found, 114 missing, 0 empty, 0 duplicate, for 517 images): 100% 517/517 [00:00<00:00, 4401.26it/s]\n",
            "Image sizes 608 - 608 train, 608 test\n",
            "Using 2 dataloader workers\n",
            "Starting training for 2 epochs...\n",
            "\n",
            "     Epoch   gpu_mem      GIoU       obj       cls     total   targets  img_size\n",
            "       0/1        0G      8.37      6.84         0      15.2        13       608:   3% 2/68 [03:15<1:49:04, 99.16s/it] "
          ],
          "name": "stdout"
        }
      ]
    }
  ]
}