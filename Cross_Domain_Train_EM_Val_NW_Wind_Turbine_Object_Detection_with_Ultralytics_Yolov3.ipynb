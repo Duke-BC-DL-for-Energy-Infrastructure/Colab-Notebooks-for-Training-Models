{
  "nbformat": 4,
  "nbformat_minor": 0,
  "metadata": {
    "accelerator": "GPU",
    "colab": {
      "name": "Cross Domain Train EM Validate NW Wind Turbine Object Detection with Ultralytics Yolov3.ipynb",
      "provenance": [],
      "collapsed_sections": [],
      "include_colab_link": true
    },
    "kernelspec": {
      "display_name": "Python 3",
      "language": "python",
      "name": "python3"
    },
    "language_info": {
      "codemirror_mode": {
        "name": "ipython",
        "version": 3
      },
      "file_extension": ".py",
      "mimetype": "text/x-python",
      "name": "python",
      "nbconvert_exporter": "python",
      "pygments_lexer": "ipython3",
      "version": "3.7.9"
    }
  },
  "cells": [
    {
      "cell_type": "markdown",
      "metadata": {
        "id": "view-in-github",
        "colab_type": "text"
      },
      "source": [
        "<a href=\"https://colab.research.google.com/github/Duke-BC-DL-for-Energy-Infrastructure/Colab-Notebooks-for-Training-Models/blob/main/Cross_Domain_Train_EM_Val_NW_Wind_Turbine_Object_Detection_with_Ultralytics_Yolov3.ipynb\" target=\"_parent\"><img src=\"https://colab.research.google.com/assets/colab-badge.svg\" alt=\"Open In Colab\"/></a>"
      ]
    },
    {
      "cell_type": "code",
      "metadata": {
        "id": "e5ylFIvlCEym"
      },
      "source": [
        "import time\n",
        "import glob\n",
        "import torch\n",
        "import os\n",
        "\n",
        "from IPython.display import Image, clear_output \n",
        "print('PyTorch %s %s' % (torch.__version__, torch.cuda.get_device_properties(0) if torch.cuda.is_available() else 'CPU'))"
      ],
      "execution_count": null,
      "outputs": []
    },
    {
      "cell_type": "code",
      "metadata": {
        "id": "pV5YkKaY2Kty"
      },
      "source": [
        "!git clone https://github.com/Duke-BC-DL-for-Energy-Infrastructure/yolov3.git  # clone our fork of the ultralytics repo"
      ],
      "execution_count": null,
      "outputs": []
    },
    {
      "cell_type": "code",
      "metadata": {
        "id": "tIFv0p1TCEyj"
      },
      "source": [
        "!mkdir -p data/\n",
        "\n",
        "# get our data and unzip it\n",
        "!wget -nc -O data/images.zip https://duke.box.com/shared/static/gc6g6054alnjtp0isdcccuxdr5wl59xy.zip\n",
        "!wget -nc -O data/labels.zip https://duke.box.com/shared/static/nawqed2wofslp2dw5d9j17i35mmb0ul5.zip\n",
        "\n",
        "!unzip -n -q data/images.zip -d data\n",
        "!unzip -n -q data/labels.zip -d data\n",
        "\n",
        "# get the synthetic images and labels and unzip those into the same directory\n",
        "!wget -nc -O data/synthetic_images.zip https://duke.box.com/shared/static/o9zrrwu0oll5p4dh8y6n0i7r8o96ynex.zip\n",
        "!wget -nc -O data/synthetic_labels.zip https://duke.box.com/shared/static/zd1wqzuwf4ps4tp0yddoxx4oak0uv9pi.zip\n",
        "\n",
        "!unzip -n -q data/synthetic_images.zip -d data\n",
        "!unzip -n -q data/synthetic_labels.zip -d data"
      ],
      "execution_count": null,
      "outputs": []
    },
    {
      "cell_type": "code",
      "metadata": {
        "id": "WbROV33RkX4w"
      },
      "source": [
        "# get modified cfg file that works for 1 class\n",
        "!rm -rf yolov3/cfg \n",
        "\n",
        "!wget -nc -O yolov3/cfg.zip https://duke.box.com/shared/static/pq52dolw5lo5ds8fd7g9v72ekzlngekz.zip\n",
        "!unzip -n -q yolov3/cfg.zip -d yolov3"
      ],
      "execution_count": null,
      "outputs": []
    },
    {
      "cell_type": "code",
      "metadata": {
        "id": "22N_5bxDlf9R"
      },
      "source": [
        "# GET CROSS DOMAIN DATA\r\n",
        "# delete the original data folder so we can unzip our own data folder with the wind turbine data\r\n",
        "!rm -rf yolov3/data\r\n",
        "\r\n",
        "# load in the data.zip file from the box\r\n",
        "!wget -nc -O yolov3/data_cross_domain.zip https://duke.box.com/shared/static/evby18p7boy9656p1wttg6rqallmfzxj.zip\r\n",
        "!unzip -n -q yolov3/data_cross_domain.zip -d yolov3\r\n",
        "\r\n",
        "# get the synthetic_data file from the box\r\n",
        "!wget -nc -O yolov3/data_cross_domain_adding_synthetic.zip https://duke.box.com/shared/static/vj5cxo8rvg4l7hos8vqpawnbflfs33w8.zip\r\n",
        "!unzip -n -q yolov3/data_cross_domain_adding_synthetic.zip -d yolov3"
      ],
      "execution_count": null,
      "outputs": []
    },
    {
      "cell_type": "code",
      "metadata": {
        "id": "lMTNw1F7shGy"
      },
      "source": [
        "%pwd"
      ],
      "execution_count": null,
      "outputs": []
    },
    {
      "cell_type": "code",
      "metadata": {
        "id": "s0Q7WZXVkJ5A"
      },
      "source": [
        "%cd yolov3"
      ],
      "execution_count": null,
      "outputs": []
    },
    {
      "cell_type": "code",
      "metadata": {
        "id": "7AXYHvkvQt_3"
      },
      "source": [
        "# Training on EM, Validating NW\n",
        "!python3 train.py --cfg cfg/yolov3-spp.cfg --data data_cross_domain/wnd_px10_seed17.data --img-size 608 --epochs 300 --batch-size 10 --device 0"
      ],
      "execution_count": null,
      "outputs": []
    },
    {
      "cell_type": "code",
      "metadata": {
        "id": "3RPZJORuRKub"
      },
      "source": [
        "!python3 test.py --cfg cfg/yolov3-spp.cfg --data data_cross_domain/wnd_px10_seed17.data --img-size 608 --weights weights/last.pt"
      ],
      "execution_count": null,
      "outputs": []
    },
    {
      "cell_type": "code",
      "metadata": {
        "id": "Mupsoa0lzSPo",
        "outputId": "0251f57e-7368-4d0f-e488-565f2f745d6f",
        "colab": {
          "base_uri": "https://localhost:8080/"
        }
      },
      "source": [
        "# Training on EM + synthetic NW\r\n",
        "!python3 train.py --cfg cfg/yolov3-spp.cfg --data data_cross_domain_adding_synthetic/wnd_syn_real_seed17.data --img-size 608 --epochs 300 --batch-size 10 --device 0"
      ],
      "execution_count": null,
      "outputs": [
        {
          "output_type": "stream",
          "text": [
            "Apex recommended for faster mixed precision training: https://github.com/NVIDIA/apex\n",
            "Namespace(adam=False, batch_size=10, bucket='', cache_images=False, cfg='cfg/yolov3-spp.cfg', data='data_cross_domain_adding_synthetic/wnd_syn_real_seed17.data', device='0', epochs=300, evolve=False, freeze_layers=False, img_size=[608], multi_scale=False, name='', nosave=False, notest=False, rect=False, resume=False, single_cls=False, weights='weights/yolov3-spp-ultralytics.pt')\n",
            "Using CUDA device0 _CudaDeviceProperties(name='Tesla T4', total_memory=15109MB)\n",
            "\n",
            "Start Tensorboard with \"tensorboard --logdir=runs\", view at http://localhost:6006/\n",
            "2021-02-13 19:29:06.068004: I tensorflow/stream_executor/platform/default/dso_loader.cc:49] Successfully opened dynamic library libcudart.so.10.1\n",
            "Model Summary: 225 layers, 6.25733e+07 parameters, 6.25733e+07 gradients\n",
            "Optimizer groups: 76 .bias, 76 Conv2d.weight, 73 other\n",
            "  % Total    % Received % Xferd  Average Speed   Time    Time     Time  Current\n",
            "                                 Dload  Upload   Total   Spent    Left  Speed\n",
            "100   408    0   408    0     0   1933      0 --:--:-- --:--:-- --:--:--  1933\n",
            "  0     0    0     0    0     0      0      0 --:--:-- --:--:-- --:--:--     0\n",
            "  0     0    0     0    0     0      0      0 --:--:-- --:--:-- --:--:--     0\n",
            "100  240M    0  240M    0     0   106M      0 --:--:--  0:00:02 --:--:--  146M\n",
            "Downloading https://drive.google.com/uc?export=download&id=1UcR-zVoMs7DH5dj3N1bswkiQTA4dmKF4 as weights/yolov3-spp-ultralytics.pt... Done (2.7s)\n",
            "Reading image shapes: 100% 596/596 [00:01<00:00, 545.91it/s]\n",
            "Caching labels data_cross_domain_adding_synthetic/wnd_syn_real_train_img_seed17.txt (482 found, 110 missing, 4 empty, 0 duplicate, for 596 images): 100% 596/596 [00:00<00:00, 9824.39it/s]\n",
            "Reading image shapes: 100% 228/228 [00:00<00:00, 13457.85it/s]\n",
            "Caching labels data_cross_domain_adding_synthetic/wnd_syn_real_val_img_seed17.txt (168 found, 60 missing, 0 empty, 0 duplicate, for 228 images): 100% 228/228 [00:00<00:00, 10828.91it/s]\n",
            "Image sizes 608 - 608 train, 608 test\n",
            "Using 2 dataloader workers\n",
            "Starting training for 300 epochs...\n",
            "\n",
            "     Epoch   gpu_mem      GIoU       obj       cls     total   targets  img_size\n",
            "  0% 0/60 [00:00<?, ?it/s]/usr/local/lib/python3.6/dist-packages/torch/cuda/memory.py:346: FutureWarning: torch.cuda.memory_cached has been renamed to torch.cuda.memory_reserved\n",
            "  FutureWarning)\n",
            "     0/299      8.8G      7.17      2.32         0       9.5         7       608: 100% 60/60 [01:16<00:00,  1.28s/it]\n"
          ],
          "name": "stdout"
        }
      ]
    },
    {
      "cell_type": "code",
      "metadata": {
        "id": "0v0RFtO-WG9o"
      },
      "source": [
        "!python3 test.py --cfg cfg/yolov3-spp.cfg --data data_cross_domain_adding_synthetic/wnd_syn_real_seed17.data --img-size 608 --weights weights/last.pt"
      ],
      "execution_count": null,
      "outputs": []
    },
    {
      "cell_type": "code",
      "metadata": {
        "id": "4DSdiNm680qB"
      },
      "source": [
        "# Create folder for validation dataset, so that we can run detect.py on it\r\n",
        "\r\n",
        "VAL_PATH = 'data_cross_domain/wnd_val_img_px10_seed17.txt' # Provide path to .txt file for validation set\r\n",
        "\r\n",
        "from shutil import copyfile\r\n",
        "%mkdir ../data/val\r\n",
        "\r\n",
        "with open(VAL_PATH, 'r') as f:\r\n",
        "  val_imgs =  [path.replace('\\n', '') for path in f.readlines()]\r\n",
        "\r\n",
        "for img in val_imgs:\r\n",
        "  # copy image to val folder\r\n",
        "  copyfile(img, img.replace('images', 'val'))"
      ],
      "execution_count": null,
      "outputs": []
    },
    {
      "cell_type": "code",
      "metadata": {
        "id": "Vnjgge8PvUM4"
      },
      "source": [
        "# DETECT using last.pt\r\n",
        "!python3 detect.py --names data_cross_domain/wnd.names --weights weights/last.pt --source ../data/val --img-size 608"
      ],
      "execution_count": null,
      "outputs": []
    }
  ]
}